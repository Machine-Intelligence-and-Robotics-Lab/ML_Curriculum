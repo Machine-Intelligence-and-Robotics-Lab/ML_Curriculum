{
  "cells": [
    {
      "cell_type": "markdown",
      "source": [
        "# Welcome to Google Colab!"
      ],
      "metadata": {
        "id": "UGGPsCLqM4jy"
      }
    },
    {
      "cell_type": "markdown",
      "source": [
        "\n",
        "\n",
        "Google Colab is a cloud-hosted ipython environment. Ipython is just like normal python, except you run code in independent cells, rather than interpreting a whole file at once. The below code snippet is one *cell* of code. \n",
        "\n",
        "Click on the run button on the left side of the cell (or click into the cell and press shift + enter) to run it. "
      ],
      "metadata": {
        "id": "3mzeaxYjp646"
      }
    },
    {
      "cell_type": "code",
      "execution_count": null,
      "metadata": {
        "id": "L7ERISCqyLM4",
        "colab": {
          "base_uri": "https://localhost:8080/"
        },
        "outputId": "2543ee11-283a-46f8-ad68-a3b3b3111598"
      },
      "outputs": [
        {
          "output_type": "stream",
          "name": "stdout",
          "text": [
            "Hello World!\n"
          ]
        }
      ],
      "source": [
        "#You can use the exact same syntax you use in any other python environment.\n",
        "print(\"Hello World!\")"
      ]
    },
    {
      "cell_type": "markdown",
      "source": [
        "Note that variables you make in one cell are available in other cells. See below for an example of what I mean. "
      ],
      "metadata": {
        "id": "vBRP3Q2DsqP_"
      }
    },
    {
      "cell_type": "code",
      "source": [
        "seconds_in_a_day = 24 * 60 * 60\n",
        "print(seconds_in_a_day)"
      ],
      "metadata": {
        "colab": {
          "base_uri": "https://localhost:8080/"
        },
        "id": "jaf0uTn_sySy",
        "outputId": "a8592a0a-55cb-45a9-85ac-0b0a22d9826a"
      },
      "execution_count": null,
      "outputs": [
        {
          "output_type": "stream",
          "name": "stdout",
          "text": [
            "86400\n"
          ]
        }
      ]
    },
    {
      "cell_type": "code",
      "source": [
        "print(seconds_in_a_day)"
      ],
      "metadata": {
        "colab": {
          "base_uri": "https://localhost:8080/"
        },
        "id": "C23I8uYAs6XS",
        "outputId": "a884f643-a6fd-40a5-aefb-80dbc1638279"
      },
      "execution_count": null,
      "outputs": [
        {
          "output_type": "stream",
          "name": "stdout",
          "text": [
            "86400\n"
          ]
        }
      ]
    },
    {
      "cell_type": "markdown",
      "source": [
        "One *really* important thing to realize is that *colab remembers the last cell you ran*. This means that your cells don't have to be executed in order! This is very powerful, but it can also lead to lots of confusion if you don't understand what's happening.\n",
        "\n",
        "Let's look at an example. Execute the two below cells in order. "
      ],
      "metadata": {
        "id": "vbI1EaFrtGZ4"
      }
    },
    {
      "cell_type": "code",
      "source": [
        "#first cell\n",
        "my_string = \"I was declared in the first cell\""
      ],
      "metadata": {
        "id": "ZcWXEWDxtnen"
      },
      "execution_count": null,
      "outputs": []
    },
    {
      "cell_type": "code",
      "source": [
        "#second cell\n",
        "my_string = \"I was declared in the second cell\""
      ],
      "metadata": {
        "id": "76_wdPiQttD4"
      },
      "execution_count": null,
      "outputs": []
    },
    {
      "cell_type": "markdown",
      "source": [
        "What do you think the value in my_string is? Take a guess, then run the below cell to find out. "
      ],
      "metadata": {
        "id": "NfGxBOFct8vv"
      }
    },
    {
      "cell_type": "code",
      "source": [
        "print(my_string)"
      ],
      "metadata": {
        "id": "qHq0Z-Got1oi",
        "colab": {
          "base_uri": "https://localhost:8080/"
        },
        "outputId": "4fb849ec-2010-4c6f-b0ac-95b1d4ba1f6d"
      },
      "execution_count": null,
      "outputs": [
        {
          "output_type": "stream",
          "name": "stdout",
          "text": [
            "I was declared in the first cell\n"
          ]
        }
      ]
    },
    {
      "cell_type": "markdown",
      "source": [
        "If you guessed the value is \"I was declared in the second cell\", you would be correct! This is because, when you ran the second cell, the original value of \"my_string\" was overwritten.\n",
        "\n",
        "Now, go back run the first cell. Then, print \"my_string\" again. You should see that it prints out \"I was declared in the first cell\". Even though the second cell is lower down, it was not the last thing ran, so it's value was overwritten. \n",
        "\n",
        "Feel free to take a moment to play around with this until you are comfortable with it. Declare your own variables and print statements in various order to explore how it works. \n",
        "\n"
      ],
      "metadata": {
        "id": "F6biWEMwuIAP"
      }
    },
    {
      "cell_type": "markdown",
      "source": [
        "# A Peek into the Hardware"
      ],
      "metadata": {
        "id": "G7jxZ62PNDn4"
      }
    },
    {
      "cell_type": "markdown",
      "source": [
        "**You may have noticed that the first cell you ran took longer than the rest of the cells to execute.**\n",
        "\n",
        "That's because google colab had to connect you to a runtime. When you first press run on a new colab notebook, it has to fetch computer hardware to actually run the code on. \n",
        "\n",
        "Google lets you use their hardware for free to run complex and memory-intenisve machine learning code that you may not otherwise be able to run. \n",
        "\n",
        "If you try running the \"Hello World\" snippet again, you'll notice that it runs much faster this time. \n",
        "\n",
        "Let's take a look at what hardware google gave you to run on."
      ],
      "metadata": {
        "id": "JAPXi9d2rLms"
      }
    },
    {
      "cell_type": "code",
      "source": [
        "!nvidia-smi"
      ],
      "metadata": {
        "colab": {
          "base_uri": "https://localhost:8080/"
        },
        "id": "vlXh-NcYrKop",
        "outputId": "65046bed-0124-4e5b-992c-4bda2026c53f"
      },
      "execution_count": null,
      "outputs": [
        {
          "output_type": "stream",
          "name": "stdout",
          "text": [
            "Sat Jan 28 01:10:45 2023       \n",
            "+-----------------------------------------------------------------------------+\n",
            "| NVIDIA-SMI 510.47.03    Driver Version: 510.47.03    CUDA Version: 11.6     |\n",
            "|-------------------------------+----------------------+----------------------+\n",
            "| GPU  Name        Persistence-M| Bus-Id        Disp.A | Volatile Uncorr. ECC |\n",
            "| Fan  Temp  Perf  Pwr:Usage/Cap|         Memory-Usage | GPU-Util  Compute M. |\n",
            "|                               |                      |               MIG M. |\n",
            "|===============================+======================+======================|\n",
            "|   0  Tesla T4            Off  | 00000000:00:04.0 Off |                    0 |\n",
            "| N/A   61C    P0    28W /  70W |      0MiB / 15360MiB |      0%      Default |\n",
            "|                               |                      |                  N/A |\n",
            "+-------------------------------+----------------------+----------------------+\n",
            "                                                                               \n",
            "+-----------------------------------------------------------------------------+\n",
            "| Processes:                                                                  |\n",
            "|  GPU   GI   CI        PID   Type   Process name                  GPU Memory |\n",
            "|        ID   ID                                                   Usage      |\n",
            "|=============================================================================|\n",
            "|  No running processes found                                                 |\n",
            "+-----------------------------------------------------------------------------+\n"
          ]
        }
      ]
    },
    {
      "cell_type": "markdown",
      "source": [
        "**Did you just get the error that \"NVIDIA-SMI has failed\"?**\n",
        "\n",
        "That's because google colab sometimes gives you a standard cpu runtime insted of a gpu runtime. GPU's are preferable in machine learning applications because they are better at running a lot of math operations in parallel.  \n",
        "\n",
        "If you didn't recieve this error, you can skip to the \"Intro to Linux Commands\". \n",
        "\n",
        "Luckilly, you can change your runtime from a CPU to a GPU really easily. Click on the bar chart in the upper right hand corner. \n",
        "![image.png](data:image/png;base64,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)\n",
        "\n",
        "You should see a button near the bottom that says \"Change runtime type\".\n",
        "\n",
        "![image.png](data:image/png;base64,iVBORw0KGgoAAAANSUhEUgAAAWgAAAMxCAYAAADG+ynDAAAAAXNSR0IArs4c6QAAAARnQU1BAACxjwv8YQUAAAAJcEhZcwAADsMAAA7DAcdvqGQAAH9WSURBVHhe7d0JXFTV4gfwn4KO66gpZCn5RNIIfSGmhvl0zBSzxFKifIYvETONV/qnxbAkWwgrnlYumWQmWUlmgmVSmVgG+Uz0JWgqWoqVghujiCPg/M+5cwcGGDY3jvr79pmYu8zd7++ee+44p55VABERKae+/peIiBTDgCYiUhQDmohIUQxoIiJFMaCJiBTFgCYiUlS9Xbt28Wt2REQKqrd///4KAe341WiLxYIbb7xR7yIiokulfsOGDVH+ZTAYtJd8T0REdaN+o0aN4OzFgCYiqlv17aVlx1KzY0maiIjqRn1XV1c4vho0aFDykt1ERFQ36ru4uMDxVb9+/TIvIiKqG/Xr1auHql5ERFQ3KhSRGcpERGpwWochQ1pWb7AOmoio7rCSmYhIUQxoIiJFMaCJiBRVZwFdUFCAyZMnw9PTs+R1++23Y8WKFSgqKtLHIiK6etV5CXrYsGGIj4/H4sWLMXToUDz//PNISkrSh1J5hw8fxoYNG/SuiuQwOQ4RXf7qPKDbtWunlZz79euHp556Cvfccw9SU1O1X9GT5C/rHTp0CGlpacjOzsbZs2e1/nb5+fnYsmULtm3bhsLCQr1vqePHj2Pjxo3YvXt3mZK5HFcOc+wnS/Wyn5yH7C/fy/FOnDiB9PR0nDp1ShtPDj948GClyyQ/I5dHLpdcPkdyXPkZ+Vm5XrVtVP3XX3/FokWLkJiYqPcpJcNZDpPjENHlT6k6aPnVPsff/zh9+jTeeOMN/OMf/8Do0aPRv39/TJw4EUeOHNGGyyC/4447MHLkSAwfPlx7L4NUkp99/fXX0atXL4waNQoBAQG4//77sXfvXm24HE+W3n///XetW/riiy8QGhqKvLw8rb8cPnPmTO3iERQUpIXusWPH8PTTT6NPnz4ly/T444+XLNMvv/yiXWTk8sjl6tu3L1atWqUFsQzryMhI7TPys/7+/nj55Ze1C0NNyenJacuAdgxpezjL5ZfjENHlr84D+o8//sCPP/6ovWbPno3PPvtMC1oZ1DLY1qxZo1V5yGCV45jNZnzwwQda2Mn6ahm8u3bt0kqNTzzxBJo3b65NV372o48+wltvvaUNlyXWG264QatCsYdpTaxbtw4LFizApk2b4O3tjXnz5mkl4+XLlyMrK0ubjyydf/fdd8jNzUV0dLS2THJ55PBnn30WsbGx2LNnD3bs2IH169dj5cqV2vqsXr0avr6+tf7HQTKgHUOa4Ux0ZarzgJYBFxISor0+//xzvPTSSxg8eLAWwN9++y26du2qBaoMZxlqN998sxa2stR5/fXXawH65Zdf4ujRoxgxYoTWuID9s//85z+1sJT/4Obaa6/VSt9yGjt37tTnXr1HH31UK4W3bt1aq+KQ85b9/Pz8tBK/j4+PNn9ZOs/IyNCC2MPDQwt0OW6zZs20AJal75YtW2rL8sknn2Dr1q3o0KGDVkqXP+9aW44hzXAmujLVeUDLsJPhJcP1b3/7m3b7L0PszJkzWolUBpms5rC/ZNXEddddp40zadIkjB07VislyyoHWZUhA9j+WTk9x9KpDGn5WVlqrylZ6rY7efKkVv3h2E+y/4tL+XBOjrNkyZKS5V24cKEWzPKOwMvLSyuNy7ptuawy5GW4nuu3VuRFw642dwVEdHlQog66adOmWulWPniT3+iQgSV/j9rNzQ3BwcFaVYYsXcuXLH3KqhB7aXTMmDFYu3atVlq95pprtCoIGcoyRGU1g2P4yYdzf/31V0nAygd29od08q98GFgVWX0i5yGrNBzZHyy2adNGK9XPmTOnZHlllY1cZvkNFalTp06YO3eudlGSVR9vv/22dhGqLcdqDWd10kR0+VPmIaEMrsceewxLly7Ff//7Xy20ZfDIr999+umnWglR1iU/9NBDWsk0JydHqxaJiIjQglcGrPwNa6lx48ZaNUlCQoJWmpXjykCU1Se33HKLVk0iS5+yikLWJcvhsg75/fff1z5fGXd3d9x1111aqMq6cfnAUF4cZDXFhx9+iO7du6N9+/Z48cUXtfpnuczygiOXRV4sZFjLagj5WXkxONcWa8rXOTtWdzCkia4gItiqJFv9vhhOnTplfeKJJ6wzZ87U+1itFovFOm3aNGtQUJBVlKathYWF1vfee8/q6+tr7dixo/YSgWw9evSoNv6mTZusJpOpZJgIypLllZ8VwW7t1atXyXBxAdCmax8up33jjTdqw0SIWkXoWe+77z5t+qKUbBXhZ/3pp5+08e0KCgqsouRrvemmm7TPyc+L4LeePHlSG75nzx7rP//5z5J5yvl/++23VlHC1saR49rnKachStvastTUDz/8YB07dqz2t7yVK1dWOoyILj/15P/0rHZK3s7Xdave8nvFsm5XljhlydqRrFqQ3+yQjEZjhUYGqvqsJB8oynHkwzx7XXJNyIeU8qt88gGfLLE7kptUlpDlsjmbblWfrY6s55al8coeCMoStCxNE9Hl77IIaCKiq5EyddBERFQWA5qISFEMaCIiRTGgiYgUxYAmIlIUA5qISFEMaCIiRTGgiYgUxYAmIlIUA5qISFEX7Z96t3vykP6OVPXHG9fq74hIRSxBExEp6pxL0LI/ERFdPOcc0NV8jIiIzhN/bpSISFGsgyYiUhQDmohIUQxoIiJFMaCJiBTFgCYiUhQDmohIUQxoIiJFMaCJiBTFgL6ipSPaMxQJB/XOi8qC7J/TkZ1v68pdHgrPmHRbxwVwoadHdDmos4DOnD8YniPjka1325lXTYRnv2ik6Sf61SA9xvMKCJ9MJE0YjbkbzHp3XTHjrScP4a1teifRZazOAtpnTCRCdkYjLsWi9xEs6ZjzegoCp4bDv6nejy4Tfnhs8w7EBBj1biI6X3VXxdHUhPAX/BH/dgKyimy9clfNQZxbJMIH6yd5UTZSYkLRu6soYXbtjdCYFGTr4zq7fddug0MTkKt3l1GUi7S3J2JwDzEtT18MfjQOmfZS+sEEhHpGI+Hzydq8on+29bZsi8fkkb5ifE/4joxC0j5b//JkCTh0aRqSng+CrxjXu08o4rY5XHgqXQ+5Dp4Iele8fTdIzCda9HHiQDKignvDW5t2EKJWld53aPNe7rDG2rqU3S7mTXEI7eMtpu+N3uMd1luwbIvDxEH6Og6aiLgtDiXg/Cwk6OukLffbacjVt78230UJmCu3j7bNbeti33aaoiwk2z/fQyz36rL3S9lro8ssV7pj4Vuus7bt5bC5WJftsD3PSzH2bzyC8GmHtN8sN71xBBknivVhYnv8dgwvRh9CdzGs+7QcvLjhlD4EyPkmB+0WH8Pqt+XwI9isldZz8PHm43jxJYfpFegfKGdz/CGMX3kci98onf7iX09j/4bDCJlq+3xI3HHsP6t/QCyreftRTNOn7f9SLj7+tXQ7VFweqer1o8uM/LGkquzatUt/dxGc3mx95R83WaevOy3ep1qn+4j3P4j3toHWdc/dZB30VKJ1t+x1erd1WdhN1pueWyeGSOKzHcdal/2ldWhyPh1r7Th2mTVH73a0e8Eg601hy2zTKsyzpr4qul9ItU3rr2XWsR07Wge9IOb1V571dKHoly36+YjpZ4kxCk9b96+Zbu33j1esm20zL2Pzqx2tHcW4S37J08bd/aFYjn/MsWZoQ6tbD/3zr27Wu8rbbV14503WsR/v1pbrdJZcrn7WOb/YhsrPjv3UYY21dbFvF7mNOor1XmLNOCo6T+rztq933hrrMz6DrK/8IJZbdv7winVQx0etiXJcsRUTxbiDXk215sntkZdhXSK6R364Xw4sWec5m/Zb8/Lk1GzzemWTNti2LzoOsk7/dr9Y7tPWHG3aI61LfrcNP536irXfna9YU+W8xP7IeM9h3xVmWOfIdV6coc379O/rrNPvrGobOcqzvhlx0Pqmvn3KO52eax08/bB1w3Ex4cJT1m2fH7JeP/Oo9ZAcaD5mjXzqkPXNn09p41r/OGp9THR/9Iet89DXYtyIQ9aY9Sesh8xynW3z8o09Yt0mp3fqhPWjmQetgxPMtg+U8/OSg9brp+da1/4hPivm/fMnYnrPHLQ+9N4x6yGxc08fOW59c/pBa+QPBbYP/H7E+pCY/zu/yOUptOb9fNg6TMz/o9+LtMEVl6ea9aPLTt0+JDT4IXxqABJeiUPC0ljE95qB8L4G27CDiViyVJSynw2El+xl8ELwazNhWroEiefw0MvjweXYOCfYNi1XI/zvNMHyaSoybYOFEEROFfNqa4TBVZQQP4xC7lORCO4kPuBqgEdACMJaxWPddn30cnzEuCHdRMlfjOs1cAhMBzZjjyzYnvd6mJGzxwt9/Ly05TJ0Go4Z8THwb1XTEqU/ZkSFwKeVeNtUzHtqJLw+WIYUWVo9lYecU37o0912x2LsG455S8bgZtmxZw0Wrg1G5BR/GMV8YfQRpbzZYmq5Yols5Do/dqsHjEZ9n5UXOgMzBnqI5TbArW8EIkenI2613OK5SFwYB9O0CLEeolPsD5/RYxCSsgZpcpttTcQcSzgiRvto8zZ0MCFsnL+c4nk6hdXfFOP2e5rj9hZiwq6N0fWuhpiQU4ifD4vBjRvjmedb4PEejW2jX2/AwDZW/PhraSkaNzXE5H7N4N7cvs718PTIa9BVTq9xMwzsXg8Z4vYoRx9a3tA+TXCHmK6cd4/+DTC0qB5GDG0Jd7FzDde0wO1ewOLfzogxi7H5+0LkiGWZ0E0ujyuMPVoiuqcVr33vcAtUZnmqWT+67NT5tziMg8MRaYzF1JfNiHgyGG56fxzIQkq3PrhZnsB2rTqha/sUZB3Qu2vB0MSCzHftVRziFRwnjmfHkDOgNGdykbVLjD9jsG1c7TUYUdsssFRyt+jWtIX+rtRpOe55r4cPhj9nxJwRvRH6vLiQbchGi27+8GtfSShWIMNAfyt18BIha0aezJy2A/DAg5mY2C8Ik1+OR9K2PHjc5g8vuazHspHp7wN5fSrRKUCEph/stczO1rkMEcylDOjk44/sPLnNs5GVAsSHyuoNfft6hyJeDJHbLPf3LFi6e8HDYbkblZnWuSpCtkjOBcuOabf/2muaBQvEEIusVnAVMzx0qqSKo92TJxAuxi+zzw315RYto5Ge5yVKquGccDzj7O+dnoUW7P8LuN3TcW4uuKFdfeT8VVx6ASizPNWsH1126jyg4eqFIaNMoqAXhkCt6FYVC04f1d/WigXpbwQh9JcBmPf9XuzdK14JYfqwygXO2Wob1+EVeas+8LzUZj0M8Aldiq0/LEV4LwMyPxiN3ndNRfIF+eqcGwKiV4kC6wzce1MOvnthGHz/GYfMC1XdWyUPRHxRdtvu3bsIwW31wRfR9Eeu1dpjLH254z53MSBHFBLeKUTLACN+ek32b445sr9CTp+pvqGMStePLjt1H9B2ohjQSH+rae8F07ZUbD+md0vHDiDrlAle7fVuEXRVllZKmEWJOBshE4LhZf92SKH+1ykjPDoYkLwpU86hVI3mVU6N1qMKx7KQtiEL5lZe8BsWghkLv8HMLglYtqH0waCl6LT+zply22ifmJ5YvxZNxJAD6Ujbki2W0QemoAjMXiYuAgejkSi/otbKAz5pmdjjuAFyM7Xxa5zfRY5jWrAnMw0eLWR5zw0e3bOxTs7bkb6cbn/zgmFLlsMDYRFMZaZ1rlzgdg2wYZfjdzhF8dheujx0FqvdG+DBHo1lwdSmzkqeBtxwHfDjXsf1FiXnXCvcr3OB87ytZv3osqNOQJfXdjjGjE7BnLdSoD3At2Qh6YVYpIweg+FaKcsDXqY0JHyeDrM4kS37xLgLxH2zUwa0aCMCNzEZ2fkWbdzoV+QNdWUM8L8/HB4fRCF6rS0ILQdSEHXvZCQ7fGGiRqpdDxlI/sCBA8i1iGWrcBHYg2WPTkKsvhw4lo6MXwwldaAeXiakfZqEdHkByM9GyoI4lN0KaYiaEY9MbXgWEmKikfWvB2AyirU0i2EhUUjYbqtVtuxLx+YDXnCXdRidhmD8wAREz0rTti/MmYiPDELsdu1aWjOLohC1VgS6CNfcDbGIXuqHsKE+YoAHho8LROarUYjX523eFo/QB+baSu++wxFumIPYpZm2fbsrCXPfS9PG0xTlIn1tWsk/iqm5pri7X31kfJ+Pj7PkRa0I5l15CH/lCDLkfJsBPXIKsXpXASwFBcj4Ih+v1VndrQt69GsA980F+Fgsj7as245j5qZ6eLpfZd9BrWb9jp7Ad1vya36BpTqnbkCLGDBFfY3wojkIkvXGPUZj5XUz8HWUSQ8INwS/OB9eyaPh29kb/Z5aB/f+lT1IMiIgajlCDk7H4G7e6P1/6+A1IQw+4lA1V3a03vwYln8WjJyYQVodqW/wErhPm4aAkkrymqpuPURcmcYg+Pdn0Nt7IpIdS9pSqwDMXBEGLLhH+5qd551zkDNhOWbo3zd2u3cG5ndZg9Fi2t6DpmCduwllt4IJEYEWxN7tDc9uwxDbJBKrnvS3zVus49KFPZD6RD/bOoaI7bLwPYR1lgPdEDh7FcLyY9Gvs5jvgChsNi3Fogc85MCaCQ1Dn5Qp6C32T+8n0mFaNB8hHWyDjENn4+tXPZAY1lubd78XsjDkVbFP5IK5+uCx92fDI0nft69nw2+ow1qdSkfCExORtEvvdmLmB3odbMnL9jU0Y99WSLynPla/n6f1C1h2FgMfaoaucr4dW2LOvfWxdpEZnlFmvJPfAI97AXkFdVQE7dACcx92wealZtuyrjyLoaFGjOrgoo9QUVXrZ/71NCKWnQabe758sE1CIiJFKVyCJiK6ujGgiYgUxYAmIlIUA5qISFEMaCIiRTGgiYgUxYAmIlIUA5qISFEMaCIiRTGgFXVO7RTqLcOwaVWqXNnGfVUkfxMmfZ/+GwxOWgiqVHXHf22mpYg6C2g2GusoFwmh5Zquoita3TUUXK5x35+jUWlTa3UkMykUo+emlDQMoRxtm4n9V/KSTehFI2nXhf8ZqjoLaDYaS1QX1G/c1+/fW7HjtYCShiHUFIbl9t8x3/YNZvln4ZkRz1T8sbPzVHdVHJe60Vhxa5e1PMr2i3J6Q6Ra80qC9rkypZmyDaA6byA1FHHL52rTs5d8K29k1jZ+/IYkh4ZQ9cZbtduu3piaAqQ83dvJ8ttK10FLHe419sRjmOdEJFVyMORusTcS64ug55Mdtpm+DewNtQZHIVlv1SXz7f7wLrMNshA/3BtRG/QLaH4m4iMcGoB1aLi2lG1Zy5YuxMthnSrdRvrtafmGe81bHMefjHjHxnjLy03D3PG2xnW1ZVyeVeanNcs2UhuNFIcWbWz7OAlx+udtDf+akb3afsyU3ZbaMfNyQplGcaNTSvecNj2njfnaji1nDQXXtJHiGh2vlTZiXDquVoqXLQshDkEOn6+qkeKyzv14suxKKDsPhwaFteWq7O6iqsafdVmV7LMKyufLu7afLq61pm7w+VcEwq9JQur/So+4qhpFrrKxZnN6ybl21TQam7NirPUmx0ZKF4vuEUussglU7XNlGiQt2wBqZQ2k3hQ2x7r59zyr1qvKRmbt45c23rpkbEdrv3m2ZmVlA63LRLdj46+ODcmWXy+t+7FEq62pVwcljd+us+4X8z2ds05s347WJ77UG4Vd80zpNhD2f1y6DayZc6z9fMTyygZipd+XWEf6TLemyuUv3C+Wz6Hh2uw11un/6Ce2j7ZylfsrUWyTQaXjVbWNnDXcmyWXYaTY7o6N2o60LsnSOssSx9IbDo3rWv+SDc2WHk+n100X6/6MNVGf92657mL91p3UBtu2952i+3c5PM+6+a2R1o5+t1hHlmzLVOsrd5ZuS20faA0F52iN4u7/dnqZRnGrbsy37P7V1KKR4poer84bMS47rnXTK9aOHcV89M7qGil2dM7HU7nGiq2/y3mU3XYl61duu9Ws8eey+8ze0HHZaZ22pr7Ur7RR5KMZ1oXlzsFKVdhmkjinA0uPjyobRa6qseZCMZ0RN1lHztusLVfdPiS8ZI3GZmHN4hQEl2mkNBKz+4rSSA0ruio2kOqDyKmPwa+DUWvLsPpGZuX4pY23DhlqQnb6nnKlZefcBt6LgJQ1WKettxlpKSkICDBVcgsoG781wUMshsHNJOYDJO/M0oYY+0Zi48pI2zYQPExD4L9lHbbIhbjZhOBrkpG2wzYsd9M6ZN4/BH5ydbfGI+pIJCIf1BuubR+AkHFGxP9Q2uRuRbmiBPcMDjwUg4hbbdus+m1UruHeT6ORO2GG2O62NZXLP2tKLqI/rVi6sqQlYm6T0mVEWxMiXo2EMV+23peLxCXxMD0eiUB93l4PzsZMUzyWfFW6B/zHhcHUQQ43wu++YPgf80HwOPu29MeQgUDSL7ZtqXlwPEK6uWmN4noMFCWooelISHEYXgu1baS4OpU2YlytmjdSfM7HUxMTIn9Yhci++hHcYQCG9ErHuvTqF7D6xp/DMGNa6T6LmBaC9AVJDsN1Il8WLhLLYW8UuZUPQsaEICU5rUbnZBlFZmR+EI3oPYG4y1+uUzWNIlfVWPPWBETnhmPGeD9tuer8WxyXptFYcau6zR8+2l7VuXohYEoI/PRjpDoVG0gVJ2ZJPXlNGpl1HF9XXFVTVQ5amXDX0BSs2ySuJuY0fLc6AHfZD+4KHBu/tbHYzy3RP/sr+y2pWMY+U7XWV7TGbcUFxDQKSNggD2V5EUhD8EA/7Yf9tUZct0VhcMm6eWLwjMzS6TqR+/kzeOb3EMT82zaNmm2jig33mrp56d02Hp26i9vjrAonkfmwuEXu6QXHsY23hiAiQDYwIBup9UGfmx23mRGdfDyQklV6a21wdWh0TYaTXHJ58lZGhF8pI7r39UfmX+fyaKv2jRRXp9JGjKtVi0aKRa9zOZ607fZXYkkVh6dexSdb56pO9Y0/y/2ovxEMXj7wP5BXpqpLI/MF8Qj11qcjXt6h8TU/J/VqIe2znX0x7EN3zFgxEwFaXlXdKHJVjTVr51p/H3jp61DnAX1pGo29NC5eI7NGmAICkPytuLqnpyJp6F0wOV64aih35WQMW2BARKK+nKkxEFu+hE//YGBNOrLkRSAlGEN6OpyUw+Zja7l12zvVTx9YzoEEPPP8AYS8GgG/chel891GFsu5BKBzltMlbWNfEOe7bBfv+KmNmjdSfM7H08EETL4nDobHv8DWXXI9NyLG8YOVOrfGnyvVPgKrHLa19lrkUEisUulDwq1zAsVW84BPmRbYq2oUueaNNdd9QNuJdbt4jcYa4dEtDZlZDlugKBeZG9Jt7QRq3U62To1dwEZmK2Hsfy8CV63EK58nVFG9UbVscVk3TRgPfzf9QBLLV2Z55W3psQQkfyAuAvcNsN2OCsa2HjCsFbeRjiNX8eAlYUYUDowrrdqwqe02coNXZwNStpWtMsg5sAeGzl4VTiJjG1FS3pQFx7Hl92nTdsnQlO1XZiJVb//QxowDe0QJ3asWTXhVySIKZZnwua50z1TdmK+jczh+Lkgjuk7UoJFiu3M9nrTSqykM4/vK6iHZQ2ynGq1OzRp/dmzX0yL2SVr7FraSuyM3D/gdWId0xwexVW3vKthrAWJX2rdR1Y0iV9VYs9Zg8vrMki9OqBPQ5V3QRmNFKf1hExJeiUWaDHxZZ7T0GQTNErdfYs9pG+WTZUg6IGZkEcH9wRztdqTmzreRWbFDPYE92dmiFFbJkWr0x13DkpG0yh8Dep5LPItJXOOFlNWJyMwVt865mYiPiYZDU6yCDwLGQWzHBIQM1NstFAy3BSP8unhExaQgVx44lmykvDIMk1c7OWlXRiHq9zDETLJXbdjVfhv53R8JtwWxiN9mC1bzz3MRNcsNkfdXLLkb/IfjsVPRiP5E3CLKZTyYguiw0ViTI5fCDcNl/eJb4viR+1iEW9bn0xGbEoIxd9W6kclSH4rjxL5sWqO4JoQE2CpZqmvMt2xDwbXbNud/vDpo6wV/cUt+QB4T2qFXdSPFjs71eILRHV4pa0Qg5cKSL5Z/qdhvZT9YiZo0/hyHqFdsmWHJTUOsGO43IVAsSTkdhmP8sExEvxyPTLkLtUwIRdB8/SKZm46UDTVswd7VC8HPhmHPC3OQon2jpOpGkatsrNk3GJFupQ0mqxvQYmdcuEZjxdj3zceqCRbE3inrjPohStwmLX0/RGxK4dYILH88F9P7ecOzz2jMsfTAcO1TtXCejcz6jYhE+w+D4N1jTsnXrsqSD0QCANMQDNBbA68tr9D3ML/dGozu7Q3f4bEw3xeBYMiTRB9B8OorSiengjHA3+GElI24frYcwX9FY5BsQLZHEJZcE4lpg8uvXC7SVqfAsmcughzq9kq+SlbbbdQpBIvi+yD1/2yN2vZ7dTeGf7YIIZ304Y4Mfoj4aBF6rJXHgye8RyyBYerXmKE/dDaYxLHzuAiLYF+tznD0anfM+HIGTOfzffuhfWBICNW+DuX7RCaGL52p38KK462axnwrNBRcm21zIY5Xu/YDMObBA3hGHBMT5QW3mkaKHZ3z8dQ5DO/N8cCah3vDu/c9iD36ACKCxNGTn6ePUJmaNP4chrCe6zClj9juvScifeAizHfa0LGYVuzXmNk2EaFiXC0TsoYgZoyPli/m9ARMfMLJw8VKGG4VpeiBCYh6O10L9SobRa6qsWYR9iHvL0WftClaY81sNPYykh7jjTle32NR0HmU+uiCkN9F7p0VXnk9PNEFoHAJmkrkm2HelYA5H5pw70CGM9HVggF9GUh/tzd8R8TD/bVIBJ7DtzeI6PLEKg4iIkWxBE1EpCgGNBGRohjQRESKuqoCuuLPNNL5KtP6xfnIOYbxTx7BZr2TiOo0oJ38dnDX3gh6PsH2L3voslCm9YvLsEkhIpXVeQna9NrGkh8T2ZG6HOGucRg2Nr7k36KT2i6P1i+ILk9KVXEYjB4wTY1EyJY4JO8SPfRWNhwrJRxbW7C3apH0hPzZQvt4lbecoinKRfq7eisKstUNh5YcqmutocpWEGrcOoPeGssqe6snttYWMs3ZZVrnKLNcQvWtgTi2+CLUqAUUoUbbOLnSbWYfVxtP+7nJFEzt49CaSI1b55CsyNt+BOHTDqHdk4cQEncc+8/qgwTLr0cx7SXbMP+XDmP1n/YNbMZbT+Zg8TdHEDL1EMZ/c0rrW/n4RJeHy78OelEcNt+5FN9vjoD8R7e5n0+0/QTit6JUvmsjFvXdjNBHHRqnXRSLxE4z8P3WHdgY64eU8Fgk6zmbtWi07acMU+Vnv8eMvyUg6I002w+mmEXQjEqAR9T3Wmn/+ygPJIx8Rm92yoK0mIcQjfH4Zqv47A+L0OenIEwu+XWr8lKQkO6FGd/swN7NSzHmaDRGD5iCVNMsbNwllutNP6Q5LJclJQqDY8y4N36rWK6tWDowCxOHROk/zGKT8p81wLOrsHX2cLjJX5T7dxDW9YwR0xN3JonjgdfF8v18jnXFVWwzO7egRfrPTZoQI7af7Z+jZyFu7GRkj1iq/azk1vhgZD/7EOZus32momLM/skF06e3xt7IRui6z4IFqfovwh08hvBFRbj14Vb447VWSBwAvDk/D5tLVsmKN8V0Jz/eArH9DDUYn0h9agW09otSSxDfPgD+zn4Qx5nRkYgc5gW3VvJXSGrQcoocf6CH1gqGm2kIApCMjD22QVW21lBVKwi1bp3BH2GypQ75Qz2t/BB4vz/MNwUjzL5cfYeImEvCZnkXIaZQk9ZAyrT4ck4toFShim1WtZq3zmHjgmdGt4S7GNlwTQvc2RlYnX1G9C/G5m/OIK9vE9zn0VActQ3h3rcRHm5YhB9LlqMenh7ZGj2ub6T96H/14xOpr84DWmsoVd6Gy1fn3ghd44HZ8ZGlvx1bnabG0p8xFIFQbcspZcaXLCWtVlTZWkMVrSDUvnUGsQR6iwlSIxF8sleZ38MuUbPWQBxb0DiXFlCqVMU2q1otWufQ1EOjcoNytFoJC/b/Bfz4fb5WXWF75eNJ+eNnDsvRqLH+pobjE6lOqYeEe/eKW+iEGQjsoA+8pKprraGaVhDOq3WG2qu2NZDatIBy0dS8dY6aePjeFvjjjWvLvB7vpg90orbjE6nmsqiDdmwhoWo1aDmlUlW31lBVKwgXsnWGimrfGkitWkDR1Xwb10ItWueomivc2wCrd4mSu95Hc7ay4nBtxydSk9oB3cYLXk3iseyrbBEgFuRui8ecD/VhTlXdckrVqm6tocpWEKprneG81L41kNq0gFL7bVyFNuJigj3I/ktsP23Fa946R9Ua4va+rvDYbsHsjfIbGsWwHDyOmS8dxWqnbVRWN74F2RtSUINGpInqlNoB7eqHiI8jkPtCf3h37o3Rcy3oMVQfVokqW06pUjWtNVTVCkI1rTOcr1q3BlLjFlCEc9jGlRLTGv5ce8SP9IbvvPRatc5Rrc4t8WGoC3JXn0C7Jw/jtrfPoGVgUwy9Rh9eXpXjZyN5xkQs/IkJTWrjz40SESnqsqiDJiK6GjGgiYgUxYAmIlIUA5qISFEMaCIiRTGgiYgUxYAmIlIUA5qISFEMaCIiRTGgrwgW7N9uxv4CvZOIrgh1GNCn8Plrh9Du6cP40ekvCuXj42j5O75s6bl6Z/DVkgIs2FLZ708T0eWo7kvQZ4vx+UYnRb8/LZX8UhlV1BwTYq7FK32c/+Q/EV2e6jygR3nUx8cbCrBf77YpRsYPhcgRw8r8sNrZU9i8LAeBU22tZAS+eQQZ9mzPOYbxTx7Gd5U2OmrB7m8OI0QfZooW4x50/H1gCzJW5MD0tBg+NQcvfnMUL4r3b9nbzxPz/jFeHy5e4StOwOzQoGkZB4/jRVH67y7m032amNb3Do0HinXbv7F0GU1viHU4YV8O2zKUWb+SYWLor0fwZJRtmH9UDhZvt5eYZaOpDssq5mHe7thgai4+/rX0NiXnmxy0W3y87PpusDW0qhHr+l1c6bpq2/Fi/F40EVWpzgP6hj4N8fjxIvzo+GP3lpP4cnM9PNzXoV0oYffKkwj7owHmzGiDP15rgahrihHycZ6INbvKGx01p5oRvKEeHn26Nf54ozWW9DiLiEV5JRcG8wYzQrbUw9OPtcTeGc0xoqAInzuE++YlJzATBiRFX4s/pjXBrVmnELHWIdRKnMDi+Rbk9GiKn15rg58ebYCcL05iwa+2oLVsEReS1eLCJJcjxog5XsUImG+GbB9FLmPI/1zwzLO2Yc+I9QtYJC4E8oMnROgvKsYNgUZt+ZMDXbBCDFstm3Eqb18eHltchBvu1ccdKi6CcXn4eJ/DBSnjDL5s1wzJ0a2wY2R9/LgyH9+dsA2S2znC3ABLXhLb+aWmGGG2YPxn+kAiumTqPKAPWRri7h5WLP6pNADMG8/grXaif5kfcRbhFGDE+seMuMHgIpa8EXr4uiDn1yLs1seovNFRwNi9OdZPbYHbW8jQd8UN3Rvg1qNFyDgsh57C2tSzuLVfUwztYIDB0BhdAxthrBwk5ZzCOxli2sEtbI3CtmiOUQNcsHqbCGLbGA6sMOfXw62dG8NQ3wUGj6aYHtoIt7eU4XgKq78pxu33NLcth6uYz10NMSGnED+L5Tidb0XOdS64VR92e2ATJPTTL1IFYtjZeuh6s2x4zxXGHk0QO7ohKv4QbDE2fy/uPno0xoRu9nFbIrqnFa85luRvaojJvZvA4NoQxp5iW+MsMvQmDs1iOW70FNtIbmdDMwz9ZxNMv8XF4UJIRJdCnQd0jgierv9oAPfNFv1hoQjLn85iVHcDyv6suwg7w1lsW3mkpAqg3QfivluUckuDo7JGRwXR/9CG4yVVHO1eOwNRkIVFKyUXIVskbbe2TWRHRYfOinGLEWz/rHh5LhOB6/S2vxHu6AcsmH8Y4XFH8PmWM2jk1QJd2zYUw2zzWbDsWMl02k0TpXwxRC6H+y0irA9ZYHopFzO/OI6Mgoa4vXsz23ZwN2BUZysiZuRg2uKjWL3LihtuaYEbS9uK1dkaTL3d03FDuOCGdvWR81dx6QXFUL9iYwJ6Abtr7wZo8dMpmN44jMXfiLuMxuJicZMIc9tgIrpE6v4hoXR9Y4xqpz8s/PM0Vhx2wX29Renv8Fn8rI8iv6mw+eMTCP+jAWKjZDXFtfjjX3rpsgZy1pphklUcEa1sn326Ydn67eo0dkWyQ+Ojtmm0grs+uFRDUfp2R9q0phjbuR62rc1HfxG43zkUtac/Um46b7jjPjkh95aY/nwrJD7QAJ1PFGLm7GMIWXFCvwA1wR2PtMZPkxtjYDsrflx2Are9dgQZNSzWnj5TZbsMZRg6X4OFLxuxcKi4E9lnwfhXjmJaqrPqHCK6mNQIaIjQ6eOiPSz8XD4c7GHA7bK4Jkp0pblWpJUMxw5qhRtFWNp61Tx0sg9aMbSvKAleI0uyQpkHfK7wuh7Yf6ySLxK3roc7Coqx7U+9W6qsAdK8k/hxy0mYWzRDj37XYPqTRrxyzVl8/D8ZcC5wuwbYsKvsQ0PbspxBzq95yBAr7N65Je4b5Yb4h12Rk3oGGWKo5eAJ/Cgf9LVtjjsGtcYr05rg0fwifLdLftaRATdcB/y41zG5Rck51wr361ycXFDKK8DuLXnYnd8YN97cEqPC3JF0Tz0s3uCsOoeILqb6W7ZsQWWvr7/+Wh/t4jP8vQEeP16I8E318PA/mut9HdVHC3Gv/+XG49hfYIHlz+OYmVRJSDphbFoPq7cUIOOo+OzRE/h4ma2Kw6YJ+vaqj7WitPvdn7LBUzFe0mm8rw+VJfyxHa147ZOj2C2/VVEkhn9xBCGf2ku3joqw+uNTmK81VirkncG2wyJ0m8prYVPc3a8+Mr7Px8dZ8uFlEcy78hD+iiwJuyBnmwUhH520zePsGezfW4yMprLFQ7F9zGcwc9FJrNA+VwzLH4X4uaAejM1EZxku4sIgq4wK8PEuecER89gmtpXYrk/3q6wRw7KyU08j4rPjtuohsa7b9p6Fu7Ee+CU+okur/rXXXovKXm5uzluNvigMzXB3D/HXoyHuFqXZihrhjn81wajjFgx//jhM7xWhc39X3A4rTtfgNv/Ge5sh/ppijI8+jttiC2C+rQEeFv1P64VmY18j4m85ixdnH4dn1AmsaOziUAXSGHdMaIZXjEUY/9JhtJtqxsycBph+T/OK9bItWmL6xAawrD2hfc2u3asWmHs3wXT9O8rGvq2QeE99rH4/D/If4QQsO4uBDzVDV4MLuo5shrh2RYh4Rczj6WMYs90FCRNb2h4EykZQR7lgc7z83GHc9k4Rut3fDA931CZbVocWmPuwGHep2TaPlWcxNNSIUR1c9BGqItY1tAnGigtEcKRYfrGu7+Q3QPy/WpZ7JkBEF1u9P/74o9J6gkOHDqFZs2ZXSaOxstQqvx2id1qO48VpZ9Dtab1+mIjoElOkDrru5aQcRfBicVtvsVVh/JhwBgvcG+B2hjMR1REGtM69X1M80/QMwqL0KoyjLkieaKzBQzUioouDVRxERIpiCZqISFEMaCIiRTGgiYgUxYAmIlLURXtIuHt36W/MERFR7fFbHEREimIVBxGRohjQRESKYkATESmKAU1EpCgGNBGRohjQRESKYkATESmKAU1EpCgGNBGRohjQRESKYkATESmKAU1EpCgGNBGRohjQRESKYkATESmKAU1EpCgGNBGRotjkFRGRoi5qQHt4eOhdRERUW6ziICJSFAOaiEhRDGgiIkUxoImIFMWAJiJSFAOaiEhRDGgiIkUxoImIFMWAJiJSFAOaiEhRDGgiIkUxoImIFMWAJiJSFAOargAHsebFSXj3f3pndf73Lia9uEZ8Sig+gp0/78SRYm1IlQ5+9SImxW3Vu0htZ5D0Zh46vZmPXL3PZSU3H5Oey6vbgDavex2TopJsJ4quMG0eJoW/i62OJ8wv71fsdy4OrsGLk17EGscZ0tXt6FZ8tvhdfPu73n0lM2dgWUwEnpg0CZOeiED0Jxko0AfVxpZPRPA9dxJb9G6bAswTgXLZBmIZFyDciyxIEdsp6AW5rfJgis7De1st+sCaq9OANv7NE8bcA9jrsNyZmRnA2Z3I2KX3EH7btRPo2AWeLnoPogvFbSAi58TigU569xXLjPUL5+G/LUfiqZgYxEzuD2yYh/c3FurD6YI5KwL+ndMYt70e/G5zxYfBDTCudT0sXH4aU74/o49UMy4REREv6O8ryM/PR8OGDdG6dWu9T80dPXoULVq00Lsq0eossr/6Ekf+dje6Xyt77MS3S7Ngvb4Q2cWdcefNrUQ/M34R4xzsPBJ3dWmm3ZJuWjob/1n0MRJXfY3vtpnRrkdXuDcQo8oS8tPfAR5ZWBIzD8uSvsYPvzdB1x5/w8nkF/H0ws04Kf7buf5LbK7fA/1vFNNzIG9hn/4uD802vo9Zi1dg1dc/YF+jruhy6kvMfFVO70t8veUkPHrq85MKD2D9+7Mxa9EyrFr9NTb/2QJdbvFAM3np05cnz/U7zJu9FNnt7kaPtqKskfkZZs9egKWfrcLXP+5Dwy6+8DRWvPpsjRO37Xsa4eDnb2LeJ6vw5bdi+T26o03me3h59vtYIdbfvn7a/ITKp70V7056F1mND2LFWw7r4tsGO+JeLrO+PTvat0shDnz/npjee/r4f6CFVw94NLcNtS2fC7KXvo13fqyHHi2/w9Mvb4T7wJ5o5yrHKETq3H9j9s4OCLjFXftMiXPcj/b1PLhunm0bfCm2+RED6h/Jwllv2/atoECUHGe+om1DuU3qNbRg5+E26N/fC820eX2Egh794SVXu/gg1s+fiVlLlmv786ffGqJzd1GQEJvwZNZ6rD/RBXf7yZkUiPWfihfXWHDLbV204WX8uR7zXpuF95fL/fYT9jXsDN+ORmh7osJ+3Y7TN/rh5mv0g+rIJnz41n/w3keJYp98h//ltcOtXd1hP+S04f95De/Iz8p9hk7oemMr23Cx/KmL/oM37Mej2QPdvd1hqG+BtaEHevW7DR1aGGBo1QWNsr/ELw17VTgPqnMww4KEnPoIvqMhrtP7iSIjNn1XjLSm9RF2W0M03X5SlEALUHS6EJ9+chqPfWPBLweK4dOlIa7Rj42sNfkYteQ0XlhnwUFLITYsPo2EevVxd0cXrZTe95MzaJZ/Gv8Xb8E1Po3QxbUAyctP4bEEC15Ya8EPOwvR1bsB3BrW05bAsu8knn+7ABO0eZ2FyykrNonpacsjRzh2Cu8tLsD/JZ7GSyIo861n0atjA2iLYyerFl49g7mnxPtTZxH3nQUdu4l5uxQg6aNTePwzMW+xvL9kO65LWSd+ysd94vZi3H1NEPmPRvC4tgFuuVUUSLcUYd6esxjUzwA3OWK55Tl4tBi9uzSAQa7OqUJ8ufFsXddBd0EXb2DvPr3O4bcMZBh8MequLjBv36nXEe7Fzt8ao4uX7cz77dNovJ/dFVNem4d5b7+EB9v8F/M+2CR2t91WJKV64JGYN/HmSw/Ac+8yxH9vRtu7pmPe9EC0Ff8FTp+H6Xc5O5OFbRk4fMdTeOPNNzH9ntbI+OxVPL/KFQ9EienFPoWB9dfj/c9FiV5TgNR3o5F08nY8FSuWRwz3zfkQL76T6nDruBXrf/PD5KgYhNwsOv9Mwuvzd6LLo2+I5X8Tzw4CVs96H5Xd/Rz87054PByDN9+MwSN+hVj/7vMi8Hwx+TW5fg/B83fb+mmqnfZB/HeXB0KjxWejH0FPy3osfH42Mm+ZrK3vS//0xJ5P47Fen1xB2kJEryrA7VNEkIjpPXXLYXwYPQ+pDvfFB9eno8EDTyEmYiDadu0FX2Rgy6/6wOJMZOxojO5+XfUepc51P2p2fIjXPzuOno+K7TIrBqEdDyCj0ntRUXKcJ0qObR7A9Flv4g2xnPm77fuvot8+fR3L8nqW7M+eeZ9h1ifirq6cg1/Nwrs7u+CRKYFoX5Kcdr9h2axlON7rKbz59jy8OaUnjq+YhWWZ+mDBcb8+cXsh1or9tEnbT+KzMe9jv88UvCE+O++lB9Fms0NJ15KB9+XwW/RpPxcIfPe6PrwAm+Jex2e4Cy/NEsNenoQuu+Zh9tfyTDKi46090bGlNhWxbzKwU9yltrmm9oWv2vj0F8D/rgZ4r2895O0qwpSVBZCreSKtAA9tsKL531zwXpAruv9pRbztIw6sWJhZD8N8XeDRtAhpy89g0nbgoQcb4aeHXdH1yFmEfnwaJ+SollOY814xElzqY5YosYa4W5F2RJuIzdkCvDe/EAtP18ezYvh7twHpa8/g1bRyJdrWBsyc2hCvys3S2gXJU5sioPUZpMSfwZQsYPiQBvhwiLjMZhXhofhTtnmXcRZZe2UjVfVxl6/jgWHAXWK+HwaKC0qR6NSXJ/oYMOle2/LsTi/E2KSylU51HNAN4OnZFkd27RSnkThof81EYdeu6HhTV3Q9uNdW9bF/D/ae7STG0z6A9sOiEBshTgqD6HAxomfPLkCGONhsg4WuGDm2D9oaGqBB6z7oJS4Av+3frw+rgW6DMNK7NRo0aIC2d5jge7YQPneORJeWYnqNO6JX97YoyPrNdvE4uB7fZrbH0IcH2pbH0B6Bk0aifea3WF9Szy2XZyA6uhnRWOyvravX4JRpFAJvEB0uYh4D7kIfw1ZsqSQzWvcbgT7tG4vlMcJXlExbFxrRJ9C+fj3RS6z+b3v2auNWP+3W6C8+214sSIOWvrizV2sUtuyDEX3bauvbuncvccn8TVwQ5biiJPlNBtrfNRYD9em1HxaOke0z8G1KycrBKOb3wC3tYWwqx/FFn96NsXWT/iDtV7FfDN3he5Ot09H57MetP6YCvQPFfjKK5W6M9n1HoL9WJHHiYCrW7xH76EH7tLpg5GBffWBFeScLYLyxW8n+vOvhSXjQr43DhUPE4P/exetfAoFTHoFvY71nGXnIyzei083t0UCcyw1uuAuhEx+Eb6vSqTju1y73BYr9lIFN4gRFsTiGno/FU0Ntn4XRto8zfrVtmcL077GpwUCMGqZP260PHho1EI0th7Tj8av/dcLIkJ4wit3RoGUXjBjUFQe3bIVjVkGUstfMnIdNbiMxorcY8SK6f2hTBN/aBKYhTRDRGdi+vRjbxTm1OcOK3Eb18eLDzWD6uxhHBO4k/TOl6iFmshERQc3QXRTyu97dBFtFYIbcLEqgXk0x3EsUePeJQBRjnkgXpdOzQGRQUwT+Xc6vEcY4HBOWrUWIPlUP/yemFeAwPH5zYdl65vquaN7MBWLRxPt6aNHMFYY/ziBuHxA8pDEm9WkC/z7NMHtIPTHvInyVbftYqSJkH5Z/RTG4XLo29xCf/XsjuIlSt2155PI207dPM7zoB2z5WVyIHAprdRzQQNu/eaLxb3uxX0T0zu0H0cVHHI2GrvDpJErToiRm/n0vzJ180FWeMEKDhoXISIhGxBOTMEk+7FggwkDscHlRsnFFE33cEoWlQ6slgqiE/X1lx/Ch/TgoTgJPe6lEatkeNzQ+iP3ifLFxXJ6DOPinWCdR4tGWXXu9jrXHxSJW0jJkA8dbqPoNxaI0QEOne60m0y73WVexYi4N9Y7yxDocFOEhbstLGdH+hsY4+EdpQDdpWjahuvp1R+MdYt8VAzv/J+7zfH3RVQZNOee+H23r2bb9DbZ+uoZO5qGR+6jxDWjvuI8q25+Cz+0D0WTD63ji5XlY9tUmHGjSBT19xAVMH46TqXh/4VY0MY3BkOv1fhX4oP8dTZA66wm8OHcZ1vx8AE0690TX60tnXGa/unRFFxFeh4+LGBXHnKsoJS97XX+YJ17vpotx9GP4yHFx9ne4AR21Lhuj30iM7dfetq7iDubDKfb9PwlPxIvSv/ho6aVBbPcPX0cSAvHsU+KuR+97sTR2tR9wrvCSTZSeLUb2kSJsl8F2Q310sg8WYVjxWlcfLRrpb8XnmzcoxldL8xEw3fbgLcjhxua4KInK8W/u4DzS9uwX6S1K5M8usH2203MFmCKTuQZfPDhx4CzSROB29yg9V5p71Ie/mF5Wbi2yxYFteRyXV2yLv8n3VmTn2PpI9WXDsJW9cnMvwfPYzl3Q5exO7BQndeYeUXLWSlsiGG5ui52ZGdi75zcYxQFpi4lCbP3AdmscLm5954lb13kTKi8N1Y1CFDpcAZ3peH+MbdkdXo/cog88Txdz2lJhYTXP/W/yRXdswdZdv8kCsdPqDZX3YwPvkZj+RgwmB3aB696vMPu5qXjz+9ILEv5wRZ+pD8D4wxKsERcK5xqgS9B0vPHyZIzwdsXeNbMxNfJNh7uq8sQxYz/PLVttVRg+4Yh5U99/omRVY4374AmHfa+9pg9xCOJMpG4E+twn+lV2UasRcdWXGXPJnEHSexY8m+uCF6Y0xZ6XW2C546FlsJVCGlV28dW376yJshTu8Bqv1wefozOW8iUrV3i0kX8rbp8T2aeQ9stpVJ3pVpxwLEF3794dlb0GDx6sj3YRuYiA7mTGge+2IsPHFz31UlPb7r3QIuN7pIqToEtne3nhiCg9FcD37kB0lPUFkuO956V27Q1oe3wn9opSaonjh/DX2ba4QXvoWV5rtHYXt+o7d5Zd7PP9+qDmQk9brENbcVfzm17vqzHj0F9iSLsqyl2iNNizh7hVW70cmRbn1Rvntx/boq0ouR48ULba6kxl6yn3UcF+HHDcR5XOy4zfft6E3/KN6Pj3gRj52HS8NKI1dqZsFSVTXZde8G3fHyFDga8Wr8FBZ/M9/hs2/fwbClp2RNc7RmLScy9hZOudWL+lsoQ+gL/+ANq0bA0cE3cIBb4YOqyjViUmFTrMo3VLcfbv2w+tFkpXcCADm+R+ai2OgYKdyDigD5AqLJ8PQmJexgOixH6u2hjlUywrMrIdEuj0WciCn9u19csEXkGRfZwiZMlSc30XeLR2xc2yNC1KkXvsg89aHZ7bOFOMA7K86OkC/1by9kN80GHdWjaRy3QW6VkOy+Tw1qOd7UHi7tx6aN6sge0lJ9PI8VbGuebtbaXlLdml9dUnxLrLUvXNFR5A1IeXp21ZvstwPNDOYN2KQjyUVIhcMctO4u5BjrN9X8kGwJ7f5XtRqpbbRuf8fuCSEqXlzuIkEKXljjd3Lb2VbNtFHEriVvmguP3rovdDEzQWRemdG9bjQEGBODBT8e7yWvzDAbfW4vTOw185spRb40SoXNv+uNPnAFZ/koqD8qpnOYA1763GAZ870d9phjVAz/590PiXT7BwwxEtJwr/TMW8aa9jbZlKwnNxoafdFv0HdcWBrz4UF0kxteJCHEhegNUHuuJOU9U3xl3ExR3izuegt7gjclpKO7/96Ht7H2BjEj7bYdZK9L99twzrK7vZa9sH/TvZ95HY70e24sNVlc9r//r3MUeMe0TbgGZk7BYbz9hYLHFZbe8MxcCiJLy72lno7kfK4jn40L4fjmdgj1i+Fk1Lp3LwuxWl23XVx1hr8UUfP3H0N2mMFvV3InXdARSIbXNgw7v4bJv+IaGBXz/0LFyLj1cd0IK7MDcV74uS9qacxkD7Qbiz0xGsXfIZdsrrqlj+nZ9HY+pHjhftIhz5fQ8O1e7bXmV49HRBYH0rXlh6Egk/y1LhKcybX4R4EVjjby1bL/Xp2lNIFsNT1pxC7C55R+WC7vUbwL+HCHIR6tMXn0TKL/lIWFyEefpnKtNcbr69hdo8U9acxCs7bP2l5n6umCTSbOGKfCTJ+X15Gv9xOO6bi20bIT4/b2U+3ksVy/zzSUTPPoWJSaf1MRxZYZDH7QkRwrLE694QIeKQT1hTgHnys6knMXmNFW7iFmSAQ5jaNe9te8g4b7lY53X52vaJX3Aa0eIYCOxngPyugMHHVVue6OW2bSjXZ3q62D6+rvBz2IQKBLQ42L26oLEIhG7ejvWdovTRVRx0bT3hWbLARvSfMAm9jq1AdEQEps7bihsG9hR9i3CqmmoFjYsv+t/RAlvfeQJPfFLJU7laaYw+j0RiaPFXeDViEiZFvI7/tghE5CMiKPUxKvB+CFGP9sLxxBe1OsYnXv8WxiBxsl+Ih+kXeNqN/ccj8i5RUnz9CUz69xN4fVMLBE4djz6VrpzO2xfdRdb49qys2uI896NYz6dGtsSmd6biiSlTEf+HOFYqvU8V8xLbotfhZXhxyhN4MjYVbbqWXPHLkeM+hUFif74o63GfeB5JJ/tg0oT+Ykg5Lm0RGDIQhV/NxWeOxVmpZX+ETxkEJOv7ISoJebdPwiP9SqfSumt77F30pLZdo39sisBJIfCVx7mxPx6Z2AuHk6IRETEVc/53Awb1FJ+znLKFrKErxk4dixv+9zqe+LeYdvS3cB0WifHawz6x/I9HYmSLrZgXaVv+9w/5YcJ9XUoLPpYMJL27ECm258rnxq0pZj3RAJGtZOCJUmFCIRLP1ses0MYY51U2UoZ0sGJNYiHGbbCiRecGmHWP7eAx+DXCh33r4cTvxRi3vAhbDPVEKbUqjREyrgHGuVrxrJjnq7vFxaC37F+MbHlxNjRB+DhXBIqS6BSxPPFHXDBO/2KBxtAYkyaKZb62HuJXy5JsMXL/1gAvDCmp5HZggOkOF5hE6X/K8jNIP9kQAWENMcsLSFwjPrtGXBm9XPFhWFPn1SP1GyF4YkPME0n89boibfu8d8SK8UGNMKufXo9tXx59G477CbhRXETeH9FYzL1UPaugv3dq9+7duPHGG/WumpOf8/BwcnmhK5/8bvHL+xH45iPwPa96ziuT/B50UrvplX/V80ogvwf9UTEi/tkCk2SRsYJCnDjpgub2L7Znn8RDC4rhNliGWNlS+NVMiRI0XSHE7XqB+Qg2ffEN8nr3YThT5X45jUFvOVSRLC9GWv16GK7dRpAdA5ounKNrMWvq8/jwz14YG+Ts2xtEuq4NMb8bkPyFQxXJuMYwVahLurqxioOISFEsQRMRKYoBTUSkKAY0EZGiGNBERIpiQBMRKYoBTUSkKAY0EZGiGNBERIpiQBMRKYoBTUSkKAY0EZGiGNBERIpiQBMRKeqi/podERGdu4sW0EREdH5YxUFEpCgGNBGRohjQRESKYkATESmKAU1EpCgGNBGRohjQRESKYkATESmKAU1EpCgGNBGRohjQRESKYkATESmKAU1EpCgGNBGRohjQRESKYkATESmKAU1EpKgrKqDTYzwRujxX76IyDiYg1DMUCQf1bqojFmT/nI7sfL3zgklH9MXav9qxEy3mcPHlLg+FZ0w1czqQjKmvp8Csd14S5hTEvpyC3CK9+xKpw4DORUKoJzw9HV5deyPo+QRk1mTL13Xg5KZh7vje8NaXOzQmBdlV7byibKTETMTgHrZ19R00EdFrs/WB6jNvT0BUcOn6yv2UdcFD5sKRF+tqT/TK/Bxd9ri0v0ITxFF7vjKRNGE05m64pPFy5cgXF6JHl8FvlAlGvZd5SzwmOx6bEfFId9y8TvanPP/mbijdm84Ld7aM0vobTQi+aQlC30gXl9hLp85L0KbXNmLv3r3aa0fqcoS7xmHY2HhkXeIrVa0UZWLuP0OxeeBSbN0lln3zUgzZMxHjFmXpI5Qjwjlh4mBEHx2AWV/uwN5dO/DNf/og64nBmLxa/RPVsiUWQffEAROWY+MOh/00OaHqi9JlLQzL9eOy5LUoGG760HPnh8c270BMgD1eqOYsSH97CrIenong9nofEb5BIYnweNx2bO7dKI5NYzyCRs5FZplj02F/6uff5kf7ISql5nHrcW8kgjdNRdx2vccloFQVh8HoAdPUSIRsiUPyLnlV84b3jLTSK5YlBVGe/fHabHEb1GcqUsR/U/uUu/JZspD0fBB8xVXSu08o4rY57ABzOuIjbMM8ewRh8tLM0mnrt3HJYt6hfbzFVdZXlBKTnQfQvnRsbhKO8CAvGFxFt8ELAwL8kfVTutMSluWnOESlBWPGS8HwaWsAXA1w6xaC2a+akLQgESWxrpWyQ9G7q60kUKFUXt3w/EzE6aV635FRSPggSryv/NY0e220vq7e6D0+rmypo4S4uLw8F8aoeZgx0ANGsfj2/RS8NgrxW/XRhLLTi0bKAX2Afvsdt8q+bW3zyzRnI1nfV3J/RK0uvaPQbnVfTigzPDqlihJPyR2VnJcngt4V/d4NEvMqXX/LNlHSGukr+tm2T9I+fUAtafNemlb5cVblfrAtX/TPWkf10yq/z99Nh7mKi6J5U7lt7HCXY9lVehfk3afs9pZy0+bqn9WXe5fDcjiQoTi4q9jW9u0n1tfxvIpaVTrdatfvQDKitH0il3cu1mU7n6fmWDIWvmvCmGH2y6Q4Nl+Ng/HZWYjoazs20VQcm9NEtyUWCRsqmZZ+/kU+5YX4z2tRVeLqheEPd0LsguRLVr2idB20350hwKfrSq+E21KR0D4Yd4cvwt7UGJjEfzGpe7EoqLRck/LqQuQFLxIl2x1Y9RgQ/Zg4SOWAoizEjx2NRK9IfC9Lvd9GwH3xMIz+wLHUG4fYJC/MWLcDOzbOht/6iYj92smu6BSCRYmPwU+Gs3QsE2uS02EaNsBpCStrWwos9w2AnzyAHBiHzcfexBB4aV0WpMyQpex7sXSzWD69VD54hvhsjYabkRwZhPgm07Bq2w5sfCcYlg0JpRegcixp0XgoBhivleg3YpF/KoJEibjCBca8HZu3+GB4X9tSljD4I+yzRRjSVl+6lCgMjjHjXpHYe3dtxdKBWZg4JAopJQGRgoR0sW2/EfMTyz7maDRGD5iCVNMsbBT7auObfkgLj0Wy4+b+ZA1ygudrw9e/5oOU0ImIrzZU/RApSknLHxFvH1kuSkyRoo9wIAETR61DH3nHJo8NMTw2RIRmZRuoGpUeZ7XcD1Ll07IgLeYhRGM8vtkq9vkPi9DnJ1GwWOmsGCCliOPXgAi5T7etQgTEnc8begHHLIJwRBwMj3+DHWL77Pg4GNlPTynZnvIuafT4zRgi958Y/s0kcTaMiEZa+QWX2/HhFJgWz0dwB9Et7w7/HYR1PWPEfhLTTRwPvC6W+efSD1Z+Too70bGTkR0o70R34PvnfJC5Ok37jDPmtO+QPKxP6XlkPzZv89B76Fx98Nj3ezHDVO6EuwCMPQfAtCr1nI+b2lIroIvMyFy6BPHtA+DfSXT7Dkf4NfFYo5fSMtOS4X6/CT72YHTC5ylRAu8mbh/FVdJr4BCYDmzGHnk8b01AdG44Zoz3g1F+vpU/Iv8TgdzXE5BeUiIRV9WpJnjIUqKbCUOGAsk7K6m2kOx1Wz2GIeHmRZh/n/MbYEueKFE0NaLKw+VgIpYsNSH82UB4yRFFqTz4tZkwie2RKOvZqx2+BstW+eMxObypQSy/D0ImiAucU7lIXBgnShoR8G8lOl2N8Bk9BiEpa5BW/tw/lScixw2Gpnp3CQM8uvvDr71cGDG9JfEwPR6JwE6iW277B2djpikeS76yT1AE+jixbeV0Wvkh8H5/mG8KRpgolRtkiaav2FdIwmZx51TiwfFiX4p5i+EeAyMQPjQdCSlV7I8qpH8YhVxxbATry+cREIKwVvFYV+ntahyC5L51eNlLvVKlx1mt9oNN5dNKxMJFJkRO8dePWTGtMSFISU5zeqcmt/GMqBD4yH3aVBwf4i7H64NlSJEXvSZiOj+sQmRfvWqlwwAM6ZWOdelySuJCsGIuDPbtI7iJ7R3zlBFmx2c8sv53bBTwwnuIvNU2HrbGI+pIJCIftN1NGsS5GzLOiPgfbJcYqfJzMhFzLOGIGO2jrZ+hg0kcI/62DzmR9UsSPG5qX1L3XPmxWT2LKLnHv5cJ0z9EHuj9aqStlyhQpSBzj959kdV5QKc83bv0JOgsbuHWeGB2vCj1yP0vroSm+92RnCZ3diZSPgWCTT7a5yrj1rSF/q7U6WIRIb9nwdLfB16O4d7BC91PZSHrsN4tQke7TXJgqepKeWukrU5r8yoEbx+NYfNLD8qqyNu+0hNfv/U9kIWUbn1wszy57Fp1Qtf2KciSVQU1GS4OHa+2tkFVy0ZWChAfarud1V7eoYgXQ+S2qj05PR/0udnxUDeik48HUrLst7syGPW3QiNxsspejfRup+Q4JYzo3tcfmX+dy81lLrLE7XqmuAMp3e6DESVutS2Vrm/FOujIW/VBQmXHWe32g03V04pHqLd9mT3hHSr2UvFp20gVlN3G8vgWl0HknRLv5bb8K7H0Qa9nb0wVxwC09Tcj5w8R750d75KM8PtXBAJkKVljRmLMaMS1EmF8b2mJVTuvtom7p5Lt6inu6jLLnDdVnpPdveBR/rhwyozcv8TNq5u73u2EVs1VuhxlH/qVveB6D49FzkPLMfve2j5VcIOXf7Ztm14CSj0k3LtX3BImzEBgyUEhrr6mYOBTecVKxxoEw+StD7gQxFF0QeqSZMkmNARZH4vl1Hs5Ml4nLip/5ZbMy2+qvr4JYXqfylhw+qj+1qnqhlfFAxFf2Le7/bUIweWDpUkLcarmwuLkGxsWsxnmKi5gltM5+rsLw2I5v70VOMd2++74cgxdJbWPwKpyy3xODytFeE2+R1ZxfAHtwfbejYgx6cNqJB2G4V9j/nWxiF5Ztu5alEywtfwyTtUqli4gcTdSvqjbyl0cxXuQaz8H2gZjkTZ/Z+tW7oK7WazLI/rdtMKUroPWdDOJWE7AwrfWwVxN9UZV3P4mbsHWZ5b9dsjBbOxpIko7bfTumtoSh2HD40oePpVo5bwaw8tvCDxWrUTKMb2HM+29YNqWiu2O4xw7gKxTJnjJJ9bVDe/QFSZRkj1Q1TxKuMGjezbWbSl3ojl7+GS8GT26ZyLxp3LjWlIQ7dsbc7bJDg94mTKRut0xQM04sMcCk1e5+sFzZhEFykz4XFd6llqKKitJlmeERwcDkjc5PBSWqnjYds5qtR+q4eYBvwPrkO5Y717lMou1cxy+LwtpYt1bNBHvZWncFIbxfWWVkRwotl3JxjDCvR2Qtsux+kh+XzsNWSXrYcKQWz0Q8OyLwKtRSNAfABvbesCwNhWZjhu2httVOye3ZJV50H26qLIrvri7bQrsyXW46Bv80GNoNhLW1uzOtUoGA1L+V/74yEGu2CQebRyvDOJuLM3Dtk0vAfUDGj4wjQKSVqUhwN+heqONCAVx9cz+S9ymVrZPHfkGI9JtDmKXZtqegh9Lx9wXYuH2VHDpw76autkHfntiMecTcYumTSsT8Yvi4TXET3/gV063MMx6ZA+emRCLtH1m7TOWY9lI+1ZEfCd3cXoIbYdjzOgUzHkrBdqDbPltFLF8KaPHYLgs1VY33M2EB4bpw/PFNskVy7RAVlo444Hh4wKRKU60eD1UzdvErfQDc8ueaBoPBD8bBvOrUxC7Idu27Gb5zYJoJAycgRBfOY4bhsu60bfE8hwQExAnWdbn0xGbEoIxd9W6rFfqwzmI36Yv3wZRcltqQkiAbQt7eJmQ9mkS0mWA5IvlWRAHecdu5/Y3fxFKB5ArDg5LkQH+94fD44MoRK+13fZaDqQg6t7JSHZemXvuarUfqtFhOMYPy0T0y/G2fxugPaMJRdD8ckFSIg1RM8S42jbJQoLYR1n/egAmeYAZ3eGVsgaJ2+TdUK6YTjSiS57Hie0z4jFYXhf7VFxUpdy10Rj38Brklg+itoGY8RQwdbrtK5aG24IRfl08omL0f8RhEfvilWGYvLoGG1Y+YzKUnpOWXUmY+17lDwm9/h6I7F8PONz1GhE4NQadFkzB1OWZyJV3eeIuK3fbOqRmGeDevLLqkor8AsLhJbfJ2mzbXaE4ptLejsIcw2MY7u8wnVxRKBIXKx/5jOwSuAwCWkR0X3FL1yQEQ7Qw0Ln6Yfhz7RE/0hu+8yqUZSty9ULI+0vRJ20K+nX2hOed0dg9YjkWjXYaqVUz+GPGl/PhtXY0fLVpTUHq3xdh6fjK6scN8HtyOZYHmxE7qje8xWe87xyHOblDsPSjMD3UDTBFfY3wojkIkv+YpcdorLxuBr6OMuml8uqGGxEQvRzBB57B4G7e6P1ogljM4doQZ4xDZ+PrVz2QGGZ7BtDvhSwMeTUMPk6OacOtkVgePxzZbwVp6+s9YByWGcKxanZwSf2hwSSW5XFgTrAvPDv7YvRqd7GNZsB0Dg9wSgztA0NCqPb1LN8nMjF86cySKhi3e2dgfpc1GC22hfegKVjnboLj4yUP0xgE//4MentPRLIMrJsfw/LPgpETM0hbX9/gJXCfNg0BlV4/Kj4kdPzKXuVqtx+qJqYV+zVmtk1EaB8x/879EJU1BDFjfPR9Xp4JEYEWxN7tDc9uwxDbJBKrnvS3jds5DO/N8cCah8Xx1/sexB59ABFBIm/y87RPGrpHYOnCHlgjrrjyK2/3fGJApNh/jtlk5xEUiRl5UzFlqSheym9MfCbW969oDJLnQo8gLLkmEtMG1+DCLD/7/mx4JMnzyBv9Xs+G39DKHxIa/e9AQPlvULQPxqJvZ8Dj2ykY1E3M37s37nl2HdyfWoUZtfmuuTw+vggDFgSJY0ZMp3cQYg8Mx9LPIsp8+8q86TukOH6T5CKrZxX0907t3r0bN954o95VN+R3YvtlhWPHBa/XusLIEozD3YD86pv3Eh9svCD/wOLSkvu8t9jnF74u8xK4gvaDWixIjxmMOV6iYOXw1dpLJ1sUCMfB/NLXeOxmvddFpnYJWtyumA+mYeGCPQi/m+FctVwkTR6GKHGLZqt2SUPsK/EwDXX+3Wy6WLgfLh5xJ/rvWfBa/ExJHfillL08Cgk9YxB2icJZUjqgc1dPhm+fici8fx7Cuuk9qRJuCIyKhPun49Bbq3aJQvb95/I1Ijo/3A8XVVM/RL7zANI/vvQ/lpTw6xgsetKvkuqli+OyqOIgIroaXRYPCYmIrkYMaCIiRTGgiYgUxYAmIlIUA5qISFEMaCIiRTGgiYgUpXRAV2jW6GLJzUTa9kswH6rAsi8d6fuc//QP0dWubgNa/uLW80G29tZkm2TBkxG/5ZL++yBN7k9zEPqEQ9uAdMlkJoVi9NxL/K/ChOxVUQiyt78nW3iu0JSMMxakz5I/+l/ZjyZVN7wmLdnb2iz0HBmPcj/wamNJQ5Q8Xy5IC+OkujoMaNtvFsS5hmN5qmwXbyu+eL4H1oUEIXbLpS1RuQ2bjx3f2H9Vji4lv39vxY7XAmw/uXqpbJuLh57NRrDe/t73UR5IHD0dSdX9hvP2OEx9u4rLeHXDdTVqyX5LHJK039ouy7JpDRIuUWseVPfqLqBz07ByrZ+tnTrZzpSrraXdiAkWzP3SofxRVSvdVbRynTm/P7xjSqdjXj0ZnsPFSaB3Y088hnlGQba6rrUgXVIisbVAHb8hyaG14bKtI5dviTjhbcfPO7JNK275XO0nQu3VNVW2Li2n7djyskMLyVLlLWc7qRIqaeladjhflipbcq6qRWkxTLa4bR8W9HxS2RbGHVWxTlrzX/p+srXknYz0d/V5lmvpW5ZQs5aLkq/8uVV925cp+FbRurSj3J2bkd1rCAbo7e8Z+wYjuHMyMvR25nJXTYT3oLiyd1Sy0eHnExHw70raF6xueCXKt2Rv44+AocCcFQ4t2mvMSP5E/vBSgN5NV7q6C+hWndCjfRrWfK3/gL7O59/rsfe50t+ErarF46paufbpKQ7itEz9JBO3nmlJouS0Dul6I5hmcZJmVvq7rimI/iAPwXGihLVtFcKLozFpid5qg9YS8URkmhZh446ttpaIkxx/Kr68FMQmA5ErtmK2bC6+ytalsxAnWzkeIVs53out8cHIfvYhzNVLUtW3nF2dsstSdUvOVbconbVoHCYfDC7Z9sEHn8FDTttkrHqdKlgUi8ROM/D91h3YGOuHFIeWvnM/n4hhCwyI+FbMU7ZE3nczQh/VqwJq0Lq0nVvPAfD77xqs03+c3pyWgIQDgeih/wi7223jMT8qAI5tweSujEb0zZEI/4fzn8qpbnjtGDDgwTD4fLCmbKva+xKxRDaCEHShWqkh1dVdQLv6ICwuBu4rRImntzjxX45Hyp6KNZFVtXhcZSvX3fogWASy9uxPhGrq5yEIe2QPUtNt88j6JbmKFn19EDm1tHXkIUNNyE7fYyshy5aI/wpD5EQ/uBkMWkvE4ROqatxNTusx+HUwag3SVt26tBk5e7zQx09vIbnTcMyIj4F/K3mW1qTl7Oo4Lks1LTlX06K0+WgWvPz9Srb98KiliOlrLFfik6paJydGRyLS3tK3aQgCYC/ZZmHN4hQEl2mJPBKz+4otI3dpDVqXLtEhBPNfMyJ2kH7nMDoNwz+ejQB7g7xufjD1Fcugd+JYMl551YjZ/2dvHKGc6oZXpXxL9hpxrF0zHGOGxmPZ16XnRGZSHHInBMO/md6Drnh1+pDQ0DkYMSu3Yv3iMehhWYdnhvvCd0zZ6oQqWzyuqpVrgx/6DEvBZtmG0640JA/sg/A7xemeli5CJAuZaV4Y0L2yn4B00pS73pKy1hJxr7ItEVfNcVrVtS7tg+HPGTFnRG+EPh+HhA3ZaNHNH37t5Wlfk5azq+O4LNW05FxNi9I+gZEwzh2G3uOjELc8DdlN/eDf3SHUSlS1Tk40Ld+uo33bmJG9zR8+2hVB5+qFgCkh8BObpCatS5fYPhejnzYj4psd2p3D1iX+SBw12dbySgXiTu0/k2F+SmwXx2OtRHXDK6qyJXuNbDXaiIAHxQVxcaJ+h5COxAXVt2pPV5Y6DWiNLEV2C0TIS4uwcet6RLg6VCfUmmMr1yJs/mFCwpZMZG1ag+4BoiQoS9WfpyLz4HasOzYEfpeoXbHyKm9d2gCf0KXY+sNShPcyIPOD0eh911Qk69UyzlzolrPLqKJFacPNYVi6cSOWTugBw/8WYvQ/BmOq0wb+ar9O56yGrUunJ8+B5bGIkjsHY98IRN6XhCXJFS90lp9jEfVTOCIqqVaobrgz1bVkb6e195dre1ho+SkR8V3CENhNXIyyq38QSVeGOgtoWZ/q2W8uMh0fLLl6wDTYv7Q6oSrVtXItuHUfAK+UJZiT5CZusUUxy+CPAffFI3FuKlL6+5zTtzbcOvnAkJWLnMoeiFWpmtalj2UhbUMWzK284DcsBDMWfoOZXRKwbIPcGjVrObs2LV1X2ZJzlS1Km5G1QYx3wgivW20X129e7YSEZesq7rcq16k2xLbrlobMLIctV5SLzA3pWiO6tWpdWhSrjU0qluDNFYrbuUheEIfsPbEYJn98X5Z4g+NEf1t7hdE/Vzdcm8i5c/VBwDhx97EiAYny4eDDw2314todBV0N6iygZUOajxnmIOptcXssm9EtsiB3WwLmvpcO01B/rZRWpepauZY6+MB/TxKSigbAT+tngJ9/AOKXJiDQ/xxbRug2pKQlYq3F6H1iGRZU9ZDQUXWtS+/BskcnIVYfJlsez/jF3jpx9S1nV9fSdVnVtORcTYvSez4NxSSx7bWWnMWw9P9th6FNCyfbtKp1qg0vDHlY3BG9Eos0uX7a8jyDoFnibktMqjatS/v0DUHWe/FIlttRMIvjbsnnYvo99Ut2bjpSZAvmYpsHLnQojctXQpgYIQzLxfvIW6sbrk3tvHiZguHzwVRMlft5sPMnJnTlqrsqDoMfIj5bjjGWJRg3wBuenb0x6P8SYZiwCvPvqzaehepauRZECaTPfSK4hviVlJaNfn1gEv9pJepz4dAScW9vX/R7ORM+VbREXEFVrUu3CsDMFbJl4Xu0r6R53jkHOROWl7ROXF3L2dW1dF1e1S05V9WitGy5ehXCxLa/x9c2bM4xEUpRTr7PXM061YbbffOxaoIFsXfqy/PLACx9P8RWqpT7pYatSxv6iu34FLBQbkexTP3+LxU9Fi4taQg096eFmDgj2fk/FLnUxIVyzFBxDMuHg7W9ptFlj01enQtZQnN4SJj1wTAM/mvG5dkCNREpq+4fEl5uLOmYe28o4rfZ6oItexIQ/boZYXfy6ToRXVgM6Noy+CHsP0OQ9dIg7ZbdNyQBHq9+iMhbef9JRBcWqziIiBTFEjQRkaIY0EREimJAExEpigFNRKQoBjQRkaIY0EREimJAExEpigFNRKQoBjQRkaIY0EREimJAExEpigFNRKQoBjQRkaIY0EREimJAExEpigFNRKQoBjQRkaIY0EREimJAExEpigFNRKQoBjQRkaIY0EREimJAExEpigFNRKQoBjQRkaIY0EREimJAExEpigFNRKQoBjQRkaIY0EREimJAExEJln3pSN9n0buqcDABoZ7RSNc7Lya1Azo/CwnPB6F3V094enqjd/BkxG8x6wPPw8/RYnqXZgMDuUgIlctf+vLuE4TJ76Yht0gfpYQFaTO84RmehIprmY5o+fmR8cjW+5RhSUOU3E6hCWKOV5mibKTETMTgHrbt6ztoIqLXOm6livvAs2tvBD2fgEz7hq7spKvqWNGGOU7XF4MfjUbSLicn+b54BHn2x9xtereD3OWh4rPeiNrgPByylwZp04/+We9BtVR+/zvfT5lJoRg9N8XJuVd3FA7oXCRNHoY413AsT92Bvbu24ovne2BdSBBit9TgKqcY02sbsXfvXrEeO7Dx43C0+HQ0Ri/M1IfqzClY9oE7PH5ZgsR9er/ytsQhyclJbtm0Bgmn9I6riQjnhImDEX10AGZ9KY+THfjmP32Q9cRgTF5d9lQr2QfitSN1OcJd4zBsbDyyKlwoayMMy/Vp7t32DWb5Z+GZEc8g+Zg+WJe5Og657YE5K9LEZdgZC+I/SXYSDuLis+LSFCWudCX7X+ynefcbsGTEMHHRK90bfv/eih2vBcCod6tA3YDOTcPKtX4IG2eCh9EAuBrg1i0EERMsmPulOGBF6cW7axTSSravBSnPe6L/23roHUhGVHBveIsrpiyxRq2ylajSY8QVNDhOvIsTJRqHUkl+JuIjguArr7A9SseX5GdCFyUhbrx9eqGI22ZG9uooBGmlNl9RGktGdk1OdLEexg4mREwJRNaadGTpvSXz+pVI/tcMxNwvrvgpjkPs/BEw1NlJbkbyJ/EwDQ3Qu68elp/iEJUWjBkvBcOnbelxMvtVE5IWJJbZvo4MRg+YpkYiRFzwknfpPc9XUzf4/CsC4dckIfV/DnuoKBMpH7sh7D8RMH2wxuGYdSD2XcBqJxfmbeK4yxXD/PVuOn9iP3kNjMCi125G/LNxyNTPWy0bYuwXQwsy37XflckSdxzSKylaW0QWDe4aioTKClXnQd2AbtUJPdqnYc3XmTA7BJ/Pv9dj73PiaPUdghAkYJ29NClOgtTPPRBs8hEdWYgbOxnZI5Zi66692BofjOxnH9JuL/2miitoQpgYx1byibxVflaUwv4dhHU9Y7BRjL8jcTzw+kNlrq4pH2+G13PfY4coyS8dZUb0w/0wZZMotaWK8TfOh99PExH7dSV70AlDkxbAMbND0GYjcXEKQu42wT8wDIb3kksOnFIGDHgwDD7lT/J9iViSEoIxQR56j6tH1rYUWO4bAD+RzY6Mw+Zjb2IIvPTuS0dcgFsBeadKd5DlpwTM8QrGkFsDMOZfCVjm7Dhp/4AYllnuwmxB2oo5cJswBgPKrR+dP+PAexG8Zw3SnQSrOVkUvj71wIxvRV7s+h4z/paAoEgnVY8HEjDx4RSYFs9HcAe93wWkbkC7+iAsLgbuK0SptncQJr8cj5Q9DpvH1Q/DJ7gj/lv9ircjDcnXBMPkLTvMyNnjhT5+XjC4ilOm03DMiI+BfytnRRdhazyijkQi8kF9/PYBCBlnRPwPpVUQ/uPCYOogS2hG+N0XDP9jPgiWpXvRy+DmjyEDgaRfKiuvlXMwBdGvxMNrlAnycqLZl4LE3HAM9xXvOwzHmL/PQcJP5Zd3D3KvEcOGxpc5yTOTxO3zBLFMzfQeVxFLnrjTaWoUsVhLRWZkLl2CeLGv/Tvp/c6XnOYH0YjeE4i7/O03yhakr02A6b4hcBNL6T8iHNsXJ1Z8jvCXBT5imNnxwnwsGUs+MIn9fekvM1cFgzxuMpFdrjpKspzIgaV7H/iJi6085/0nzMPSB2+2DbTLT0f02CjghfdEQe/iXEGVfkho6ByMmJVbsX7xGPSwrMMzIr18x4hbknzbcB9TMNxXp2kHdOaGBOB+EXgiYMUQDH/OiDkjeiP0+TgkbMhGi27+8GvvfCPm/p4Fy7YoDNYeINheg2dkwuKQjwbXRvo7QYa4jARtXjWT8nTvkml79pmIzKFLsXR8STxrIYsJgfryG2EKMCFhbXq5qoxsUTIzIuDBEKTYT/KidCQugH7nQNptasl+LPtwr8w+6CyOjTUemB0fWaH0XTu2qjLbNH0x7EN3zFgxEwHyxJZkyH4ajDGD9cD2NiE4NxEp5UttJ/Jg6RaIMLfSC3Pu2pVIHnoXTPZp0SXj1vcBBG+fiN4jJyN6aZLIHA/49/VyqJ82IzFmNOJaiYLdvRfvzlXpgNa4GuAhDtyQlxZh49b1iHCNxqQleslWHuxIQMquLKSvcQwpA3xCl2LrD0sR3ktcIz8Yjd53TUXyQX2wM+KWeKv9YY/9NdVPH3j+Sh8SrkKEKLG17+IDN3vAayGbjfTn+5cEiO8TybB8sKTCwybJcFswwnNtDwstPyUivksYAruJEzq7hiX4K4jxOrHP/8otufXUqrDkdtaqscpyfEi4d+8ObEyYgcDzvi0tfUi4dU6gOPI84ONZmvhayJ6Kx2hve4gPQ+yBdMQllXtArPHA8IdN+sPCbKz5OA0hD8qHVtnI/q8+Cl04FlnF6AMPZxfAtgFa4XDVC/fCK+c7RInCYdC7otCmD5bfqjIM/xrzr4tF9MoK90MXjLIBbUmJgme/uWXrYV09YBrsj+x0cauvdfvANApIWDAH647ZqzeEY1lI25AFcysv+A0LwYyF32BmlwQs2+D8C2jGth4wrE1FpmNxtUL97wUiq26mBSM5Zg7S9flpIdsrBhtLwsMWIItGJ+OrDU7qK8U0AsaJO4QVCUiUDwcfHi5ObaFYG3pV8fIbAo9VK5Hi5EJWKy7yDkncje2xddqZ/xInXzePGj3ZNw4OR6QxFrEr7ceZLWTDEhz3q3h9MwPGT1OcPGOQ03gAIfJh4XL5cDAcwbfZwt5yNX5D5yIzi4tnQqch8KtwkbYge0sa0kWBzqObKAROmY3li8ORG5OI0suqCUNu9UDAsy8Cr0Yh4YDe+wJTNqAN/sPxmGEOot5OQ7ZZJFmRBbnbEjD3vXSYhvrDTR/Pp38wsCoJaaKfrXpA2oNlj05C7Fr9RDmWjoxfDHBvrpds2npBxDwO5Fq0agytRHpdPKJiUmzfTbZkI+WVYZi8+uJ8o9hgCscMrzhEfyJLvGakfBoP/6EDStbJxgD/gSFIdlZfKXiZguHzwVRMlQ8H7bfPV6NuYZj1yB48MyEWaftEiUjsP8uxbKTJZxOd3Gv+lSk3Ex4YloXomHhkHiw93qLfShEXwCE1e9jo6oXgZ8Ow54U5SJHVcNtFyO4MwRD5XMFRJ38Et3L2jEEw+GPIvzIR9XQs3EqqvOiCys9F5vKpGP30doS8GuZkGxtg/ikKo2fo35MXx0LWL5uR7ex4ahuIGU8BU6cn1OxbXLWkbhWHwQ8Rny3HGMsSjBvgLW4NvTHo/xJhmLAK8+9ziLKbxRXOzYCQOx2qI1oFYOYKcYu74B7ta3Ged85BzoTlmBGgb972AzDmwQN4prc3JsoQFiXSx8S8gv+KxqDOYvweQVhyTSSmDS4bmReOG4KfjIB5RjQSdqZg5So/DOhZcV4G/wEI2ZLg/Gtg8kHiUHGFlw8Hz6sO9XJngN+Ty7E82IzYUb3hLfaf953jMCd3CJZ+FFaLb3EYERD7PRb9PRVT7rYfb+tgnPo1Fjkeb9Uw3CpK0QMTRMEiHVvWJiDn/gFOAkAUEEZ4IT7J2XeibQ8SRdlM7N+r71s5F1PJM4hugzDlWyPGr1hV6cM9n/FLbcfCAFkt5YvRKV5Y9L7z48kjKBIz8qZiytILX8VYzyro753avXs3brzxRr1LQfJfgN2ZhfCtkfBjaYOIriDqPySsjLjtMB/LRdriOOyZMJzhTERXnMs3oI8lY3KP3pi4PRjzQvkVMyK68lz+VRxERFcoZQPabDbj8OHDKC6+Cr87piAXFxe0adMGRqNa3xjhcaIWFY+Ty/kYUTag5fdFr7/+ejRq5PAv+KjOnD59Gn/++af2FFwlPE7UouJxcjkfI8rWQcurHU86dch9oWIJhMeJWlQ8Ti7nY+TyfUhIRHSFY0ATESmKAU1EpCgGNBGRohjQRESKYkATESmKAU1EpCgGNBGRohjQRESKYkATESmKAU1EpCgGNBGRohjQRESKYkATESmKAU1EpCgGNBGRohjQRESKYkATESmKAU1EpCgGNBGRohjQRESKYkATESmKAU1EpCgGNBGRohjQRESKYkATESmKAU1EpCgGNBGRohjQRHTFm7LvfXx05AfsKvhT73N5YEAT0RXv+gbXYOXR/yLg15fgvjkUd//6Cl44sAxfHtuMnMI8fSz1MKCJ6Ir31PXDkXBjBH7rPh9bur2B8e53otBajDcPfokuW/+NzlvDMXr3bMz+6wv8eOJXnLEW6Z+sW/Wsgv7eqd27d+PGG2/Uuy6dupovVU7FfcLjRD2q7ZOaLM/2ggP478nd2HQyC5vyxUv87dnMCz2bipf8K14+jT30sS8dBjTVmIr7hMeJelTbJ+eyPLJ07RjW/z2xG7nF5jKBLd+3a3iN/omLgwFNNabiPuFxoh7V9smFWp7cQnNJYNv/NnEx4NYmnbTA7tXsRu1v0/oG/RPnjwFNNabiPuFxoh7V9snFXJ7dp/+yBbZDaHs3bi+CWoR2U1tgd2/aUR+79hjQVGMq7hMeJ+pRbZ9c6uX5OX+PViViD+zfLDm2KhG9WkT+7Whw18euGgOaakzFfcLjRD2q7ZO6Xp684lMlJWx7cFvFf7YStqweEX+bdkIr12b6J0oxoKnGVNwnPE7Uo9o+UfEY2WfJLSlhbxIl7k0nd+MGg1tJCVsGtvzL70ETEV1iHUQYB13jj5k3hOA77xdwoudSfNRpMvo2vwm/5P+OR/cuQMOfghnQREQquKXp3xDmficWeD6K9L+/AXOvpQxoIiIVNa7fkAFNRKQqBjQRkaIY0EREimJAExEpigFNRKQoBjQRkaIY0EREimJAExEpigFNRKQoBjQRkaIY0EREiuLPjV5EZ8WmLcZZnDprgau4Fsr3xaJfkbVYfy9e4m/R2Wq65fj6e/nXebdtXjUbt5pu7b2cXrFYltJhL+Ie5fYJf25UPfy50QtH6YBea9wrwkEEWrnAsv911r984FTVv+znRSCJcYrkey2kbN3O+zv7vO2v43zqiS3rUs8F7Q2tkVOYB9d69eEi/6tXT/vrWl92i5fWv74YLoeV9ivfrY1TX36yfLeYnhxX/K0wvJpplumW45f5fNnp9Th6LQOaqsWAvnCUDuj/uHxXMUTkX/19+TBy2t9hWE0Cr7LxKutv+7wMyIr964n/riQqHuiX88l3pVJtn1zOxwirOKjGVNwnPE7Uo9o+uZyPEQY01ZiK+0Qu00eNt+hdl7fDhWa0aWDUuy5f/yzozoC+QJT9FoeLiwtOnz6td1Fdk/tC7hPVyGVyq9dMFDVEx2X/Ev+r0O/yesl9odpxcjlnibIlaLPZjMOHD6O4uFjvQ3VJHuRt2rSB0ahWCY/HiVpUPE4u52NE2YAmIrra8R+qEBEpigFNRKQoBjQRkaIY0EREimJAExEpigFNRKQoBjQRkaIY0EREimJAExEpigFNRKQoBjQRkaIY0EREimJAExEpigFNRKQoBjQRkaIY0EREimJAExEpigFNRKQoBjQRkaIY0EREimJAExEpigFNRKQoBjQRkaIY0EREimJAExEpigFNRKQoBjQRkaIY0EREimJAExEpigFNRKQoBjQRkaIY0EREimJAExEpigFNRKQoBjQRkaIY0EREimJAExEpigFNRKQoBjQRkaIY0EREimJAExEpigFNRKQoBjQRkaIY0EREimJAExEpigFNRKQoBjQRkaIY0EREimJAExEpigFNRKQoBjQRkaIY0EREimJAExEpigFNRKQoBjQRkaIY0EREimJAExEpigFNRKQoBjQRkaIY0EREimJAExEpigFNRKQoBjQRkaIY0EREimJAExEpigFNRKQoBjQRkaIY0EREimJAExEpigFNRKQoBjQRkaIY0EREimJAExEpigFNRKQoBjQRkaIY0EREimJAExEpigFNRKQoBjQRkaIY0EREimJAExEpigFNRKQoBjQRkaIY0EREimJAExEpigFNRKQoBjQRkaIY0EREimJAExEpigFNRKQoBjQRkaIY0EREimJAExEpigFNRKQoBjQRkaIY0EREimJAExEpigFNRKQoBjQRkaIY0EREimJAExEpigFNRKQoBjQRkaIY0EREimJAExEpigFNRKQoBjQRkaIY0EREimJAExEpigFNRKQoBjQRkaIY0EREimJAExEpigFNRKQoBjQRkaIY0EREimJAExEpigFNRKQoBjQRkaIY0EREimJAExEpigFNRKQoBjQRkaIY0EREimJAExEpigFNRKQoBjQRkaIY0EREimJAExEpigFNRKQoBjQRkaIY0EREimJAExEpigFNRKQoBjQRkaIY0EREimJAExEpigFNRKQoBjQRkaIY0EREimJAExEpigFNRKQoBjQRkaIY0EREimJAExEpigFNRKQoBjQRkaIY0EREimJAExEpigFNRKQoBjQRkaIY0EREimJAExEpigFNRKQoBjQRkaIY0EREimJAExEpigFNRKQoBjQRkaIY0EREimJAExEpigFNRKQoBjQRkaIY0EREimJAExEpigFNRKQoBjQRkaIY0EREimJAExEpigFNRKQoBjQRkaIY0EREimJAExEpigFNRKQoBjQRkaIY0EREimJAExEpigFNRKQoBjQRkaIY0EREimJAExEpigFNRKQoBjQRkaIY0EREimJAExEpigFNRKQoBjQRkaIY0EREimJAExEpigFNRKQoBjQRkaIY0EREimJAExEpigFNRKQoBjQRkaIY0EREimJAExEpigFNRKQoBjQRkaIY0EREimJAExEpigFNRKQoBjQRkaIY0EREimJAExEpigFNRKQoBjQRkaIY0EREimJAExEpigFNRKQoBjQRkaIY0EREimJAExEpigFNRKQoBjQRkaIY0EREimJAExEpigFNRKQoBjQRkaIY0EREimJAExEpigFNRKQoBjQRkaIY0EREimJAExEpigFNRKQoBjQRkaIY0EREimJAExEpigFNRKQoBjQRkaIY0EREimJAExEpigFNRKQoBjQRkaIY0EREimJAExEpigFNRKQoBjQRkaIY0EREimJAExEpigFNRKQoBjQRkaIY0EREimJAExEpigFNRKQoBjQRkaIY0EREimJAExEpigFNRKQoBjQRkaIY0EREimJAExEpigFNRKQoBjQRkaIY0EREimJAExEpigFNRKQoBjQRkaIY0EREimJAExEpigFNRKQoBjQRkaIY0EREimJAExEpigFNRKQoBjQRkaIY0EREimJAExEpigFNRKQoBjQRkaIY0EREimJAExEpigFNRKQoBjQRkaIY0EREimJAExEpigFNRKQoBjQRkaIY0EREimJAExEpigFNRKQoBjQRkaIY0EREimJAExEpigFNRKQoBjQRkaIY0EREimJAExEpigFNRKQoBjQRkaIY0EREimJAExEpigFNRKQoBjQRkaIY0EREimJAExEpigFNRKQoBjQRkaIY0EREimJAExEpigFNRKQoBjQRkaIY0EREimJAExEpigFNRKQoBjQRkaIY0EREimJAExEpigFNRKQoBjQRkaIY0EREimJAExEpigFNRKQoBjQRkaIY0EREimJAExEpigFNRKQoBjQRkaIY0EREimJAExEpigFNRKQoBjQRkaIY0EREimJAExEpigFNRKQoBjQRkaIY0EREimJAExEpigFNRKQoBjQRkaIY0EREimJAExEpigFNRKQoBjQRkaIY0EREimJAExEpigFNRKQoBjQRkaIY0EREimJAExEpigFNRKQoBjQRkaIY0EREimJAExEpigFNRKQoBjQRkaIY0EREimJAExEpigFNRKQoBjQRkaIY0EREimJAExEpigFNRKQoBjQRkaIY0EREimJAExEpigFNRKQoBjQRkaIY0EREimJAExEpigFNRKQoBjQRkaIY0EREimJAExEpigFNRKQoBjQRkaIY0EREimJAExEpigFNRKQoBjQRkaIY0EREimJAExEpigFNRKQoBjQRkaIY0EREimJAExEpigFNRKQoBjQRkaIY0EREimJAExEpigFNRKQoBjQRkaIY0EREimJAExEpigFNRKQoBjQRkaIY0EREimJAExEpigFNRKQoBjQRkaIY0EREimJAExEpigFNRKQoBjQRkaIY0EREimJAExEpigFNRKQoBjQRkaIY0EREimJAExEpigFNRKQoBjQRkaIY0EREimJAExEpigFNRKQoBjQRkaIY0EREimJAExEpigFNRKQoBjQRkaIY0EREimJAExEpigFNRKQoBjQRkaIY0EREimJAExEpigFNRKQoxQPajLeezMHnOXrn1ezsKezecgLms3o3EV3x6jigi2HOOoYXow+h+5OH0O7pQwiJO4bdBfrgq9jmeLE94s16l3D0DBZ8XIAV+/Tui2nbEbR78gg2651EVDfqNKAt24/joXcKYRjYDOtfaY29Uc0wtn4hgucfw36WFMtq0xJvvOaOhzvq3UR0xXN5QdDfO3X06FG0bt1a77qQ8vHpwtPI7tkUsSKgDa714dqwITreXIicxDP4/frG6H1tITZ+XQTDDYX4/L08/HNVPlb9YsGt3ZvAvYFtKpbfjiF6vhmTE/OxYP0p5Bjqof8NtoE53+Sg8w+FCNhrRvD7JzFt7SnkNyodLj6NjBVHS4dZLVi/wIz/tW0m5i0Gnz2FHz88hjFLxfBv8vHbCSv6djFAzKIcWRWThx31TiN24Ql8Za2PwOYnMT7qFNoNboLr9bFkqbjnL2cRcYtBex/1RzFc15sx5qOTmCuWvVE7V/i2OSWmdRzhh8QHDhXhP19bYJLTyDkmpncCxb5N4d1Un1+j04h79wTGf6Vvl25ARvwx/FNML+q78utajP0bj2HafMfxDXA3lL1Ga8uYLK+OZ/Hx1/locF19/PnBUUQfq4cRnRvaRtonttnLJ9G0d1O0+EFu4zPo/vOJkvk2aFEPvdvVbr5EVFHdnSUnCpFxtB6G3tJM76EzNMGjYY1wh1ux3sOK19afxYjHW+OPl5piwtkiRHxxwjboxHG8OL8QLQOM2PLGtdjyWAPkJJ3Ex3/aBmsyzuDLds2QHN0KO0bWx48r8/Gd/nHzBjNCttTD04+1xN4ZzTGioAifl5TcLdi85ARmwoCk6Gvxx7QmuDXrFCJEkDtnxZvbgMmPt0BsP4Per2qrUyzI69ccaTEtkXA7ME1cCDJgxONiXZJuESPc0hh/vNEaPWyjl2PFiiwXPP2c2C7PN8aoM0UY/8pJbOrWDCkxYl3vd8HPDutq2SICfjUw6mkxfowRc7yKESAubOWr93uEiHX9l6t454oksRyPd2uC27vXw3fbz5SMm7OrCD96NEDfFnqP7YU4JNZDznfLffXx7bLSfVDT+RJRRXUX0AVW7SRt1NjWWaoh3G9qga5t9dIaRICOvAZdW4jQaNwMA0VYZGQX2U7wxo3xzPMt8HgPfSLXGzCwjRU//uoQojc1xOTeTUQJvSGMPRviblEyzMiWA05hbepZ3NqvKYZ2EKViQ2N0DWyEsdqHhJxTeCfDBc8Et4BR5lWL5hg1wAWrt1kqCRe5nCJMr28Eo8FF71e12/s2wajOYtldDbjx1gYYWiBKm4f1gdWqh7FDW+KGxmLhWhhxV4962N+yAUbZ17VHA9wp1/V3Oe4prP6mGLff0xy3y+3oKtb1roaYkFOIn2swP/deDTFKjPujtuIF+Hm7FaO6G8SlRHezQVsPOV93Uap+1MOKz38+KQac33yJrnaXxX1mhRAv0v+6ipP+0KnSh4xPnkC4CBGLvfAtiVvpCuVZbXgRssW43do20XpVcOgsVosRg6fJ6dpensvEB+3zdqLixaZqLRpX3PyW2tS9O3y8kXwvXo1sneXY1nXBsmMl69JumgULxJAaza+FAXeI0P3x1wJx12LBj9n1cYco3ZdwcazzESF8Uz38mCcnfJ7zJbrK1V1AN64Hd/HndIVvbBTDkn8a5jIpW4kcMyLesVVx/PSauDV/oznmyIleKKJ0mixu8/9wfD3dSlvuy9H0R8qtyxvuuK9GK9MYfbvXx8fy7uHXIix2rN5wxqL/1Z37fImubnUX0M0boOs1Vqzelq/30FlOYGZUHhbv0rurIku57g3wYA9xe21fkxqXzFzhdT2w/1gl3+lrXQ93FBRjm2N99tkaXDTKsNZieS4mF7hdA2zY5bitxbrUYtmM3Rvg4d8K8eZ/i8tWb1RwRpSarbi9hdwh5z9foqtZ3QU0mmLEMFfkfZ+Ptzbnw1IkS875+G7pGXx+fUPc61ODetxmQI+cQqzeVQBLQQEyvsjHazWu22yCvr3qY+1aMc8/LbBYxOeTTuN9fSiub4yxHa147ZOj2H1CVm3I6R9ByKcnyhcQnWvjgm71i7Hi+1Ni3c7AvOso3t+mD6sBN/d6wNFi5FjOXIDqgKa4u199ZIht/XHWadFdJJYnD+GvHEGGs5Vxq4+hIkUPHRbztt/JNG+EgR3PYvFv9XD7TeXqcradxsdiH2jT3SwusL/Ww6jb5MPfWs6XiMqow4AGDN1a4sOHXXEo+SRum3oYni/lY3WDhkiY2Ao31GTJOrbEnHtFyC4ywzPKjHfyG+BxLyCvoGaJZuxrRPwtZ/Hi7OPi8yeworGLCCa7xrhjQjO8YizC+JcOo91UM2bmNMD0e5pXrNN2pr4RE0JdkbPmBDynHsNDX1nRzVMfVgM3dG+ICcfPoPu041h7VO95Hox9WyHxnvpY/X4e5D9CCVh2FgMfaoauzlamrXzoZ8W0mGOI+NGepI1wazexU8Qdy+3lqyc8XdDo+xPwF9P1/rQYd49uVlKFUav5ElEZ9ayC/t6p3bt348Ybb9S7rjTydluU1O0XA8txvDjtDLo9zTrSioqxOf4w3mnbHAsHlT5Yld81736wEf4IqbzSg4jOTZ2WoOtaTspRBC8+jhx5G19UgB8TzmCBsxLi1a7gNMz7zHh/W33c16uSb70Q0QV3VQe0e7+meKbpGYRF6VUYR12QPNF42X5L42LJWJkH77mFcA9siqFVfXuDiC6oq7yKg4hIXVd1CZqISGUMaCIiRTGgiYgUxYAmIlIUA5qISFEMaCIiRTGgiYgUxYAmIlIUA5qISFEMaCIiRTGgiYgUxYAmIlIUA5qISFEMaCIiRTGgiYgUxYAmIlIUA5qISFHn3KJKNR8jIqLzVG/Xrl1MWiIiBVVbgiYiorrBOmgiIkUxoImIFMWAJiJSFAOaiEhJwP8Dq/Gat2SXLN8AAAAASUVORK5CYII=)\n",
        "\n",
        "Click this, and change your hardware accelerator from \"None\" to \"GPU\".\n",
        "\n",
        " ![image.png](data:image/png;base64,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)\n",
        " \n",
        "Then run the below line of code again. \n",
        "\n"
      ],
      "metadata": {
        "id": "roapciSSx3K_"
      }
    },
    {
      "cell_type": "code",
      "source": [
        "!nvidia-smi"
      ],
      "metadata": {
        "id": "lJf-Xx6ozJLY",
        "colab": {
          "base_uri": "https://localhost:8080/"
        },
        "outputId": "a1f7e823-7b98-4fd9-f074-8bbc5b8d09f0"
      },
      "execution_count": null,
      "outputs": [
        {
          "output_type": "stream",
          "name": "stdout",
          "text": [
            "Sat Jan 28 01:10:50 2023       \n",
            "+-----------------------------------------------------------------------------+\n",
            "| NVIDIA-SMI 510.47.03    Driver Version: 510.47.03    CUDA Version: 11.6     |\n",
            "|-------------------------------+----------------------+----------------------+\n",
            "| GPU  Name        Persistence-M| Bus-Id        Disp.A | Volatile Uncorr. ECC |\n",
            "| Fan  Temp  Perf  Pwr:Usage/Cap|         Memory-Usage | GPU-Util  Compute M. |\n",
            "|                               |                      |               MIG M. |\n",
            "|===============================+======================+======================|\n",
            "|   0  Tesla T4            Off  | 00000000:00:04.0 Off |                    0 |\n",
            "| N/A   61C    P0    30W /  70W |      0MiB / 15360MiB |      0%      Default |\n",
            "|                               |                      |                  N/A |\n",
            "+-------------------------------+----------------------+----------------------+\n",
            "                                                                               \n",
            "+-----------------------------------------------------------------------------+\n",
            "| Processes:                                                                  |\n",
            "|  GPU   GI   CI        PID   Type   Process name                  GPU Memory |\n",
            "|        ID   ID                                                   Usage      |\n",
            "|=============================================================================|\n",
            "|  No running processes found                                                 |\n",
            "+-----------------------------------------------------------------------------+\n"
          ]
        }
      ]
    },
    {
      "cell_type": "markdown",
      "source": [
        "**And there you have it.**\n",
        "\n",
        "The above code printed out the specs of the gpu that google connected you to. Any code you run in this notebook will be run on that device (at least until you disconnect from the runtime). \n",
        "\n"
      ],
      "metadata": {
        "id": "ezKRmvoyNPBD"
      }
    },
    {
      "cell_type": "markdown",
      "source": [
        "# Intro to Linux Commands"
      ],
      "metadata": {
        "id": "mTiCEhohNfYh"
      }
    },
    {
      "cell_type": "markdown",
      "source": [
        "Let's take a step back and look at the line of code you just ran to print that: ***!nvidia-smi***\n",
        "\n",
        "nvidia-smi is a *linux command*. Linux is an operating system (like macOS or windows) that is commonly used for technical applications. Linux commands are typically ran in a command window (like cmd, on windows). \n",
        "\n",
        "If it feels weird that you ran a linux command from *inside* a python environment, that's okay. It should feel a little weird, but it's the \"!\" that makes it work. \n",
        "\n",
        "An \"!\" at the start of a line of code in an ipython environment is how you access the linux command window. When you use \"!\", it opens a new linux command window, runs your line, then closes the window. \n",
        "\n",
        "**It's important to note that a new window is opened and closed for each command. It does not save your changes.** To save your changes, you need to start the line with a \"%\" instead of \"!\". \n",
        "\n",
        "Let's explore the difference between \"!\" and \"%\" below. \n",
        "\n"
      ],
      "metadata": {
        "id": "JmpLfzqnux7D"
      }
    },
    {
      "cell_type": "code",
      "source": [
        "!mkdir test_directory\n",
        "!cd test_directory"
      ],
      "metadata": {
        "id": "9GHCJnyMscV7"
      },
      "execution_count": null,
      "outputs": []
    },
    {
      "cell_type": "markdown",
      "source": [
        "**What did we do here?**\n",
        "\n",
        "We first called the linux command \"mkdir\" to make a new directory (folder) called test_directory. Then, we called \"cd\" (**c**hange **d**irectory) to navigae into our new test_directory. \n",
        "\n",
        "If you click on the folder icon on the left side of your screen, you can look at the current filesystem you are inside.\n",
        "\n",
        "You should see a directory called sample_data, our test_directory, and (at the top), a button to move back outside the current folder. Let's check what folder we are in using the pwd (**p**rint **w**orking **d**irectory) linux command."
      ],
      "metadata": {
        "id": "HdeR8PleFBW6"
      }
    },
    {
      "cell_type": "code",
      "source": [
        "!pwd"
      ],
      "metadata": {
        "id": "YGezfLy1zjn4",
        "colab": {
          "base_uri": "https://localhost:8080/"
        },
        "outputId": "c372f096-34d4-4699-d72a-27fb6ea5015a"
      },
      "execution_count": null,
      "outputs": [
        {
          "output_type": "stream",
          "name": "stdout",
          "text": [
            "/content\n"
          ]
        }
      ]
    },
    {
      "cell_type": "markdown",
      "source": [
        "**Huh. We aren't in our test_directory.**\n",
        "\n",
        "Let's check to make sure our directory exists. "
      ],
      "metadata": {
        "id": "Kx2hNOIoLg59"
      }
    },
    {
      "cell_type": "code",
      "source": [
        "!ls #list directory linux command"
      ],
      "metadata": {
        "colab": {
          "base_uri": "https://localhost:8080/"
        },
        "id": "ps3bGreyLZ7i",
        "outputId": "ed0a169a-3d8c-4c8d-c99f-c815369c19c7"
      },
      "execution_count": null,
      "outputs": [
        {
          "output_type": "stream",
          "name": "stdout",
          "text": [
            "sample_data  test_directory\n"
          ]
        }
      ]
    },
    {
      "cell_type": "markdown",
      "source": [
        "**Yep. test_directory exists. So, the issue must have been with how we called cd**\n",
        "\n",
        "What happened? We didn't \"save our changes\" by calling \"%\", so the directory we changed into didn't become persistent. To navigate into the directory, we need to use %cd instead. "
      ],
      "metadata": {
        "id": "tTEctLCkMJOe"
      }
    },
    {
      "cell_type": "code",
      "source": [
        "%cd test_directory"
      ],
      "metadata": {
        "colab": {
          "base_uri": "https://localhost:8080/"
        },
        "id": "erW9y9yGMDVR",
        "outputId": "1627af18-8c94-44a8-a51a-5fd7180e1129"
      },
      "execution_count": null,
      "outputs": [
        {
          "output_type": "stream",
          "name": "stdout",
          "text": [
            "/content/test_directory\n"
          ]
        }
      ]
    },
    {
      "cell_type": "markdown",
      "source": [
        "Cool. So now we know what linux commands are, how to use them, and we know there is a differenfce between ! and %. But what is the difference? What does \"%\" actually mean?  "
      ],
      "metadata": {
        "id": "NcIhZQMTNubc"
      }
    },
    {
      "cell_type": "markdown",
      "source": [
        "## Magic Commands"
      ],
      "metadata": {
        "id": "9n9qZR8w-BlO"
      }
    },
    {
      "cell_type": "markdown",
      "source": [
        "Ipython has a set of very useful commands that make life with python much better. These commands are called \"magic commands\" and they are denoted by the \"%\" symbol. Magic commands are functions built into the python environment (called a kernel). So, herein lies the difference: \"!\" sends your command to the linux operating system environment, and \"%\" sends your command to the python kernel.\n",
        "\n",
        "The reason that we have to use %cd instead of !cd is because we want *our python environment* to change directory, not our linux os environment. That's why using %cd gives the effect of \"saving our changes\". Python has other ways of changing the current directory, but they are more convoluted. With \"%\", ipython does all the work for you. \n",
        "\n"
      ],
      "metadata": {
        "id": "ICRRoJzk-J1p"
      }
    },
    {
      "cell_type": "markdown",
      "source": [
        "# Mounting Google Drive"
      ],
      "metadata": {
        "id": "j7I2HVNSOFo4"
      }
    },
    {
      "cell_type": "markdown",
      "source": [
        "Restart your runtime. (At the top left, under the file name, click runtime, disconnect and delete runtime. Then click reconnect on the right side of the screen.)\n",
        "\n",
        "![image.png](data:image/png;base64,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)\n",
        "\n",
        "If you open the folder icon on the left side of the scren again, you'll notice that test_directory is gone. This is because your files were being saved *locally to the device google gave you*. When you disconnected, google wiped any files you saved on it to make it ready for the next person.\n",
        "\n",
        "**This means anything you save into the colab environment directly will be deleted when you leave.**\n",
        "\n",
        "But what if you want to save files? That's where your google drive comes in. \n",
        "\n",
        "If you don't have a google account (gmail, google drive, etc), create one now. Then run the below code and follow its prompts. "
      ],
      "metadata": {
        "id": "cQ4oGQ25OX07"
      }
    },
    {
      "cell_type": "code",
      "source": [
        "from google.colab import drive\n",
        "\n",
        "drive.mount('/content/gdrive')"
      ],
      "metadata": {
        "id": "HuFYziXrMBvM",
        "colab": {
          "base_uri": "https://localhost:8080/"
        },
        "outputId": "bef246e6-c99f-4bcb-c0d5-7722567022c1"
      },
      "execution_count": null,
      "outputs": [
        {
          "output_type": "stream",
          "name": "stdout",
          "text": [
            "Mounted at /content/gdrive\n"
          ]
        }
      ]
    },
    {
      "cell_type": "markdown",
      "source": [
        "Now, if you check under the folder icon again, you should see a new directory, called gdrive. (If you don't see this, click the folder refresh button above where the files are listed). \n",
        "\n",
        "![image.png](data:image/png;base64,iVBORw0KGgoAAAANSUhEUgAAAVEAAAFUCAYAAACduw/xAAAAAXNSR0IArs4c6QAAAARnQU1BAACxjwv8YQUAAAAJcEhZcwAADsMAAA7DAcdvqGQAACHKSURBVHhe7d0PeFT1vefx7/lNNP5pYyl/aq3Z1piKMcWGqJcNUAmi4Pa5wL1KU7uU3qcBq65oubd7raV/KHuvSLl1y7PFulbIXUt97prS2wV3+0i5loiBaJWAaKRg5Lk1PE/V1Ouz6WoZyczZ8z1zDkyGZJLzm/yZmbxf7XFyzkySM8PMJ9/fOb/z+zmfmTnTNcaRR5r+UQAA0XghWuc6jpGnW1uDTQCAoTKO43g3bmoNABCJSUrSq0eDNQBAJMZNupJ0qUQBwIYRbc6ToQBgxRjHeDe05wHAhtEz88ZokAIAoko15/0z9ACAqEzMlIguAIDovJY8zXkAsOU35x1CFACsGNdNSjKZDFYBAFGYVB9ROooCgA2vEiVAAcCWcbUKJUcBwIp/Rolr5wHAjjPn2no/QVue3u1vAIDh9Ic//EH27t0brEU3ceJEufzyy2XSpEnBlvziXPuZVIg+vYcQBTD87rnnHj9Ic6EBumHDhmBtcPr79PH6uwcLX33s9u3bZfHixVZB7dTPSYXo7hZCFMDw0oDSIJs1a5YfUtno47LRUBxqyIXBrY/PFqT6mKamJvntb3/rV7uD7UN//GOiqdHtAWBkaIhlW4ZbGJxhRaq3mdIDVB9rE6DKOJxTAlBkwlAcKEgzAzTKoYJMxj8xnyRJAYwtbe73t2gz28ZAQTqcAaqc+s/U+1MmP9Xy62BT4ek52iYdbwUrfZTKxdfUSnmsS1qamqXz0gZZMa9cJN4l7c8fl/iUaqm7rCx4LIDhpoGlQRYGog096aOLhp2GXlTpAarfr8twBahybrhunl+M7nrqX1JbItAnduTIEWlsbPR3UL8eCu2yMHv27GAtd+3rK2TJj4OVPupl/b4maTi+TioaNnvrK2TbsdVS+0azNM68V1q+sk2O3VubeiiAYZcPIarSg1QNV4Aqc84558o555wTrEajfb800cMADZ/sYMtQwzaaZdK0/6Ac7LNslMX6mtfcKo/93Z2y9rFbhcgExqfMAA4DNVfOkr+8ye1NJOQX2/9XsGnoNECV7TGL4ZKqRIMqM9iWKf5Oj8TPLpOy872VgSrRd7uk48Bx6ZFSmVxdK5UTgu1p4r/rkPauHpFzJkvltEqZXBrcAeAM+VCJ6j6kHwMNt+nX4THTXJiTvSel11tsaHiOdYAOTbs8cFWN1PywPVjPFJfOx+6QmmlzZOGXlsrSLy2R+VdVyZKHOrx7Ar1dsmNljVTNXejd7z2mYb7MuGqhPPDCqUcAyDOZAapB3N/JplyYk++flERvb7AaXa47MHy6pL21TdrSl6NexTgEPb/8uiz8dotU3vWYPH34mBw7/Jw8saZOOv5hiXz9l8HPOLjV/7r+734lh496j9n/hKyuL5WuQx1e5Qog3/QXoCq9Ah2OIDWJRK+ctAzRMNV1B1pbW/31oSxamg+/nbLOryLTln/uDO7Lpku2b9kh8emr5Qd/XSfl2jwvnSzVf7VaVk+Ly46dbamQjAXt9ng8VZ1OqJYVm7bJxsZa4fw+kF8GCtDQcAap0VHtbUe2t/2lenZ++PVzYumuIZxG6j0uXQe82wNrZE5FhVScWubLmpe87U+9LH4UT2uQjbdUS9vfL5Say2pk/pdWyQNPeFWofREPjBuaFbaLDS3UBgrQUGaQaujacObNnesmkwn5dcvTwaZo9JfrToylwU8stcu6iiWyOTyRlH5i6T/HZd1lS2XzXzXJwbv7++5SKZtw+uxR/HiHtD3bJrt3PiLNT3WLzNsoex5ZJJOD+wGcFoaTBlquooRc+Hs1JAcTPnbRokVW53i8EK33QtT1QrQl2FR4cgrRe8uluXGG3Nvpff8u7/tP5WVcOls75IJ/XyuTdUbp3h7peLpDyuZ4Tf5ghun2H8yQJT+sTvVFvTC1DUBfGlIaom+//XawJTrbM/ujQkN07pw5ro3u7m738OHDwdrY2X//Je4ll9zn7g/Wz7Tfve8S7zH3B4/4/ePul9PWTzx/n3uDt375577vbn/+Vff1zn3uT77x5+7ll1zufvlnr/uPef2nN3u/4xL3hr/9ibuv8y339UOPu9+53vsZ1d9x953wHwJgHHKuv+46rxJNylO7ow+Fp1cqKT3moB3vh3rCSIfFWr58ebCWu9wq0dR3dLc9KKtWPiBt7/irIudNlkXfeEy+t7TSa9B7erul7aFVcscPghNNakKdrP4fTbJi2unmPoDxxZlXf52GqdW18xqaWqprIGq5PtQrkaZOnZqf/Ut749Lzx1S/z9IPlklp0GzvI94jPe/pF32PlQIYn5x5c70QTdqFKACMd0a8KtQVuy5OADDeGcc43n8Y2R4AbHiVqBegugAAIjOu6zXlyVAAsOKFqCO6AACiM15bPvgSABCVcRzDiSUAsGT8+CREAcCKcYzxMpQQBQAbfkueEAUAOyZ1w8klALDhNee9SjSIUgBANEYHHwEA2PFrUDdBkAKADX8UJ38BAETmhagOg8dQeABgw+io9roAAKIzGp9kKADYMW6SofAAwJbpTSQloUEKAIjMuXbWTFevn2/Z80ywaXzRWUp37Njh32azePFifwGAdCaZTIgu41VTU9OgAap0euihzquPwqfviQ0bNvhTggPZOLPr/syvRPe0tgWbxpfGxkb/VsN0IOFj1FhVpPqh1n0c6EOdr5Vyoe73Pffc4+/z5Zdf7v/7T5o0KbgnpbW11b99++23ZerUqf79mY/B+BArv+ij39UBSBpX3BpsGl/C6jLbBzm9Aj1y5Ih/qx+u0aRB9PrrrwdrZxqr/RpMoe73DTfcIHv37vX3vauryw/K8847z38vaIV64MABf9H918ft2rXLv2/ixIn+43TB+ODUXT3d1aHw9v5mf7BpfIlaiYZGu4Lqbx9saLWkP2u0QqtQ9zvUX0W6ZcsWPzizCfeV6rT4+XMs+TN+IhKtOtIr1EKhgZDtD8ZY0sDR4OkvfMZqv8P9SD8ssXz5cj8ktSLVRYM2M9z1sRq0+ngUN78S1SuW2l44EGwaX8JKKWolGhqtD/ZQ9nMohuvnDFW21y6TBlIYWho+Gk6ZRmu/le5P5knH9Io0U39/WGfNmuW3WPp7PIqD30+UK5ay0w9u5oLhpUGTHkAaOhpAY0X3JTNAVeaJsjA4db2/sNRqdLCmPwqbf+18ks72GEMaPBpAevImPbhG85hzOg3EzIpShSGZHqS6TW/DoFy0aJF/my4MWRSn1FB46Jd2Y+nvw1TI8rGSDpv82lROr9o0sKIcDhguA70+GpjaxFfpQarHSMOQzDw2Giq29xFO8wcgwZk0QPVDom/+Qv4A6L7r2WRdwr6N4QmRfKChEwaPhqZWo+F+qvT7x1oYlGGTPTNIs9H+pChOxp/ucxgVQ7MlDNBQIQapfsC1itP91r6MuuhzCrvs5IvMSlMvwdUlpIHVXxN5JOk+hUGZLjzUkH6sNj1I1UCv7VhU1BgdOuu8ODmWo/rG0UpH3yj6IdVFK51CDNTMAFX6gSq0INXnoPsd/lvorf776L9Jvvy7hMcYQ/rah/sX7rcu6aE6GnSf+juptW/fPv9W91vvD/c9PUi1as783sznieLin1jKpRrVN5C+4fVYlr559A0TniDQD0D417tQhM0ufU6h8AOTL+EzmDCM9DmETWH998n84zDWMsMmrJZ1CYM/fRlNYVCm0/dy+IdUm++6j+Efq/Qg1fvC79XXX38WipeJeZVoiRMLVqMLqwR9k+ubR98w4RtM5dsHdzC6/7rv6cfhdJtWcYMd98oXGka6/+nVj36o0wMpH5qX6ZW9tmSyhc1oV6MqPQxDus9hcRD+UQ0PN2QGqT6f0Q5/jD7/mKgjdu15rXj0jaMfyPTQUfoBDpuP+phC0l/TK/P5FRp9TvocwqW/5zjaNOzD94fuz0D7pPeP1XsoDNL0fdN9CStlfY+nFwp6Xxik2f4ooHg4s2s+7WqM7jkQ/Yql8DihvqH6+wDoG0nfaPpmytc3VFiR9Vcx2943EsLqZzD6euvrrvulX2eGfxgAuv+zZ88Oto6cwfY7fN8MFKAq/H59LmNZ2Wm1HAZ/f8LnoPfrvuprnO15oTg4107/tCtejD6dQ4hmCxJ9I+lf8nxtCuv+qahhaPt9tjRItEk7WJCGH14NL6Whk/7hDreHtyNtqPs9GH0O+rwy/yiMBX0dddFA1VGbdJ/SwzL8Q0aQjg/OnOnT/bZ8S3u7vyEK/WDoh7G/ikeFZ7r1jTQaVY+N8A1vQz8coxVGUYWBqbfpIZpPYVTM0oNUv0bxin3iYx/7bjLpypdvvy3YFE04ruL06dP7jKGobyANUN2Wzydkzj33XH+8yPfeey/YMjT64bjlllvytsrQ113/TcrLy/0eB3pbW1srd911F5XRKAjHI83n9wiGhzPnqqvdZCIpew7YjSeqYal/afWNEo7wrbSZr7Qpr8dDeSMBKEbOZ2qv9ocTfebA88Gm6MKqM/24V3g8KGzu0oQEUIycmTVXuY5jpLX9N8Gm3ITH3ULplSpBCqDY+OOJ9iaGb7bPzGa7rocnODKrVQAodMZ1RJIjPBxeZpDqLQAUA2eG15zXC5aePfhCsGnkaHjqQpMeQLEwJSUlYmImWB1ZWpESoACKiZ+eOmUyACA6f2T7kT4mCgDFionqACAH/oklDdLnDtpdsTTWXn311eArALD3yU9+MvgqmtTZec+zB0b+7DwAFBsj/oDMHBMFABtGO4km9eJ5AEBkJumFqF61BACIzoj2EaWfKABY8TvbJ4ZxABIAGE/82T5jZnQu+wSAYmPOMjHRBQAQnbnooovkQx/6ULAKAIjCvPnGm1I/pz5YBQBEYeZed53UTK8JVgEAUZjdT7fII01bglUAQBTmSOer8srhw8EqACAK5+KLLnInT5ok7S++GGyCTqZ35MiRM+aC0pH5dQ59AAg5Hyr7oJuIvy89J04Em6BTOw9EQ5QgBRByJlxwgZs4eVL+77vvBpvGt9bWVn9GUhtaqU6dOlWWL18ebAFQ7EwykZCSs88OVjEQDcjBaPN/7969zK0PjCOm5KyzxHDZZ1Y6Q+k999wz5GY88+oD44eXn4ah8LIIA1Qr0VmzZnE8FEAfRqdLNg6VaH/CAA0RpAAy+VMmC5XoGTQw9Sx9f01zPXmkYQoAfoj2JpgeJJOGp1ahGzZsCLak6LouegLJTly6WlukvTtY7e2W9qfapIvOEUBBMid7ExJ//2SwipHXJTvX3iGPPBuk6Hvt0vzVO2TH0dQqgMJizjmnVD5w/nnBKkZepazYdVgeWjg5tVq2QNa/fFDunJ5aBVBYTMKrRJNJmvPZaLM+XOi+BCCdcZOulJ5FZ/uQnpFPp6GZvgxF5s8AULycj330IrekpET+9fXfBZtGjobQUK78GWt66acOQGJDz9oTosD44Vx04Uddbc7//s03gk1Dp5c37tixw/86vT/lQMIz3TNnzpTZs2f7XwNAITPvn3hfdLGhoajV5VACVIWPsx3gAwDyjX/Zp161FFV4fFA7nmfS+9IH4dCvw8dPnDjRvw3XAaCQ+dd7DtcAJGFVqhVqWG2GndO3b9/urxfCMVEAGCrjuv6Fn8NCA1IDU0+uaKDq11p56i1jbAIoRv4AJLnor7JMb+JreKY/JmzOA0Ax8EJUIh8T1SpTm+sajv0NxJGtya7df/R+bd5zXBRAofMr0ajFqIZftooyPB46UEjq9rfffjtYA4DC5R8TTSajHRfVajI87pk5FUa4rmNuhvdv2bLlVKCGox8tWrQoa8UKAIXAC9Hgq4jCAAwrSg1KPTOvVajehsdFwxNNmYFJgA5d97ZGqVjfHqz1o7tD2l4Jx9YDMJrM+yfiwzIms1aeGpZhh3qtVhsbG/2l0C6D1OpZj9nqH4b0JeymlW+6n90kjV/dLp3BOoDRY8ou+KBMmDAhWLWnlaUGaXqFqZd2FuLlnWG/Vj30kL7otnwM0skLH5LDu1ZIZbAOYPSYD394onzg/POD1aHTsNQl6kAd4THR4W7Ov/XWW8FXudHBR7LREA0r7MxFq3CtWAf1bodsvnWGVFVUSM3Na6T50TXe1+vkVIP9+E5Zc3ONVFRUyYxbH5TdXfHgDs8bzdLoPbb5F6tkxqcqZN0LQXO/sVm0Qd/xwzlS1afp3ylbF1fJmtbUz4i/tFVW+T879bt3jPy4M0BRM6Vnny06ipON9E71Q6GP02OlGjjD7ec//7m8+eabwdrY0NdC/0hknmzrq0d2rl4iW8/7pjzx0mF57r83SLy1WU7FZG+HPPjlVdK16DE5ePSw7PlWtXT8si24M7RZNh+6Th77l4PytZpgU6B6XoNM+emT0t4bbPhdm2x/rUFuvKbUC+dmueMLu2XmhufkmPezn/iKyAPLvPBOy2gA0ZhYLGZ92ac23zUYhxqKWqlp5/uRauJv3LhxzINUhT0R+vXGk/L4E3Vy5zcWSeX5pVI6uVqW3bYsuNNzcLtsiq+Ury2tljLvb1vpx+tlxfK64M7QMll9r/f9F5ZJaebfvyvqpeHDO6XtcGq1+/nd0vG5G6XWy9D2n66R7r9dLQ2XeislpVK+YJmsmLBVdr+SeiyA6EwikZBcL/0c7qa5LQ3QfAnSAR3vlBap9AIwWM/Q/a+dEp9eKeVp4XiOF3h9lUpZ5qZTqqX+CyLNrR3e1z3S1tImDfNqve/ols6jcelYO99vyqeW+bLmpbjEE6nvBBCdX4IO5/XzY60ggnSEVc9pEHmyXTp72uTXLUFTPrBo00E5duxYn2X11cGdACLzO9sXU4jmvY9/SuqlS46/E6xnmPyJSik90Cld4TFNz4neiActtUn/TrPsfHSf7PjLuX5TXqRMyj9eKjuf7zh9/FWl/R4A0RkvQYeln2i++MhHPiKrVq3yb/PS5Hr5/MIW2fTfWqTrXa8p3d0hWx/eGtzpqVksK0s3yQOPdUiPF3DxozvkwS2ZJ5YGUy0LlotserhZls2r85ryqlTqPrdSyh9dI+ueSnXMjx9vkTV/sUp20k8fsDY8A4nmibwPUF+ZLFi3TRqOf13mT6uSGbc3S2nd4uA+T0m13PmPG6V8x1KpuaxKrv2HLqn9bOaJpcFVzm6QyvcaZG5d2sHTK+6UbT9vkLfW35Dq4tTwE5nyzW/KgmD2ZgDROVdfWePqICS/OZjlssIC8NBDD8lNN92Uc4BqP9Fcpy/R3gpZeyBoEzrtxFG8ZY1U/aRanmtqEPIMKCzGdVxJuIV/evbmm2/O8wo01C07Vi2UNU91SVzD9J02eeC+rVL/2bkEKFCAhnVk+7E0ZcqU4KvcDMd1/tl/xmRZtGa1TPnZcplxWYVUXL9Guj63TTb+BREKFCKn9sor/RTd/+KL/gYw7zyAoXOmT5vmh2j7oUP+BgDA0OmEyaILACC61PQgwQoAIJqi6icKAKMtddlnsAIAiMYkNUINDXoAsGGoQgHAnn9iKckoTgBgJZh3PhmsAgCi8IfCy+bNvzn/1IJi0y7rKlKT3Q2rF9admjgPKHZeiAr9RDMU2rzzBc2fvbRRmt8I1oECkxqUmUOifRTavPMAxo5/YqkYFNS88zqvfENq3vmqmUtkzRNdwR2e3m5p++EdMv8qnUiuRubfvlk63g3uC+ec/+UaWRLcv+TbO6Wr5/Q89lUzG2XzS+EEINpc99af2CyNM6u8x1fJjK9ulc7w5/Wj66l1px9762Zp7wnuyCZzHv1DGd/U3SYP3j5farz7K66aL3f8ODVFiT9f/sx7pcX7370zK6RxW3AAINtrAOSZ1GWfRRCkhTPvfKds1nnlb9J55Y/Jwa0N0vWNL8qDLwX3Ni2VxkNz5Uf7jsmxo3tk7SeaZcn329LmRdoqT3Y3yEPe/Yf3/Be5+BerZOGNm6T07l1yWOeSv1vkgTu90AkeLV5ANbdXytpdh+XY/m2y8r11srDPzzst3rZOvrhe5Nb/4z326HPSVLdPlqwa7Nhmah795ou/J786fCw1j35berXuPd//2Cj7638kz3nP99jutVL+syWyrjUuk5c0ybF966Xe+9967/k0LUkNBzj4awDkD6NteadILv4siHnnvdB567VKmVlb6c8ZX3rpYlm7db3UTUhFRPkt2+S5TQ1SqbN6lJRJ3fX1Ev/ZvrRQXCa3Lq2Wyd79pRcvks/fEpeez35Jlk0r8+eSr6y/UeqO75eOU8cY62TF8nop1/OCE6pl2d0rZcqjT0rbGYnULdsf2Sz13/yaty/eqve7q5d6P7fFe2y2FPXn0a+XlXd7v0P3SefRb0ybR7+3XBqan5OHlqSer5TVyY3z4tL8/OlnlGnw1wDIH0XTnFeFMV1ytSz+VplsummGNH57szS3dskF0+qk9uLUXEil58Wl48dhU9ZbGjaLvNc38fwwCvhfnzEvfTrvvrTHS1WtLJAueeuM2Ua7pLPFq3MbtSkf/O6qRq/uFTmRbeIDnUf/4k/JpRq8obOCW+XtW1nca+6vDJrz3rLkx17Vm6WsHMprAOQLI64jbhF1E83/IC2V6kavKf/MY7Lyz0ql49GlMuM/3Cs7/coxLu3fX5Jqyu4J5oVvXuF/17BJxLM0i8vla/87+L2nliZpuDC420a8XdY1pDXnvZ+57SvBff0ahdcAGEaM4jTa3umUttZO6ZlQKbULl8naR3bJ96Y2y+Ot2mbukc6jXbLsNq8pG3bLPRncDpfjXdLuheWU9MrRN1nKp3fJ7gNpJ7nUYPPSX1wp9cdfltfSK9v0ffaeb+fxZbLylqA57/HnlhrQKLwGwDDyQ9SY4snS/J82+TV5/Pb/JA8Ec7/LO+3y8qFSmfJBbZKXygWTSmXn9p2pOel/1yLr7kubk95Ki2x+uEW6tPyMd0rz+nXS85XFkj6Tckq5LF6+SDruXyNbX0mdXe95aas0fv5B6cjWkr7wxtPz6HuPi3e3y4M/SNvn8y6QKeftlO07uyTuPSc9+7/ufwb3qUnlUum9Jl2/956v/3tG4jUARk4qRGPFEaL5H6CeCQvke//sNU8f/nO/S1DF9Zvkrdu2ydoFZd6dZbJgzTZZ9sZ3UnPS/81uqbxthVR7TdyebEGWVZ0smNoha+ZWSUXVQtk6ea1suatWj5SeoeyzG+VX95fL9hUz/GOR1363U2683/v92Q65ps+jX1UhM27fLpNvTJtHv2yBrP2nZdK1dr5UTZshf91SKbcurxZ5tyd1WKGkVhZ/62LZenOV1PxIp+0eidcAGDnONTU1biwWk7YX+r/2L/1yz4/81/ztrFdQ886PGu0nukkq9+V4XFP7p/r9OTNp16QcfzZQ4LwiNCaxWPrp28JUOPPOF6ALG6Spz8mmcCFAAWMcR2KWHUUT//Y7+dPzPz1jGQuFM+88gGLi1NVe5caMkWee/02wqa9szfmBRnY695ovStkXHg7WCg/zzgMYKueaKz/t6tn5Zw/oQf0zDRSiWnH2/NNtwdqZYh/+uLf8u2Ctr7MuvVY+sGB1sAYAhcskEgnp7R2sM+DAUmF55qIS//Z6v8u7O++T9zv3+I8BgELm1FRd4eqln+0dLweb+hqsEp30rVdOheZQ6HHUP/z9FX5zX5v9AFDI/DNKOkUIACA64ybdohgKDwDGQvFc7wkAY8A4hioUAGxxTBQAcpAK0SQhCgA2UnMs5dCkf/+1Z/w+n0NevMcDQLFwaq74lF+GHugIZkrLMFA/0bC/p62o/UsBIB85n67yQtSrRg92HAo29ZXt2nkNUpvKkk72AIqFc2VVtT/d54sWIQoA411RzfYJAKPNP6VEjAKAHb8S1YGZAQDRGcf1/kM3UQCwYsR1vf8ng1UAQBQmmUwQogBgyQvRJNfOA4Al/3AoEQoAdhjFCQByQGd7AMgBlSgA5IDpQQAgB860T071y9BDR3/rbwAADB3NeQDIASEKADnwQ5Qz9ABgx2gVSiUKAHY4Ow8AOSBEASAHqSmTOSYKAFaMKzqKE0PhAYCNVHNeh7cHAETmT69Ecx4A7JiSkhKJxWLBKgAgCqNdROkmCgB2jCRdDokCgCUj4ogxNOcBwAad7QEgB6nO9sEKACAa4wcox0QBwIo/ihP9RAHAjklq/yYyFACs+CeW/CAFAETmX/bJQVEAsOOfnSdEAcCO8Rv0qXP0AICI/CuWHIc+9wBgw+h186lyFAAQldeQpykPALaMR5JJpgcBABtec96lFgUAS15zXrs30cUJAGwYcZOp4e0BAJGZmGO85jwhCgA2jF73ySBOAGDH6FHRWKwkWAUARGFiJTGJncUcSwBgwxgvRHXueQBAdMbRwUc4JgoAVox2tXe4dh4ArKTGE2UoPACw4pegOlkdACA6w+AjAGCPShQAcuCP4qQXfgIAokudlqcSBQArnJcHgBwYnaQuNW0yACAqrzlPUx4AbJlUe54gBQAbRrs3uS59RQHAhvEiVFwOiQKAFRMzRudNDlYBAFGYkpg/uD0AwIJ/YkmvWgIARGd0YhDGtQcAOybmOHKW16QHAERnSvTEEgOQAIAVUxKLydklzPYJADZMzMSkhHnnAcCKSV2txNl5ALBhEsleHZk5WAUARGEc4/2H3vYAYMWPT4fmPABY8a+aJ0QBwI6JeRFawjBOAGDFa86n/gcAiM6fY0kb9ACA6IweDeWIKADYMa6jI9sTowBgwyRdVxLCHEsAYMMPUZ2sDgAQnXG9KpQIBQA7JnVaiRgFABvGceglCgC2jJ5T0rHtAQDRBVcsAQBs+IMy6xl6AEB0xk3SRxQAbHnNeddrzlOJAoANP0TFn2cJABCVMa5XiXJMFACsGOM42lk0WAUARGHEMf5RUQBAdMaYGCEKAJaMjuDk+NPVAQCiMlqFJjmvBABWjE6aTIYCgB0qUQDIgUl4CaoLACA6834iIfGTiWAVABCFOdHryp96CVEAsGH+eCIu78VPBqsAgCjMH//0J/l/8feDVQBAFOZkIiknkzTnAcCG0cHwAAB2/Nk+Y7FYsAoAiMI4dBEFAGvGOIYxnADAkl+JUo0CgB2TSCaF2UEAwI4/ilOS6UEAwIpJeFUo448AgB0/RHsJUQCwYnq9MpRKFADsmN5E0qtESVEAsGHiJ0/KSYbCAwArJqGVKIMyA4AVk0wmvUqU8UQBwIbROeeZdx4A7PjpqdUoACA6QhQAcmBcR8RlBBIAsGKSbpJjogBgybiiVyzRnAcAGybRm5BkghAFABvG1QvnOSQKAFa0lygj2wOAJeMRxmQGADtGA1SDFAAQHZUoAOTAr0QBAHYMU30CgD2vEjWUowBgKTgmyoklALDhFaExcUxJsAoAiMKkZvqkOQ8ANmjHA0AOCFEAyAEhCgA5IEQBIAdG+9onU2eXAAAR+fPOu1y1BABWvBBNeCHKyPYAYMNrzrtMmQwAljixBAA5MMY43n+4YgkAbPgDODGIEwDY8c/Oc0wUAOz4J5YAAHY4sQQAOeCKJQDIgdEApUUPAHZozgNADoI56ihFAcBGUIkSogBgwwtRAhQAbNFPFABy4DfnCVIAsEMlCgA5oIsTAOTAOAzhBADWvBA1OqhosAoAiMLEYjEvRGPBKgBg6ET+PztCK1Ydqv2CAAAAAElFTkSuQmCC)\n",
        "\n",
        "Inside gdrive, you will find *your personal google drive files*. \n",
        "\n",
        "**Anything you save here will be kept safe. It will not be deleted when you reload runtimes**. "
      ],
      "metadata": {
        "id": "Als31LKYQ47n"
      }
    },
    {
      "cell_type": "markdown",
      "source": [
        "# Important Libraries"
      ],
      "metadata": {
        "id": "rIZIlg3nSLYf"
      }
    },
    {
      "cell_type": "markdown",
      "source": [
        "The nice thing about google colab- other than the free computer hardware- is that it comes with a lot of very useful libraries for machine learning already installed. Let's take a look at some of the most important ones now."
      ],
      "metadata": {
        "id": "nCHNi7KiSb8O"
      }
    },
    {
      "cell_type": "markdown",
      "source": [
        "\n",
        "\n",
        "> **Numpy**:Numpy is a python library that handles the creation and manipulation of large datsets through the use of array-like datastructures. It is the foundation for a lot of the other libraries we are about to discuss. \n",
        "\n",
        "> **Matplotlib**: This is a very popular visualization and plotting tool. Pretty much any plot you see done of machine learning content is probably done through matplotlib. \n",
        "\n",
        ">**Scipy**: Scipy is another foundational tool with many useful functions for data analysis. It is especially useful for image processing tasks. \n",
        "\n",
        ">**Scikit-learn**: This library pulls together Scipy, Numpy, and Matplotlib to provide implementations for many popular classical machine learning algorithms. \n",
        "\n",
        ">**Pandas**: Pandas is another higher-level library that leverages scipy, numpy and matplotlib to perform data analysis and manipulation. If you are trying to inspect your dataset, pandas probably has whatever you're looking for through its DataFrame class.\n",
        "\n",
        ">**Tensorflow and Pytorch**: Tensorflow and pytorch are the predominant, easy-to-use interfaces for machine learning. In particular, these libraries are foundational to modern deep learning, which we will be getting into later.  \n",
        "\n",
        "\n",
        "\n"
      ],
      "metadata": {
        "id": "x4wH_MroWiv8"
      }
    },
    {
      "cell_type": "markdown",
      "source": [
        "Colab comes with all of these libraries pre-installed. All you have to do is import them. If you have need of a library that isn't pre-installed, try !pip install <your-library-name>. \"pip\" is Python's package installer. When you call it, it searches the very popular python software repository, PyPi, for the library you requested and installs it. If the library you are looking for is indexed in PyPi, pip will install everything for you. If the code you are looking to use isn't in PyPi's repository, but is on github, you can clone the repository to use it. We will cover cloning github repositories in more depth later. "
      ],
      "metadata": {
        "id": "xbNTL8-uL8ga"
      }
    },
    {
      "cell_type": "markdown",
      "source": [
        "# But wait, why do we even need ML?"
      ],
      "metadata": {
        "id": "mpdxusSQSgKk"
      }
    },
    {
      "cell_type": "markdown",
      "source": [
        "That's a good question, and it's one we have yet to answer. The short version is that some problems are too complex for us to solve manually. Machine learning is a way for us to search for the most optimal solution for a problem. \n",
        "\n",
        "Let's imagine a simple problem: Suppose that I want you to figure out a student's GPA based off their exam scores. That shouln't be too hard, right? Scores in your classes relate exactly to your GPA; there is a mathematical function that the school uses to take your scores and turn them into a GPA. Given some time (and maybe access to Google), we should be able to figure out the function that takes us from our input exam scores to our output.\n",
        "\n",
        "Now, let's complicate the problem. Say that I want to know students' GPA, but I don't have their test scores. Instead, I only have information about their average amount of sleep per night. Does the amount of sleep you get correlate to your grades? Yes, probably. But, it isn't a hard-and-fast rule like the relationship between exam scores and GPA. The situation is more complicated. \n",
        "\n",
        "If I sat down and spent all day trying to come up with some formula to model this relationship, I *might* be able to come up with soomething halfway decent. Now, let's consider the situation where I have more inputs. Let's say I have average number of hours of sleep, information about parental involvement in the student's learning, what school they attend, which classes they take, if they take AP/IB classes, and how many extracurricular activities they participate in. That's *a lot* more variables to consider, and the chances that any human can sit down and come up with a function that relates all those inputs to a student's GPA with any sort of accuracy is much more slim. In situations like this, we employ machine learning.\n",
        "\n",
        "Machine learning is used when a problem becomes too complex for us to manually solve. Instead of coming up with a function ourselves, we develop clever algorithms that can figure out an optimal function for us. \n"
      ],
      "metadata": {
        "id": "dCznyNHqSzJ5"
      }
    },
    {
      "cell_type": "markdown",
      "source": [
        "# Now let's do something cool!"
      ],
      "metadata": {
        "id": "-2CzIblg9X1S"
      }
    },
    {
      "cell_type": "markdown",
      "source": [
        "You now know the basics of colab, have a sense for why machine learning is important, and are familiar, in passing, with the most popular machine learning libraries. Now, it's time to use them. \n",
        "\n",
        "You have probably seen the movie *Titanic*. If you haven't seen it, you've probably heard of it. If you haven't heard of it... well... look it up I guess. The Titanic is, of course, based on the real-life shipwreck of the Titanic. In this excercise, we are going to use machine learning to predict whether passengers aboard the Titanic survived using information about their age, gender, wealth, etc (Credits to Kaggle for the dataset we are going to use). \n",
        "\n",
        "\n",
        "To begin, we need to dive a little deeper into github and *clone* a repository for our own use. \n",
        "\n",
        "Cloning a github repository basically just means copy all its contents to your local device. Start by running the below line. "
      ],
      "metadata": {
        "id": "M3VI-Uze9cEd"
      }
    },
    {
      "cell_type": "code",
      "source": [
        "!git clone https://github.com/cadenxh/titanic-classification"
      ],
      "metadata": {
        "id": "a10i3uKrvFh_",
        "outputId": "300b970b-312e-440f-d252-99737d20f181",
        "colab": {
          "base_uri": "https://localhost:8080/"
        }
      },
      "execution_count": null,
      "outputs": [
        {
          "output_type": "stream",
          "name": "stdout",
          "text": [
            "Cloning into 'titanic-classification'...\n",
            "remote: Enumerating objects: 6, done.\u001b[K\n",
            "remote: Counting objects: 100% (6/6), done.\u001b[K\n",
            "remote: Compressing objects: 100% (5/5), done.\u001b[K\n",
            "remote: Total 6 (delta 0), reused 0 (delta 0), pack-reused 0\u001b[K\n",
            "Unpacking objects: 100% (6/6), 22.71 KiB | 7.57 MiB/s, done.\n"
          ]
        }
      ]
    },
    {
      "cell_type": "markdown",
      "source": [
        "That line of code just sent a command to the linux environment to go to the website https://github.com/cadenxh/titanic-classification and copy all the files found there onto your local device. Feel free to click on the link and verify for yourself that everything copied over. \n",
        "\n",
        "Any github repository you find on the internet can be copied over to your device this way. If you are looking to contribute to a github project, or use collabortate with people, there's a good bit more you have to do to use github properly. But if you just want to use the code in a repository for your own purposes, git clone is a great, easy way to do so. \n",
        "\n",
        "Generally speaking, people who store things on github all include a few elements that make it easier for people unfarmiliar to their work pick up and use their code. The most important of which is the \"README\" file. \"README\" files are your instruction manual. Take a minute to read the README file you just cloned. "
      ],
      "metadata": {
        "id": "90oVxvZFQhMo"
      }
    },
    {
      "cell_type": "markdown",
      "source": [
        "## The Data"
      ],
      "metadata": {
        "id": "5eEJF1DuBSnW"
      }
    },
    {
      "cell_type": "markdown",
      "source": [
        "The readme directs you to a link to download the data we will be using. There should be only one file, but we are going to have to split it into three parts: train, validation, and test. **Be sure to swap out the PATH\\TO\\YOUR\\TRAINING\\DATA input for the path to the train.csv file you have**. You can simply pull up colab's file explorer, right click on your data file, and select \"copy path\" to get the file location."
      ],
      "metadata": {
        "id": "vTQbThW0BXS1"
      }
    },
    {
      "cell_type": "code",
      "source": [
        "import pandas as pd\n",
        "\n",
        "raw_data = pd.read_csv('/content/test_directory/titanic-classification/data.csv')\n",
        "raw_data.head()"
      ],
      "metadata": {
        "id": "K1xvXOoU-5Ya",
        "colab": {
          "base_uri": "https://localhost:8080/",
          "height": 285
        },
        "outputId": "bf18056a-ebb1-4c43-9d73-3dbc71934ff2"
      },
      "execution_count": null,
      "outputs": [
        {
          "output_type": "execute_result",
          "data": {
            "text/plain": [
              "   PassengerId  Survived  Pclass  \\\n",
              "0            1         0       3   \n",
              "1            2         1       1   \n",
              "2            3         1       3   \n",
              "3            4         1       1   \n",
              "4            5         0       3   \n",
              "\n",
              "                                                Name     Sex   Age  SibSp  \\\n",
              "0                            Braund, Mr. Owen Harris    male  22.0      1   \n",
              "1  Cumings, Mrs. John Bradley (Florence Briggs Th...  female  38.0      1   \n",
              "2                             Heikkinen, Miss. Laina  female  26.0      0   \n",
              "3       Futrelle, Mrs. Jacques Heath (Lily May Peel)  female  35.0      1   \n",
              "4                           Allen, Mr. William Henry    male  35.0      0   \n",
              "\n",
              "   Parch            Ticket     Fare Cabin Embarked  \n",
              "0      0         A/5 21171   7.2500   NaN        S  \n",
              "1      0          PC 17599  71.2833   C85        C  \n",
              "2      0  STON/O2. 3101282   7.9250   NaN        S  \n",
              "3      0            113803  53.1000  C123        S  \n",
              "4      0            373450   8.0500   NaN        S  "
            ],
            "text/html": [
              "\n",
              "  <div id=\"df-07dbfb7b-0ffd-4818-a599-6b957a5da662\">\n",
              "    <div class=\"colab-df-container\">\n",
              "      <div>\n",
              "<style scoped>\n",
              "    .dataframe tbody tr th:only-of-type {\n",
              "        vertical-align: middle;\n",
              "    }\n",
              "\n",
              "    .dataframe tbody tr th {\n",
              "        vertical-align: top;\n",
              "    }\n",
              "\n",
              "    .dataframe thead th {\n",
              "        text-align: right;\n",
              "    }\n",
              "</style>\n",
              "<table border=\"1\" class=\"dataframe\">\n",
              "  <thead>\n",
              "    <tr style=\"text-align: right;\">\n",
              "      <th></th>\n",
              "      <th>PassengerId</th>\n",
              "      <th>Survived</th>\n",
              "      <th>Pclass</th>\n",
              "      <th>Name</th>\n",
              "      <th>Sex</th>\n",
              "      <th>Age</th>\n",
              "      <th>SibSp</th>\n",
              "      <th>Parch</th>\n",
              "      <th>Ticket</th>\n",
              "      <th>Fare</th>\n",
              "      <th>Cabin</th>\n",
              "      <th>Embarked</th>\n",
              "    </tr>\n",
              "  </thead>\n",
              "  <tbody>\n",
              "    <tr>\n",
              "      <th>0</th>\n",
              "      <td>1</td>\n",
              "      <td>0</td>\n",
              "      <td>3</td>\n",
              "      <td>Braund, Mr. Owen Harris</td>\n",
              "      <td>male</td>\n",
              "      <td>22.0</td>\n",
              "      <td>1</td>\n",
              "      <td>0</td>\n",
              "      <td>A/5 21171</td>\n",
              "      <td>7.2500</td>\n",
              "      <td>NaN</td>\n",
              "      <td>S</td>\n",
              "    </tr>\n",
              "    <tr>\n",
              "      <th>1</th>\n",
              "      <td>2</td>\n",
              "      <td>1</td>\n",
              "      <td>1</td>\n",
              "      <td>Cumings, Mrs. John Bradley (Florence Briggs Th...</td>\n",
              "      <td>female</td>\n",
              "      <td>38.0</td>\n",
              "      <td>1</td>\n",
              "      <td>0</td>\n",
              "      <td>PC 17599</td>\n",
              "      <td>71.2833</td>\n",
              "      <td>C85</td>\n",
              "      <td>C</td>\n",
              "    </tr>\n",
              "    <tr>\n",
              "      <th>2</th>\n",
              "      <td>3</td>\n",
              "      <td>1</td>\n",
              "      <td>3</td>\n",
              "      <td>Heikkinen, Miss. Laina</td>\n",
              "      <td>female</td>\n",
              "      <td>26.0</td>\n",
              "      <td>0</td>\n",
              "      <td>0</td>\n",
              "      <td>STON/O2. 3101282</td>\n",
              "      <td>7.9250</td>\n",
              "      <td>NaN</td>\n",
              "      <td>S</td>\n",
              "    </tr>\n",
              "    <tr>\n",
              "      <th>3</th>\n",
              "      <td>4</td>\n",
              "      <td>1</td>\n",
              "      <td>1</td>\n",
              "      <td>Futrelle, Mrs. Jacques Heath (Lily May Peel)</td>\n",
              "      <td>female</td>\n",
              "      <td>35.0</td>\n",
              "      <td>1</td>\n",
              "      <td>0</td>\n",
              "      <td>113803</td>\n",
              "      <td>53.1000</td>\n",
              "      <td>C123</td>\n",
              "      <td>S</td>\n",
              "    </tr>\n",
              "    <tr>\n",
              "      <th>4</th>\n",
              "      <td>5</td>\n",
              "      <td>0</td>\n",
              "      <td>3</td>\n",
              "      <td>Allen, Mr. William Henry</td>\n",
              "      <td>male</td>\n",
              "      <td>35.0</td>\n",
              "      <td>0</td>\n",
              "      <td>0</td>\n",
              "      <td>373450</td>\n",
              "      <td>8.0500</td>\n",
              "      <td>NaN</td>\n",
              "      <td>S</td>\n",
              "    </tr>\n",
              "  </tbody>\n",
              "</table>\n",
              "</div>\n",
              "      <button class=\"colab-df-convert\" onclick=\"convertToInteractive('df-07dbfb7b-0ffd-4818-a599-6b957a5da662')\"\n",
              "              title=\"Convert this dataframe to an interactive table.\"\n",
              "              style=\"display:none;\">\n",
              "        \n",
              "  <svg xmlns=\"http://www.w3.org/2000/svg\" height=\"24px\"viewBox=\"0 0 24 24\"\n",
              "       width=\"24px\">\n",
              "    <path d=\"M0 0h24v24H0V0z\" fill=\"none\"/>\n",
              "    <path d=\"M18.56 5.44l.94 2.06.94-2.06 2.06-.94-2.06-.94-.94-2.06-.94 2.06-2.06.94zm-11 1L8.5 8.5l.94-2.06 2.06-.94-2.06-.94L8.5 2.5l-.94 2.06-2.06.94zm10 10l.94 2.06.94-2.06 2.06-.94-2.06-.94-.94-2.06-.94 2.06-2.06.94z\"/><path d=\"M17.41 7.96l-1.37-1.37c-.4-.4-.92-.59-1.43-.59-.52 0-1.04.2-1.43.59L10.3 9.45l-7.72 7.72c-.78.78-.78 2.05 0 2.83L4 21.41c.39.39.9.59 1.41.59.51 0 1.02-.2 1.41-.59l7.78-7.78 2.81-2.81c.8-.78.8-2.07 0-2.86zM5.41 20L4 18.59l7.72-7.72 1.47 1.35L5.41 20z\"/>\n",
              "  </svg>\n",
              "      </button>\n",
              "      \n",
              "  <style>\n",
              "    .colab-df-container {\n",
              "      display:flex;\n",
              "      flex-wrap:wrap;\n",
              "      gap: 12px;\n",
              "    }\n",
              "\n",
              "    .colab-df-convert {\n",
              "      background-color: #E8F0FE;\n",
              "      border: none;\n",
              "      border-radius: 50%;\n",
              "      cursor: pointer;\n",
              "      display: none;\n",
              "      fill: #1967D2;\n",
              "      height: 32px;\n",
              "      padding: 0 0 0 0;\n",
              "      width: 32px;\n",
              "    }\n",
              "\n",
              "    .colab-df-convert:hover {\n",
              "      background-color: #E2EBFA;\n",
              "      box-shadow: 0px 1px 2px rgba(60, 64, 67, 0.3), 0px 1px 3px 1px rgba(60, 64, 67, 0.15);\n",
              "      fill: #174EA6;\n",
              "    }\n",
              "\n",
              "    [theme=dark] .colab-df-convert {\n",
              "      background-color: #3B4455;\n",
              "      fill: #D2E3FC;\n",
              "    }\n",
              "\n",
              "    [theme=dark] .colab-df-convert:hover {\n",
              "      background-color: #434B5C;\n",
              "      box-shadow: 0px 1px 3px 1px rgba(0, 0, 0, 0.15);\n",
              "      filter: drop-shadow(0px 1px 2px rgba(0, 0, 0, 0.3));\n",
              "      fill: #FFFFFF;\n",
              "    }\n",
              "  </style>\n",
              "\n",
              "      <script>\n",
              "        const buttonEl =\n",
              "          document.querySelector('#df-07dbfb7b-0ffd-4818-a599-6b957a5da662 button.colab-df-convert');\n",
              "        buttonEl.style.display =\n",
              "          google.colab.kernel.accessAllowed ? 'block' : 'none';\n",
              "\n",
              "        async function convertToInteractive(key) {\n",
              "          const element = document.querySelector('#df-07dbfb7b-0ffd-4818-a599-6b957a5da662');\n",
              "          const dataTable =\n",
              "            await google.colab.kernel.invokeFunction('convertToInteractive',\n",
              "                                                     [key], {});\n",
              "          if (!dataTable) return;\n",
              "\n",
              "          const docLinkHtml = 'Like what you see? Visit the ' +\n",
              "            '<a target=\"_blank\" href=https://colab.research.google.com/notebooks/data_table.ipynb>data table notebook</a>'\n",
              "            + ' to learn more about interactive tables.';\n",
              "          element.innerHTML = '';\n",
              "          dataTable['output_type'] = 'display_data';\n",
              "          await google.colab.output.renderOutput(dataTable, element);\n",
              "          const docLink = document.createElement('div');\n",
              "          docLink.innerHTML = docLinkHtml;\n",
              "          element.appendChild(docLink);\n",
              "        }\n",
              "      </script>\n",
              "    </div>\n",
              "  </div>\n",
              "  "
            ]
          },
          "metadata": {},
          "execution_count": 19
        }
      ]
    },
    {
      "cell_type": "markdown",
      "source": [
        "Let's dig into what that code did. First, we imported the python module \"pandas\". As we talked about earlier, pandas is a module that is really good for analyzing and manipulating data. The whole \"import pandas *as pd*\" business is just creating an alias \"pd\" for the module \"pandas\". You are renaming pandas to be pd in your application. \n",
        "\n",
        "Then, we ran pd.read_csv. This function takes all the data from your file and loads it into the raw_data variable. \n",
        "\n",
        "Lastly, .head() is a function that acts on the data inside the raw_data variable. It just prints out the first few rows of data in a fomat that's easy to look at. \n",
        "\n",
        "Let's take a second to inspect the raw_data variable. "
      ],
      "metadata": {
        "id": "LSJx8-rpGNQL"
      }
    },
    {
      "cell_type": "code",
      "source": [
        "type(raw_data)"
      ],
      "metadata": {
        "id": "qNxMvnR3H4bc",
        "colab": {
          "base_uri": "https://localhost:8080/"
        },
        "outputId": "c0e06dcc-a530-4e17-8b55-951ea0383a91"
      },
      "execution_count": null,
      "outputs": [
        {
          "output_type": "execute_result",
          "data": {
            "text/plain": [
              "pandas.core.frame.DataFrame"
            ]
          },
          "metadata": {},
          "execution_count": 20
        }
      ]
    },
    {
      "cell_type": "markdown",
      "source": [
        "The above line of code will tell you what type of object the variable raw_data is. Running the code, you will see that raw_data is a Dataframe object. Dataframes are a custom object provided by pandas that is very useful for data analysis. \n",
        "\n",
        "Now, if you take a closer look at the data above, you might notice some problems with it. Some columns have a categorical label (such as survived), some have a numerical value (such as age), and others have a string value (like name). Additionally, in some columns, you may have noticed a value of \"NaN\". The value of NaN can be returned based on different errors in the original data, one of which being missing data. When working with machine learning, these types of data have to be treated differently. Two common approaches to dealing with this are to get rid of any entry that has a NaN, or to interpolate the average value from the existing data to replace the Nan. Be careful with this dataset, because some of the columns, such as Age, do have Nans. \n",
        "\n",
        "Additionally, it's is usually important to think about what parts of your data is improtant before you apply any sort of machine learning algorithm. This process is called \"Feature Engineering\". For deep learning, this processs is not as important, as deep learning automates feature extraction. However, for any shallow learning algorithms, feature engineering is a must. \n",
        "\n",
        "In this application, we will skip ahead a bit. Instead of thouroughly investigating each variable and determining which ones correlate with the output most thoroughly, we will just use \"Sex\" and \"Pclass\", since, from the story of The Titanic, we know that sex and income correlate well with survival rate. \n",
        "\n"
      ],
      "metadata": {
        "id": "zWYgs1jfH7nV"
      }
    },
    {
      "cell_type": "code",
      "source": [
        "raw_data.drop([\"PassengerId\", \"Cabin\", \"Embarked\",\n",
        "               \"Name\", \"Age\", \"SibSp\", \"Parch\", \"Ticket\", \"Fare\"], axis = 1, inplace = True)\n"
      ],
      "metadata": {
        "id": "fzNZPGQk69D0"
      },
      "execution_count": null,
      "outputs": []
    },
    {
      "cell_type": "markdown",
      "source": [
        "Great, we have dropped all the rows of data that we don't want. Let's look at what we have again. "
      ],
      "metadata": {
        "id": "A8-ibKSn-DCI"
      }
    },
    {
      "cell_type": "code",
      "source": [
        "raw_data.head()"
      ],
      "metadata": {
        "colab": {
          "base_uri": "https://localhost:8080/",
          "height": 206
        },
        "id": "EH1yh4lX-CiM",
        "outputId": "d9e18d7b-0d66-44bb-99ee-ceb8e37c90a5"
      },
      "execution_count": null,
      "outputs": [
        {
          "output_type": "execute_result",
          "data": {
            "text/plain": [
              "   Survived  Pclass     Sex\n",
              "0         0       3    male\n",
              "1         1       1  female\n",
              "2         1       3  female\n",
              "3         1       1  female\n",
              "4         0       3    male"
            ],
            "text/html": [
              "\n",
              "  <div id=\"df-962f15c2-a72e-4289-bd3b-c5c66a2e7bf6\">\n",
              "    <div class=\"colab-df-container\">\n",
              "      <div>\n",
              "<style scoped>\n",
              "    .dataframe tbody tr th:only-of-type {\n",
              "        vertical-align: middle;\n",
              "    }\n",
              "\n",
              "    .dataframe tbody tr th {\n",
              "        vertical-align: top;\n",
              "    }\n",
              "\n",
              "    .dataframe thead th {\n",
              "        text-align: right;\n",
              "    }\n",
              "</style>\n",
              "<table border=\"1\" class=\"dataframe\">\n",
              "  <thead>\n",
              "    <tr style=\"text-align: right;\">\n",
              "      <th></th>\n",
              "      <th>Survived</th>\n",
              "      <th>Pclass</th>\n",
              "      <th>Sex</th>\n",
              "    </tr>\n",
              "  </thead>\n",
              "  <tbody>\n",
              "    <tr>\n",
              "      <th>0</th>\n",
              "      <td>0</td>\n",
              "      <td>3</td>\n",
              "      <td>male</td>\n",
              "    </tr>\n",
              "    <tr>\n",
              "      <th>1</th>\n",
              "      <td>1</td>\n",
              "      <td>1</td>\n",
              "      <td>female</td>\n",
              "    </tr>\n",
              "    <tr>\n",
              "      <th>2</th>\n",
              "      <td>1</td>\n",
              "      <td>3</td>\n",
              "      <td>female</td>\n",
              "    </tr>\n",
              "    <tr>\n",
              "      <th>3</th>\n",
              "      <td>1</td>\n",
              "      <td>1</td>\n",
              "      <td>female</td>\n",
              "    </tr>\n",
              "    <tr>\n",
              "      <th>4</th>\n",
              "      <td>0</td>\n",
              "      <td>3</td>\n",
              "      <td>male</td>\n",
              "    </tr>\n",
              "  </tbody>\n",
              "</table>\n",
              "</div>\n",
              "      <button class=\"colab-df-convert\" onclick=\"convertToInteractive('df-962f15c2-a72e-4289-bd3b-c5c66a2e7bf6')\"\n",
              "              title=\"Convert this dataframe to an interactive table.\"\n",
              "              style=\"display:none;\">\n",
              "        \n",
              "  <svg xmlns=\"http://www.w3.org/2000/svg\" height=\"24px\"viewBox=\"0 0 24 24\"\n",
              "       width=\"24px\">\n",
              "    <path d=\"M0 0h24v24H0V0z\" fill=\"none\"/>\n",
              "    <path d=\"M18.56 5.44l.94 2.06.94-2.06 2.06-.94-2.06-.94-.94-2.06-.94 2.06-2.06.94zm-11 1L8.5 8.5l.94-2.06 2.06-.94-2.06-.94L8.5 2.5l-.94 2.06-2.06.94zm10 10l.94 2.06.94-2.06 2.06-.94-2.06-.94-.94-2.06-.94 2.06-2.06.94z\"/><path d=\"M17.41 7.96l-1.37-1.37c-.4-.4-.92-.59-1.43-.59-.52 0-1.04.2-1.43.59L10.3 9.45l-7.72 7.72c-.78.78-.78 2.05 0 2.83L4 21.41c.39.39.9.59 1.41.59.51 0 1.02-.2 1.41-.59l7.78-7.78 2.81-2.81c.8-.78.8-2.07 0-2.86zM5.41 20L4 18.59l7.72-7.72 1.47 1.35L5.41 20z\"/>\n",
              "  </svg>\n",
              "      </button>\n",
              "      \n",
              "  <style>\n",
              "    .colab-df-container {\n",
              "      display:flex;\n",
              "      flex-wrap:wrap;\n",
              "      gap: 12px;\n",
              "    }\n",
              "\n",
              "    .colab-df-convert {\n",
              "      background-color: #E8F0FE;\n",
              "      border: none;\n",
              "      border-radius: 50%;\n",
              "      cursor: pointer;\n",
              "      display: none;\n",
              "      fill: #1967D2;\n",
              "      height: 32px;\n",
              "      padding: 0 0 0 0;\n",
              "      width: 32px;\n",
              "    }\n",
              "\n",
              "    .colab-df-convert:hover {\n",
              "      background-color: #E2EBFA;\n",
              "      box-shadow: 0px 1px 2px rgba(60, 64, 67, 0.3), 0px 1px 3px 1px rgba(60, 64, 67, 0.15);\n",
              "      fill: #174EA6;\n",
              "    }\n",
              "\n",
              "    [theme=dark] .colab-df-convert {\n",
              "      background-color: #3B4455;\n",
              "      fill: #D2E3FC;\n",
              "    }\n",
              "\n",
              "    [theme=dark] .colab-df-convert:hover {\n",
              "      background-color: #434B5C;\n",
              "      box-shadow: 0px 1px 3px 1px rgba(0, 0, 0, 0.15);\n",
              "      filter: drop-shadow(0px 1px 2px rgba(0, 0, 0, 0.3));\n",
              "      fill: #FFFFFF;\n",
              "    }\n",
              "  </style>\n",
              "\n",
              "      <script>\n",
              "        const buttonEl =\n",
              "          document.querySelector('#df-962f15c2-a72e-4289-bd3b-c5c66a2e7bf6 button.colab-df-convert');\n",
              "        buttonEl.style.display =\n",
              "          google.colab.kernel.accessAllowed ? 'block' : 'none';\n",
              "\n",
              "        async function convertToInteractive(key) {\n",
              "          const element = document.querySelector('#df-962f15c2-a72e-4289-bd3b-c5c66a2e7bf6');\n",
              "          const dataTable =\n",
              "            await google.colab.kernel.invokeFunction('convertToInteractive',\n",
              "                                                     [key], {});\n",
              "          if (!dataTable) return;\n",
              "\n",
              "          const docLinkHtml = 'Like what you see? Visit the ' +\n",
              "            '<a target=\"_blank\" href=https://colab.research.google.com/notebooks/data_table.ipynb>data table notebook</a>'\n",
              "            + ' to learn more about interactive tables.';\n",
              "          element.innerHTML = '';\n",
              "          dataTable['output_type'] = 'display_data';\n",
              "          await google.colab.output.renderOutput(dataTable, element);\n",
              "          const docLink = document.createElement('div');\n",
              "          docLink.innerHTML = docLinkHtml;\n",
              "          element.appendChild(docLink);\n",
              "        }\n",
              "      </script>\n",
              "    </div>\n",
              "  </div>\n",
              "  "
            ]
          },
          "metadata": {},
          "execution_count": 22
        }
      ]
    },
    {
      "cell_type": "markdown",
      "source": [
        "I mentioned earlier that computers can't operate on strings (words) such as \"male\" and \"female\". We must assign numbers as labels (0 or 1) instead of the string label currently in the data. "
      ],
      "metadata": {
        "id": "9tDFBjdZ-mp4"
      }
    },
    {
      "cell_type": "code",
      "source": [
        "import numpy as np #so we can use the \"where\" function.\n",
        "raw_data['Sex'] = np.where(raw_data['Sex'] == 'male', 0, raw_data['Sex'])# read this like \"where raw_data['Sex'] = male\n",
        "#replace 'male' with 0. Otherwise, just use the value in raw_data['Sex']. \n",
        "raw_data['Sex'] = np.where(raw_data['Sex'] == 'female', 1, raw_data['Sex'])"
      ],
      "metadata": {
        "id": "-EN4opukpXdj"
      },
      "execution_count": null,
      "outputs": []
    },
    {
      "cell_type": "markdown",
      "source": [
        "Now, it's time to split up the data for training. "
      ],
      "metadata": {
        "id": "-2lcIpH5tKPG"
      }
    },
    {
      "cell_type": "markdown",
      "source": [
        "## Training, Validating, and Testing"
      ],
      "metadata": {
        "id": "hszaGXLHP3UO"
      }
    },
    {
      "cell_type": "markdown",
      "source": [
        "All machine learining tasks need a training, validation, and testing dataset. To get these, you take your raw data, and simply split it into three parts. Commonly, 80% of your raw data becomes the training datset, 10% becomes your validation set, and the last 10% becomes your testing dataset. \n",
        "\n",
        "The reason for the training and testing sets should be fairly intuitive. Think about what you do in school: you learn new information from your teachers, the textbook, the internet, etc. Then, you are given a final exam to see how well you learned that new information. The questions on the exam are *similar* to what you learned from, but they are not the exact same. In the same way, we need to give the algorithm data to learn from, and seperate but similar data to test itself on. \n",
        "\n",
        "The reason for a validation set, however, might not be as clear. Validation sets and Testing sets are really similar; they are both datasets used as an evaluation tool for your algorithm. The key difference is that testing datsets are used *at the end* of the training process as the final check that your algorithm is working like you want it to, and validation is used to check incrementally during training. To continue our school analogy, if the training datset is like the information in your textbook that you learn from, and the testing datset is like the questions on your final exam, then the validation dataset is like the quizzes during the schoolyear. Fundamentally, they are no different than the questions on the final exam, but they are *used* differently. \n",
        "\n",
        "You might be thinking,\"Why in the world does a machine learning model have to have quizzes and a final exam? This feels weird and redundant\". That's a valid criticism, because it seems like a model should be able to just learn with a test dataset \"final exam\". We will take an in-depth look into the function of the validation dataset in a later module, but I want to at least give a quick sneak peek into the rationale here so you aren't left befuddled. The reason we have all three datsets has to do with two keywords you will see pop up time and time again: **overfitting** and **hyperparameter tuning**. \n",
        "\n",
        "Overfitting basically means that your model has memorized the training dataset, but not the underlying patterns. It's like if you sat down and memorized a bunch of example problems from your math book, but never actually took the time to understand what was happening. What happens when it comes quiz time? You fail becuase you never learned how to actually do the problem, *you just memorized the examples you were given*. The same thing can happen to a machine learning model, and giving it \"quizzes\" along the way can help us catch when the model isn't actually learning, but is just memorizing the training dataset. When it gets to the validation dataset, we can see it fail and make adjustments. \n",
        "\n",
        "How do we make adjustments? That's where hyperparameter tuning comes in. Hyperparameters are variables you can change to modify the way in which a machine learning network behaves. However, it is possible to overtune the model to perform well on the validation dataset, which will again lead to overfitting. But this time, you won't be able to notice the overfitting because you have made it overfit to the validation dataset. This is where the test datset comes into play; the test dataset makes sure *you yourself* didn't cause the model to overfit.\n",
        "\n",
        "To make an analogy, imagine that your machine learning model is a physical machine -- perhaps a racecar. Hyperparameters are the things you can tweak and tune to make your model -- your racecar -- work better. You can tweak things like engine torque, wheel size, and chassis shape to try to make the car run better on a given track. \n",
        "\n",
        "Let's say you are a racecar engineer. You design a car and you run simulations and such to make sure your car will work, based on data from previous cars built. This is like training your model on the training dataset. Then, you build a prototype racecar and bring it to the track and test it. After testing, you realize you could change some things to make it run better -- analysis shows that increasing engine torque would make it run better on the track because the track is really hilly. So, you go back and tweak your design to have higher torque. This is like hyperparameter tuning. You do this process for a while, tweaking the torque until you are convinced you have the best racecar possible. You ship it to production and it goes out to the world. But soon, you get complaints from customers saying that your racecar is being outran by most other racecars on all tracks that aren't hilly! Why did this happen? You overtuned you racecar design for specifically hilly tracks when it needed to perform on all types of tracks. So, when the racecar performs on anything other than its track (the track it was validated on), it performs poorly. If only we had tested on other racetracks before shipping to production! \n",
        "\n",
        "This is, in essence, what can happen to machine learning models when you do hyperparameter tuning. If you tune your racecar -- your ML model -- to perform really well on one track (on a validation dataset), you run the risk of making it perform poorly on real racetracks (the data you use your model on in the real world). To safeguard against this, we use a testing dataset (other racetracks) to make sure that our model can perform on similar data that we didn't specifically tune it to perform well on. \n",
        "\n",
        "So, now that we have covered why you need to split raw data into three sets, let's actually do it. \n"
      ],
      "metadata": {
        "id": "Hham8RzcP_65"
      }
    },
    {
      "cell_type": "code",
      "source": [
        "from sklearn.model_selection import train_test_split\n",
        "train_data ,test_and_val_data = train_test_split(raw_data, test_size = .20, random_state = 2) #split into train and an aggragated test and val\n",
        "val_data, test_data = train_test_split(test_and_val_data, test_size = .50, random_state = 2)#split aggregagted into test and val"
      ],
      "metadata": {
        "id": "5v2uqXcKMbQ_"
      },
      "execution_count": null,
      "outputs": []
    },
    {
      "cell_type": "markdown",
      "source": [
        "This code uses the library scikit-learn (which we talked about earlier) to split our raw data into train, test, and validation. Read about the train_test_split function [here](https://scikit-learn.org/stable/modules/generated/sklearn.model_selection.train_test_split.html). \n",
        "\n",
        "That link takes you to the published documentation on scikit-learn. All major libraries you use in machine learning (and anywhere else, really) will have docuumentation published on how their functions work, how you can use them, and (often) example code of it in use. The documentation (sometimes called an api) is your primary resource in figuring out how to use any function included in python libraries.\n",
        "\n",
        "**OFTEN, LOOKING AT THE PUBLISHED DOCUMENTATION IS EASIER THAN JUST GOOGLING IT**\n",
        "\n"
      ],
      "metadata": {
        "id": "7ETDWxv6U_sH"
      }
    },
    {
      "cell_type": "markdown",
      "source": [
        "## Let's get to work!"
      ],
      "metadata": {
        "id": "ERzdkbEkW6PI"
      }
    },
    {
      "cell_type": "markdown",
      "source": [
        "Now, lets take our data and get to classifying. For this excersise, we are going to be using an algorithm called random forests. It's not super critical that you have a deep understanding of how the algorithm works. If you want to learn more, [here](https://www.analyticsvidhya.com/blog/2021/10/an-introduction-to-random-forest-algorithm-for-beginners/) is a good resource on random forests."
      ],
      "metadata": {
        "id": "n7YU0Ql0W_mG"
      }
    },
    {
      "cell_type": "markdown",
      "source": [
        "First, we split the test data into input and output. \"Y\" is our labels for who survived. \"X\" are our input variables: Purchasing class and sex. Then, we make a Random Forest Model with 10 trees in our forest, and a max_depth of 5 on each tree. "
      ],
      "metadata": {
        "id": "bvVDtESn5lc2"
      }
    },
    {
      "cell_type": "code",
      "source": [
        "from sklearn.ensemble import RandomForestClassifier\n",
        "Y = train_data['Survived']\n",
        "X = train_data[['Pclass', 'Sex']]\n",
        "model = RandomForestClassifier(10, max_depth = 5)\n"
      ],
      "metadata": {
        "id": "orP4R7mdt8Fn"
      },
      "execution_count": null,
      "outputs": []
    },
    {
      "cell_type": "markdown",
      "source": [
        "Next, we \"fit\" the model. This is where the algorithm actually does the learning. It is called \"fit\" because we are \"fitting\" the algorithm onto our training data. "
      ],
      "metadata": {
        "id": "e3jdSrEu7e3m"
      }
    },
    {
      "cell_type": "code",
      "source": [
        "model.fit(X,Y)"
      ],
      "metadata": {
        "id": "B3a4MaAuygMt",
        "colab": {
          "base_uri": "https://localhost:8080/"
        },
        "outputId": "1f64560a-aec7-45bc-f3bd-ee499dc60559"
      },
      "execution_count": null,
      "outputs": [
        {
          "output_type": "execute_result",
          "data": {
            "text/plain": [
              "RandomForestClassifier(max_depth=5, n_estimators=10)"
            ]
          },
          "metadata": {},
          "execution_count": 26
        }
      ]
    },
    {
      "cell_type": "markdown",
      "source": [
        "Now, we can evaluate how well our model works on our validation data. If you followed all the above instructions, your model should be about 75% accurate. "
      ],
      "metadata": {
        "id": "YZ9v03Wo757g"
      }
    },
    {
      "cell_type": "code",
      "source": [
        "val_Y = val_data['Survived']\n",
        "val_X = val_data[['Pclass', 'Sex']]\n",
        "predictions = model.predict(val_X)"
      ],
      "metadata": {
        "id": "Eb1KMcOz0r5c"
      },
      "execution_count": null,
      "outputs": []
    },
    {
      "cell_type": "code",
      "source": [
        "accuracy = np.sum(val_Y == predictions)/len(val_X)*100\n",
        "print(\"Accuracy: \" , accuracy)"
      ],
      "metadata": {
        "colab": {
          "base_uri": "https://localhost:8080/"
        },
        "id": "7G-BG8VxzCny",
        "outputId": "c68e63a3-12b1-4455-d801-626454a4af5c"
      },
      "execution_count": null,
      "outputs": [
        {
          "output_type": "stream",
          "name": "stdout",
          "text": [
            "Accuracy:  75.28089887640449\n"
          ]
        }
      ]
    },
    {
      "cell_type": "markdown",
      "source": [
        "# Now, make some changes!"
      ],
      "metadata": {
        "id": "86jqcYr586lO"
      }
    },
    {
      "cell_type": "markdown",
      "source": [
        "Congradulations! You have now trained your first machine learning model! Now, it's time to make it your own. I only specified the number of trees and the depth of the trees, but there are more hyperparameters you can tune. Look at the documentation, here at https://scikit-learn.org/stable/modules/generated/sklearn.ensemble.RandomForestClassifier.html. Make your own changes, experiment and see if you can get better results.\n",
        "\n",
        "Then, its time for a real challenge: you should try to include more rows of data. If you remember we dropped many rows of data earlier for the sake of simplicity. However, there is a lot of information embedded into that data, and a machine learning model is only as good as its data. More than likely, including more relevant data will lead to more improvements than hyperparameter tuning. Each type of data has its own issues. Some have missing data points (NaNs), which will cause the training to crash unless you either get rid of those data points or interpolate some value for the missing value. Some are categorical, others aren't. Categorical data are either number labels ( Ex: 1,2,3) or are strings (words) that need to be converted to number labels. before you can use it. Pick one column of data that you think would be relevant to determining which people survived the titanic and which ones didn't, and then try to incorporate it into the model. \n",
        "\n",
        "When you run into issues, ask yourself:\n",
        "\n",
        "1) Are there any NaN (missing values) in the data column I am using?\n",
        "\n",
        "2) Are there any strings (words) left in your data?\n",
        "\n",
        "You may run into other issues as well. Google is your friend here; when you get an error code, be sure to google that error code and try to figure out what it means. Then, once you understand what the error is telling you, try to find where the error is in your code. \n",
        "\n",
        "When you're done, evaluate your model against the testing dataset to get your final accuracy. "
      ],
      "metadata": {
        "id": "kymxoleX8-hx"
      }
    },
    {
      "cell_type": "code",
      "source": [
        "test_Y = test_data['Survived']\n",
        "test_X = test_data[['Pclass', 'Sex']]\n",
        "predictions_test = model.predict(test_X)\n",
        "accuracy_test = np.sum(test_Y == predictions_test)/len(_X)*100\n",
        "print(\"Final Accuracy: \" , accuracy_test)"
      ],
      "metadata": {
        "colab": {
          "base_uri": "https://localhost:8080/"
        },
        "id": "4QZpAKS_1wkx",
        "outputId": "19215493-e1cf-4144-d042-7b075550ec7f"
      },
      "execution_count": null,
      "outputs": [
        {
          "output_type": "stream",
          "name": "stdout",
          "text": [
            "Final Accuracy:  74.15730337078652\n"
          ]
        }
      ]
    },
    {
      "cell_type": "code",
      "source": [
        "import pandas as pd\n",
        "\n",
        "raw_data = pd.read_csv('/content/test_directory/titanic-classification/data.csv')\n",
        "raw_data.head()"
      ],
      "metadata": {
        "id": "CvdhYhYoBleH",
        "colab": {
          "base_uri": "https://localhost:8080/",
          "height": 285
        },
        "outputId": "1af55892-f0a6-4304-8006-cdef8733a10c"
      },
      "execution_count": null,
      "outputs": [
        {
          "output_type": "execute_result",
          "data": {
            "text/plain": [
              "   PassengerId  Survived  Pclass  \\\n",
              "0            1         0       3   \n",
              "1            2         1       1   \n",
              "2            3         1       3   \n",
              "3            4         1       1   \n",
              "4            5         0       3   \n",
              "\n",
              "                                                Name     Sex   Age  SibSp  \\\n",
              "0                            Braund, Mr. Owen Harris    male  22.0      1   \n",
              "1  Cumings, Mrs. John Bradley (Florence Briggs Th...  female  38.0      1   \n",
              "2                             Heikkinen, Miss. Laina  female  26.0      0   \n",
              "3       Futrelle, Mrs. Jacques Heath (Lily May Peel)  female  35.0      1   \n",
              "4                           Allen, Mr. William Henry    male  35.0      0   \n",
              "\n",
              "   Parch            Ticket     Fare Cabin Embarked  \n",
              "0      0         A/5 21171   7.2500   NaN        S  \n",
              "1      0          PC 17599  71.2833   C85        C  \n",
              "2      0  STON/O2. 3101282   7.9250   NaN        S  \n",
              "3      0            113803  53.1000  C123        S  \n",
              "4      0            373450   8.0500   NaN        S  "
            ],
            "text/html": [
              "\n",
              "  <div id=\"df-052e690b-c3dc-4c0c-b12e-847373530108\">\n",
              "    <div class=\"colab-df-container\">\n",
              "      <div>\n",
              "<style scoped>\n",
              "    .dataframe tbody tr th:only-of-type {\n",
              "        vertical-align: middle;\n",
              "    }\n",
              "\n",
              "    .dataframe tbody tr th {\n",
              "        vertical-align: top;\n",
              "    }\n",
              "\n",
              "    .dataframe thead th {\n",
              "        text-align: right;\n",
              "    }\n",
              "</style>\n",
              "<table border=\"1\" class=\"dataframe\">\n",
              "  <thead>\n",
              "    <tr style=\"text-align: right;\">\n",
              "      <th></th>\n",
              "      <th>PassengerId</th>\n",
              "      <th>Survived</th>\n",
              "      <th>Pclass</th>\n",
              "      <th>Name</th>\n",
              "      <th>Sex</th>\n",
              "      <th>Age</th>\n",
              "      <th>SibSp</th>\n",
              "      <th>Parch</th>\n",
              "      <th>Ticket</th>\n",
              "      <th>Fare</th>\n",
              "      <th>Cabin</th>\n",
              "      <th>Embarked</th>\n",
              "    </tr>\n",
              "  </thead>\n",
              "  <tbody>\n",
              "    <tr>\n",
              "      <th>0</th>\n",
              "      <td>1</td>\n",
              "      <td>0</td>\n",
              "      <td>3</td>\n",
              "      <td>Braund, Mr. Owen Harris</td>\n",
              "      <td>male</td>\n",
              "      <td>22.0</td>\n",
              "      <td>1</td>\n",
              "      <td>0</td>\n",
              "      <td>A/5 21171</td>\n",
              "      <td>7.2500</td>\n",
              "      <td>NaN</td>\n",
              "      <td>S</td>\n",
              "    </tr>\n",
              "    <tr>\n",
              "      <th>1</th>\n",
              "      <td>2</td>\n",
              "      <td>1</td>\n",
              "      <td>1</td>\n",
              "      <td>Cumings, Mrs. John Bradley (Florence Briggs Th...</td>\n",
              "      <td>female</td>\n",
              "      <td>38.0</td>\n",
              "      <td>1</td>\n",
              "      <td>0</td>\n",
              "      <td>PC 17599</td>\n",
              "      <td>71.2833</td>\n",
              "      <td>C85</td>\n",
              "      <td>C</td>\n",
              "    </tr>\n",
              "    <tr>\n",
              "      <th>2</th>\n",
              "      <td>3</td>\n",
              "      <td>1</td>\n",
              "      <td>3</td>\n",
              "      <td>Heikkinen, Miss. Laina</td>\n",
              "      <td>female</td>\n",
              "      <td>26.0</td>\n",
              "      <td>0</td>\n",
              "      <td>0</td>\n",
              "      <td>STON/O2. 3101282</td>\n",
              "      <td>7.9250</td>\n",
              "      <td>NaN</td>\n",
              "      <td>S</td>\n",
              "    </tr>\n",
              "    <tr>\n",
              "      <th>3</th>\n",
              "      <td>4</td>\n",
              "      <td>1</td>\n",
              "      <td>1</td>\n",
              "      <td>Futrelle, Mrs. Jacques Heath (Lily May Peel)</td>\n",
              "      <td>female</td>\n",
              "      <td>35.0</td>\n",
              "      <td>1</td>\n",
              "      <td>0</td>\n",
              "      <td>113803</td>\n",
              "      <td>53.1000</td>\n",
              "      <td>C123</td>\n",
              "      <td>S</td>\n",
              "    </tr>\n",
              "    <tr>\n",
              "      <th>4</th>\n",
              "      <td>5</td>\n",
              "      <td>0</td>\n",
              "      <td>3</td>\n",
              "      <td>Allen, Mr. William Henry</td>\n",
              "      <td>male</td>\n",
              "      <td>35.0</td>\n",
              "      <td>0</td>\n",
              "      <td>0</td>\n",
              "      <td>373450</td>\n",
              "      <td>8.0500</td>\n",
              "      <td>NaN</td>\n",
              "      <td>S</td>\n",
              "    </tr>\n",
              "  </tbody>\n",
              "</table>\n",
              "</div>\n",
              "      <button class=\"colab-df-convert\" onclick=\"convertToInteractive('df-052e690b-c3dc-4c0c-b12e-847373530108')\"\n",
              "              title=\"Convert this dataframe to an interactive table.\"\n",
              "              style=\"display:none;\">\n",
              "        \n",
              "  <svg xmlns=\"http://www.w3.org/2000/svg\" height=\"24px\"viewBox=\"0 0 24 24\"\n",
              "       width=\"24px\">\n",
              "    <path d=\"M0 0h24v24H0V0z\" fill=\"none\"/>\n",
              "    <path d=\"M18.56 5.44l.94 2.06.94-2.06 2.06-.94-2.06-.94-.94-2.06-.94 2.06-2.06.94zm-11 1L8.5 8.5l.94-2.06 2.06-.94-2.06-.94L8.5 2.5l-.94 2.06-2.06.94zm10 10l.94 2.06.94-2.06 2.06-.94-2.06-.94-.94-2.06-.94 2.06-2.06.94z\"/><path d=\"M17.41 7.96l-1.37-1.37c-.4-.4-.92-.59-1.43-.59-.52 0-1.04.2-1.43.59L10.3 9.45l-7.72 7.72c-.78.78-.78 2.05 0 2.83L4 21.41c.39.39.9.59 1.41.59.51 0 1.02-.2 1.41-.59l7.78-7.78 2.81-2.81c.8-.78.8-2.07 0-2.86zM5.41 20L4 18.59l7.72-7.72 1.47 1.35L5.41 20z\"/>\n",
              "  </svg>\n",
              "      </button>\n",
              "      \n",
              "  <style>\n",
              "    .colab-df-container {\n",
              "      display:flex;\n",
              "      flex-wrap:wrap;\n",
              "      gap: 12px;\n",
              "    }\n",
              "\n",
              "    .colab-df-convert {\n",
              "      background-color: #E8F0FE;\n",
              "      border: none;\n",
              "      border-radius: 50%;\n",
              "      cursor: pointer;\n",
              "      display: none;\n",
              "      fill: #1967D2;\n",
              "      height: 32px;\n",
              "      padding: 0 0 0 0;\n",
              "      width: 32px;\n",
              "    }\n",
              "\n",
              "    .colab-df-convert:hover {\n",
              "      background-color: #E2EBFA;\n",
              "      box-shadow: 0px 1px 2px rgba(60, 64, 67, 0.3), 0px 1px 3px 1px rgba(60, 64, 67, 0.15);\n",
              "      fill: #174EA6;\n",
              "    }\n",
              "\n",
              "    [theme=dark] .colab-df-convert {\n",
              "      background-color: #3B4455;\n",
              "      fill: #D2E3FC;\n",
              "    }\n",
              "\n",
              "    [theme=dark] .colab-df-convert:hover {\n",
              "      background-color: #434B5C;\n",
              "      box-shadow: 0px 1px 3px 1px rgba(0, 0, 0, 0.15);\n",
              "      filter: drop-shadow(0px 1px 2px rgba(0, 0, 0, 0.3));\n",
              "      fill: #FFFFFF;\n",
              "    }\n",
              "  </style>\n",
              "\n",
              "      <script>\n",
              "        const buttonEl =\n",
              "          document.querySelector('#df-052e690b-c3dc-4c0c-b12e-847373530108 button.colab-df-convert');\n",
              "        buttonEl.style.display =\n",
              "          google.colab.kernel.accessAllowed ? 'block' : 'none';\n",
              "\n",
              "        async function convertToInteractive(key) {\n",
              "          const element = document.querySelector('#df-052e690b-c3dc-4c0c-b12e-847373530108');\n",
              "          const dataTable =\n",
              "            await google.colab.kernel.invokeFunction('convertToInteractive',\n",
              "                                                     [key], {});\n",
              "          if (!dataTable) return;\n",
              "\n",
              "          const docLinkHtml = 'Like what you see? Visit the ' +\n",
              "            '<a target=\"_blank\" href=https://colab.research.google.com/notebooks/data_table.ipynb>data table notebook</a>'\n",
              "            + ' to learn more about interactive tables.';\n",
              "          element.innerHTML = '';\n",
              "          dataTable['output_type'] = 'display_data';\n",
              "          await google.colab.output.renderOutput(dataTable, element);\n",
              "          const docLink = document.createElement('div');\n",
              "          docLink.innerHTML = docLinkHtml;\n",
              "          element.appendChild(docLink);\n",
              "        }\n",
              "      </script>\n",
              "    </div>\n",
              "  </div>\n",
              "  "
            ]
          },
          "metadata": {},
          "execution_count": 81
        }
      ]
    },
    {
      "cell_type": "code",
      "source": [
        "type(raw_data)"
      ],
      "metadata": {
        "colab": {
          "base_uri": "https://localhost:8080/"
        },
        "id": "xEWh3lxL8myf",
        "outputId": "e3b034ba-a104-447c-b61d-c5d77e214b3a"
      },
      "execution_count": null,
      "outputs": [
        {
          "output_type": "execute_result",
          "data": {
            "text/plain": [
              "pandas.core.frame.DataFrame"
            ]
          },
          "metadata": {},
          "execution_count": 82
        }
      ]
    },
    {
      "cell_type": "code",
      "source": [
        "raw_data.drop([\"PassengerId\", \"Cabin\", \"Embarked\",\n",
        "               \"Name\", \"SibSp\", \"Parch\", \"Ticket\", \"Age\"], axis = 1, inplace = True)"
      ],
      "metadata": {
        "id": "M8iXLEmi8r_n"
      },
      "execution_count": null,
      "outputs": []
    },
    {
      "cell_type": "code",
      "source": [
        "raw_data.head()"
      ],
      "metadata": {
        "colab": {
          "base_uri": "https://localhost:8080/",
          "height": 206
        },
        "id": "KA58ywhe8vjs",
        "outputId": "ae2c4d22-6871-46f7-94f8-03d82145ac64"
      },
      "execution_count": null,
      "outputs": [
        {
          "output_type": "execute_result",
          "data": {
            "text/plain": [
              "   Survived  Pclass     Sex     Fare\n",
              "0         0       3    male   7.2500\n",
              "1         1       1  female  71.2833\n",
              "2         1       3  female   7.9250\n",
              "3         1       1  female  53.1000\n",
              "4         0       3    male   8.0500"
            ],
            "text/html": [
              "\n",
              "  <div id=\"df-891e9bf3-bb23-45aa-955e-d38b8bcecec1\">\n",
              "    <div class=\"colab-df-container\">\n",
              "      <div>\n",
              "<style scoped>\n",
              "    .dataframe tbody tr th:only-of-type {\n",
              "        vertical-align: middle;\n",
              "    }\n",
              "\n",
              "    .dataframe tbody tr th {\n",
              "        vertical-align: top;\n",
              "    }\n",
              "\n",
              "    .dataframe thead th {\n",
              "        text-align: right;\n",
              "    }\n",
              "</style>\n",
              "<table border=\"1\" class=\"dataframe\">\n",
              "  <thead>\n",
              "    <tr style=\"text-align: right;\">\n",
              "      <th></th>\n",
              "      <th>Survived</th>\n",
              "      <th>Pclass</th>\n",
              "      <th>Sex</th>\n",
              "      <th>Fare</th>\n",
              "    </tr>\n",
              "  </thead>\n",
              "  <tbody>\n",
              "    <tr>\n",
              "      <th>0</th>\n",
              "      <td>0</td>\n",
              "      <td>3</td>\n",
              "      <td>male</td>\n",
              "      <td>7.2500</td>\n",
              "    </tr>\n",
              "    <tr>\n",
              "      <th>1</th>\n",
              "      <td>1</td>\n",
              "      <td>1</td>\n",
              "      <td>female</td>\n",
              "      <td>71.2833</td>\n",
              "    </tr>\n",
              "    <tr>\n",
              "      <th>2</th>\n",
              "      <td>1</td>\n",
              "      <td>3</td>\n",
              "      <td>female</td>\n",
              "      <td>7.9250</td>\n",
              "    </tr>\n",
              "    <tr>\n",
              "      <th>3</th>\n",
              "      <td>1</td>\n",
              "      <td>1</td>\n",
              "      <td>female</td>\n",
              "      <td>53.1000</td>\n",
              "    </tr>\n",
              "    <tr>\n",
              "      <th>4</th>\n",
              "      <td>0</td>\n",
              "      <td>3</td>\n",
              "      <td>male</td>\n",
              "      <td>8.0500</td>\n",
              "    </tr>\n",
              "  </tbody>\n",
              "</table>\n",
              "</div>\n",
              "      <button class=\"colab-df-convert\" onclick=\"convertToInteractive('df-891e9bf3-bb23-45aa-955e-d38b8bcecec1')\"\n",
              "              title=\"Convert this dataframe to an interactive table.\"\n",
              "              style=\"display:none;\">\n",
              "        \n",
              "  <svg xmlns=\"http://www.w3.org/2000/svg\" height=\"24px\"viewBox=\"0 0 24 24\"\n",
              "       width=\"24px\">\n",
              "    <path d=\"M0 0h24v24H0V0z\" fill=\"none\"/>\n",
              "    <path d=\"M18.56 5.44l.94 2.06.94-2.06 2.06-.94-2.06-.94-.94-2.06-.94 2.06-2.06.94zm-11 1L8.5 8.5l.94-2.06 2.06-.94-2.06-.94L8.5 2.5l-.94 2.06-2.06.94zm10 10l.94 2.06.94-2.06 2.06-.94-2.06-.94-.94-2.06-.94 2.06-2.06.94z\"/><path d=\"M17.41 7.96l-1.37-1.37c-.4-.4-.92-.59-1.43-.59-.52 0-1.04.2-1.43.59L10.3 9.45l-7.72 7.72c-.78.78-.78 2.05 0 2.83L4 21.41c.39.39.9.59 1.41.59.51 0 1.02-.2 1.41-.59l7.78-7.78 2.81-2.81c.8-.78.8-2.07 0-2.86zM5.41 20L4 18.59l7.72-7.72 1.47 1.35L5.41 20z\"/>\n",
              "  </svg>\n",
              "      </button>\n",
              "      \n",
              "  <style>\n",
              "    .colab-df-container {\n",
              "      display:flex;\n",
              "      flex-wrap:wrap;\n",
              "      gap: 12px;\n",
              "    }\n",
              "\n",
              "    .colab-df-convert {\n",
              "      background-color: #E8F0FE;\n",
              "      border: none;\n",
              "      border-radius: 50%;\n",
              "      cursor: pointer;\n",
              "      display: none;\n",
              "      fill: #1967D2;\n",
              "      height: 32px;\n",
              "      padding: 0 0 0 0;\n",
              "      width: 32px;\n",
              "    }\n",
              "\n",
              "    .colab-df-convert:hover {\n",
              "      background-color: #E2EBFA;\n",
              "      box-shadow: 0px 1px 2px rgba(60, 64, 67, 0.3), 0px 1px 3px 1px rgba(60, 64, 67, 0.15);\n",
              "      fill: #174EA6;\n",
              "    }\n",
              "\n",
              "    [theme=dark] .colab-df-convert {\n",
              "      background-color: #3B4455;\n",
              "      fill: #D2E3FC;\n",
              "    }\n",
              "\n",
              "    [theme=dark] .colab-df-convert:hover {\n",
              "      background-color: #434B5C;\n",
              "      box-shadow: 0px 1px 3px 1px rgba(0, 0, 0, 0.15);\n",
              "      filter: drop-shadow(0px 1px 2px rgba(0, 0, 0, 0.3));\n",
              "      fill: #FFFFFF;\n",
              "    }\n",
              "  </style>\n",
              "\n",
              "      <script>\n",
              "        const buttonEl =\n",
              "          document.querySelector('#df-891e9bf3-bb23-45aa-955e-d38b8bcecec1 button.colab-df-convert');\n",
              "        buttonEl.style.display =\n",
              "          google.colab.kernel.accessAllowed ? 'block' : 'none';\n",
              "\n",
              "        async function convertToInteractive(key) {\n",
              "          const element = document.querySelector('#df-891e9bf3-bb23-45aa-955e-d38b8bcecec1');\n",
              "          const dataTable =\n",
              "            await google.colab.kernel.invokeFunction('convertToInteractive',\n",
              "                                                     [key], {});\n",
              "          if (!dataTable) return;\n",
              "\n",
              "          const docLinkHtml = 'Like what you see? Visit the ' +\n",
              "            '<a target=\"_blank\" href=https://colab.research.google.com/notebooks/data_table.ipynb>data table notebook</a>'\n",
              "            + ' to learn more about interactive tables.';\n",
              "          element.innerHTML = '';\n",
              "          dataTable['output_type'] = 'display_data';\n",
              "          await google.colab.output.renderOutput(dataTable, element);\n",
              "          const docLink = document.createElement('div');\n",
              "          docLink.innerHTML = docLinkHtml;\n",
              "          element.appendChild(docLink);\n",
              "        }\n",
              "      </script>\n",
              "    </div>\n",
              "  </div>\n",
              "  "
            ]
          },
          "metadata": {},
          "execution_count": 84
        }
      ]
    },
    {
      "cell_type": "code",
      "source": [
        "import numpy as np #so we can use the \"where\" function.\n",
        "raw_data['Sex'] = np.where(raw_data['Sex'] == 'male', 0, raw_data['Sex'])# read this like \"where raw_data['Sex'] = male\n",
        "#replace 'male' with 0. Otherwise, just use the value in raw_data['Sex']. \n",
        "raw_data['Sex'] = np.where(raw_data['Sex'] == 'female', 1, raw_data['Sex'])"
      ],
      "metadata": {
        "id": "2PHBw9R186Ee"
      },
      "execution_count": null,
      "outputs": []
    },
    {
      "cell_type": "code",
      "source": [
        "from sklearn.model_selection import train_test_split\n",
        "train_data ,test_and_val_data = train_test_split(raw_data, test_size = .20, random_state = 2) #split into train and an aggragated test and val\n",
        "val_data, test_data = train_test_split(test_and_val_data, test_size = .50, random_state = 2)#split aggregagted into test and val"
      ],
      "metadata": {
        "id": "ZzllhXtO8-F-"
      },
      "execution_count": null,
      "outputs": []
    },
    {
      "cell_type": "code",
      "source": [
        "from sklearn.ensemble import RandomForestClassifier\n",
        "Y = train_data['Survived']\n",
        "X = train_data[['Pclass', 'Sex','Fare']]\n",
        "model = RandomForestClassifier(10, max_depth = 5)"
      ],
      "metadata": {
        "id": "BqxjFO5h9DQ6"
      },
      "execution_count": null,
      "outputs": []
    },
    {
      "cell_type": "code",
      "source": [
        "model.fit(X,Y)"
      ],
      "metadata": {
        "colab": {
          "base_uri": "https://localhost:8080/"
        },
        "id": "qXktgww29HIv",
        "outputId": "b121c55b-6938-400a-fef4-12c1e832fce3"
      },
      "execution_count": null,
      "outputs": [
        {
          "output_type": "execute_result",
          "data": {
            "text/plain": [
              "RandomForestClassifier(max_depth=5, n_estimators=10)"
            ]
          },
          "metadata": {},
          "execution_count": 88
        }
      ]
    },
    {
      "cell_type": "code",
      "source": [
        "val_Y = val_data['Survived']\n",
        "val_X = val_data[['Pclass', 'Sex','Fare']]\n",
        "predictions = model.predict(val_X)"
      ],
      "metadata": {
        "id": "OyqXxpzp9Jz4"
      },
      "execution_count": null,
      "outputs": []
    },
    {
      "cell_type": "code",
      "source": [
        "accuracy = np.sum(val_Y == predictions)/len(val_X)*100\n",
        "print(\"Accuracy: \" , accuracy)"
      ],
      "metadata": {
        "colab": {
          "base_uri": "https://localhost:8080/"
        },
        "id": "WNRXki2e9Mgx",
        "outputId": "f15628f4-ba73-46ea-e454-f4aae3ab3a07"
      },
      "execution_count": null,
      "outputs": [
        {
          "output_type": "stream",
          "name": "stdout",
          "text": [
            "Accuracy:  82.02247191011236\n"
          ]
        }
      ]
    }
  ],
  "metadata": {
    "colab": {
      "provenance": []
    },
    "kernelspec": {
      "display_name": "Python 3",
      "name": "python3"
    },
    "language_info": {
      "name": "python"
    },
    "gpuClass": "standard",
    "accelerator": "GPU"
  },
  "nbformat": 4,
  "nbformat_minor": 0
}